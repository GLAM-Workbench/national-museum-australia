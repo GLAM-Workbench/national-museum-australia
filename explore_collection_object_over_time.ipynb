{
 "cells": [
  {
   "cell_type": "markdown",
   "metadata": {},
   "source": [
    "# Explore collection objects over time\n",
    "\n",
    "In this notebook we'll explore the temporal dimensions of the `object` data. When were objects created, collected, or used? To do that we'll extract the nested temporal data, see what's there, and create a few charts.\n",
    "\n",
    "[See here](exploring_object_records.ipynb) for an introduction to the `object` data, and [here to explore places](explore_objects_and_places.ipynb) associated with objects.\n",
    "\n",
    "If you haven't already, you'll either need to [harvest the `object` data](harvest_records.ipynb), or [unzip a pre-harvested dataset](unzip_preharvested_data.ipynb)."
   ]
  },
  {
   "cell_type": "markdown",
   "metadata": {},
   "source": [
    "<div class=\"alert alert-block alert-warning\">\n",
    "<p>If you haven't used one of these notebooks before, they're basically web pages in which you can write, edit, and run live code. They're meant to encourage experimentation, so don't feel nervous. Just try running a few cells and see what happens!</p>\n",
    "\n",
    "<p>\n",
    "    Some tips:\n",
    "    <ul>\n",
    "        <li>Code cells have boxes around them.</li>\n",
    "        <li>To run a code cell click on the cell and then hit <b>Shift+Enter</b>. The <b>Shift+Enter</b> combo will also move you to the next cell, so it's a quick way to work through the notebook.</li>\n",
    "        <li>While a cell is running a <b>*</b> appears in the square brackets next to the cell. Once the cell has finished running the asterix will be replaced with a number.</li>\n",
    "        <li>In most cases you'll want to start from the top of notebook and work your way down running each cell in turn. Later cells might depend on the results of earlier ones.</li>\n",
    "        <li>To edit a code cell, just click on it and type stuff. Remember to run the cell once you've finished editing.</li>\n",
    "    </ul>\n",
    "</p>\n",
    "\n",
    "<p><b>Is this thing on?</b> If you can't edit or run any of the code cells, you might be viewing a static (read only) version of this notebook. Click here to <a href=\"https://mybinder.org/v2/gh/GLAM-Workbench/national-museum-australia/master?urlpath=lab%2Ftree%2Fexplore_collection_object_over_time.ipynb\">load a <b>live</b> version</a> running on Binder.</p>\n",
    "\n",
    "</div>"
   ]
  },
  {
   "cell_type": "markdown",
   "metadata": {},
   "source": [
    "## Import what we need"
   ]
  },
  {
   "cell_type": "code",
   "execution_count": 5,
   "metadata": {},
   "outputs": [],
   "source": [
    "import pandas as pd\n",
    "from ipyleaflet import Map, Marker, Popup, MarkerCluster\n",
    "import ipywidgets as widgets\n",
    "from tinydb import TinyDB, Query\n",
    "from pandas import json_normalize\n",
    "import altair as alt\n",
    "from IPython.display import display, HTML, FileLink"
   ]
  },
  {
   "cell_type": "markdown",
   "metadata": {},
   "source": [
    "## Load the harvested data"
   ]
  },
  {
   "cell_type": "code",
   "execution_count": 2,
   "metadata": {},
   "outputs": [],
   "source": [
    "# Load JSON data from file\n",
    "db = TinyDB('nma_object_db.json')\n",
    "records = db.all()\n",
    "Object = Query()"
   ]
  },
  {
   "cell_type": "code",
   "execution_count": 3,
   "metadata": {},
   "outputs": [],
   "source": [
    "# Convert to a dataframe\n",
    "df = pd.DataFrame(records)"
   ]
  },
  {
   "cell_type": "markdown",
   "metadata": {},
   "source": [
    "## Extract the nested events data\n",
    "\n",
    "Events are linked to objects through the `temporal` field. This field contains nested data that we need to extract and flatten so we can work with it easily. We'll use `json_normalize` to extract the nested data and save each event to a new row."
   ]
  },
  {
   "cell_type": "code",
   "execution_count": 6,
   "metadata": {},
   "outputs": [
    {
     "data": {
      "text/html": [
       "<div>\n",
       "<style scoped>\n",
       "    .dataframe tbody tr th:only-of-type {\n",
       "        vertical-align: middle;\n",
       "    }\n",
       "\n",
       "    .dataframe tbody tr th {\n",
       "        vertical-align: top;\n",
       "    }\n",
       "\n",
       "    .dataframe thead th {\n",
       "        text-align: right;\n",
       "    }\n",
       "</style>\n",
       "<table border=\"1\" class=\"dataframe\">\n",
       "  <thead>\n",
       "    <tr style=\"text-align: right;\">\n",
       "      <th></th>\n",
       "      <th>temporal_type</th>\n",
       "      <th>temporal_title</th>\n",
       "      <th>temporal_startDate</th>\n",
       "      <th>temporal_endDate</th>\n",
       "      <th>temporal_interactionType</th>\n",
       "      <th>temporal_roleName</th>\n",
       "      <th>temporal_description</th>\n",
       "      <th>id</th>\n",
       "      <th>title</th>\n",
       "      <th>additionalType</th>\n",
       "    </tr>\n",
       "  </thead>\n",
       "  <tbody>\n",
       "    <tr>\n",
       "      <th>0</th>\n",
       "      <td>Event</td>\n",
       "      <td>21 February 2009</td>\n",
       "      <td>2009-02-21</td>\n",
       "      <td>2009-02-21</td>\n",
       "      <td>Production</td>\n",
       "      <td>NaN</td>\n",
       "      <td>NaN</td>\n",
       "      <td>195843</td>\n",
       "      <td>Reproduction cartoon titled 'Better than the b...</td>\n",
       "      <td>[Political cartoons]</td>\n",
       "    </tr>\n",
       "    <tr>\n",
       "      <th>1</th>\n",
       "      <td>Event</td>\n",
       "      <td>June 1908</td>\n",
       "      <td>1908-06</td>\n",
       "      <td>1908-06</td>\n",
       "      <td>NaN</td>\n",
       "      <td>Date of use</td>\n",
       "      <td>NaN</td>\n",
       "      <td>31257</td>\n",
       "      <td>Kind Regards From Newtown</td>\n",
       "      <td>[Postcards]</td>\n",
       "    </tr>\n",
       "    <tr>\n",
       "      <th>2</th>\n",
       "      <td>Event</td>\n",
       "      <td>26 January 1982</td>\n",
       "      <td>1982-01-26</td>\n",
       "      <td>1982-01-26</td>\n",
       "      <td>NaN</td>\n",
       "      <td>Associated date</td>\n",
       "      <td>NaN</td>\n",
       "      <td>135579</td>\n",
       "      <td>Protests during the campaign to save the Frank...</td>\n",
       "      <td>[Photographs]</td>\n",
       "    </tr>\n",
       "    <tr>\n",
       "      <th>3</th>\n",
       "      <td>Event</td>\n",
       "      <td>1926</td>\n",
       "      <td>1926</td>\n",
       "      <td>1926</td>\n",
       "      <td>NaN</td>\n",
       "      <td>Date acquired by donor</td>\n",
       "      <td>by Australian Institute of Anatomy</td>\n",
       "      <td>6840</td>\n",
       "      <td>Spinning top</td>\n",
       "      <td>[Centre of gravity toys]</td>\n",
       "    </tr>\n",
       "    <tr>\n",
       "      <th>4</th>\n",
       "      <td>Event</td>\n",
       "      <td>1872</td>\n",
       "      <td>1872</td>\n",
       "      <td>1872</td>\n",
       "      <td>NaN</td>\n",
       "      <td>Associated date</td>\n",
       "      <td>NaN</td>\n",
       "      <td>251967</td>\n",
       "      <td>Financial document from Tirranna Picnic Race C...</td>\n",
       "      <td>[Financial records]</td>\n",
       "    </tr>\n",
       "  </tbody>\n",
       "</table>\n",
       "</div>"
      ],
      "text/plain": [
       "  temporal_type    temporal_title temporal_startDate temporal_endDate  \\\n",
       "0         Event  21 February 2009         2009-02-21       2009-02-21   \n",
       "1         Event         June 1908            1908-06          1908-06   \n",
       "2         Event   26 January 1982         1982-01-26       1982-01-26   \n",
       "3         Event              1926               1926             1926   \n",
       "4         Event              1872               1872             1872   \n",
       "\n",
       "  temporal_interactionType       temporal_roleName  \\\n",
       "0               Production                     NaN   \n",
       "1                      NaN             Date of use   \n",
       "2                      NaN         Associated date   \n",
       "3                      NaN  Date acquired by donor   \n",
       "4                      NaN         Associated date   \n",
       "\n",
       "                 temporal_description      id  \\\n",
       "0                                 NaN  195843   \n",
       "1                                 NaN   31257   \n",
       "2                                 NaN  135579   \n",
       "3  by Australian Institute of Anatomy    6840   \n",
       "4                                 NaN  251967   \n",
       "\n",
       "                                               title            additionalType  \n",
       "0  Reproduction cartoon titled 'Better than the b...      [Political cartoons]  \n",
       "1                          Kind Regards From Newtown               [Postcards]  \n",
       "2  Protests during the campaign to save the Frank...             [Photographs]  \n",
       "3                                       Spinning top  [Centre of gravity toys]  \n",
       "4  Financial document from Tirranna Picnic Race C...       [Financial records]  "
      ]
     },
     "execution_count": 6,
     "metadata": {},
     "output_type": "execute_result"
    }
   ],
   "source": [
    "# Use json_normalise() to explode the temporal into multiple rows and columns\n",
    "# Then merge the exploded rows back with the original dataset using the id value\n",
    "# df_dates = pd.merge(df.loc[df['temporal'].notnull()], json_normalize(df.loc[df['temporal'].notnull()].to_dict('records'), record_path='temporal', meta=['id'], record_prefix='temporal_'), how='inner', on='id')\n",
    "df_dates = json_normalize(df.loc[df['temporal'].notnull()].to_dict('records'), record_path='temporal', meta=['id', 'title', 'additionalType'], record_prefix='temporal_')\n",
    "df_dates.head()"
   ]
  },
  {
   "cell_type": "markdown",
   "metadata": {},
   "source": [
    "Now instead of having one row for each object, we have one row for each object event.\n",
    "\n",
    "How many date records do we have?"
   ]
  },
  {
   "cell_type": "code",
   "execution_count": 7,
   "metadata": {},
   "outputs": [
    {
     "data": {
      "text/plain": [
       "(39219, 10)"
      ]
     },
     "execution_count": 7,
     "metadata": {},
     "output_type": "execute_result"
    }
   ],
   "source": [
    "df_dates.shape"
   ]
  },
  {
   "cell_type": "markdown",
   "metadata": {},
   "source": [
    "## Exploring events"
   ]
  },
  {
   "cell_type": "markdown",
   "metadata": {},
   "source": [
    "Let's extract years from the dates to make comparisons a bit easier."
   ]
  },
  {
   "cell_type": "code",
   "execution_count": 8,
   "metadata": {},
   "outputs": [],
   "source": [
    "# Use a regular expression to find the first four digits in the date fields\n",
    "df_dates['start_year'] = df_dates['temporal_startDate'].str.extract(r'^(\\d{4})').fillna(0).astype('int')\n",
    "df_dates['end_year'] = df_dates['temporal_endDate'].str.extract(r'^(\\d{4})').fillna(0).astype('int')"
   ]
  },
  {
   "cell_type": "markdown",
   "metadata": {},
   "source": [
    "What's the earliest `start_year` (greater than 0)?"
   ]
  },
  {
   "cell_type": "code",
   "execution_count": 9,
   "metadata": {},
   "outputs": [
    {
     "data": {
      "text/plain": [
       "1001"
      ]
     },
     "execution_count": 9,
     "metadata": {},
     "output_type": "execute_result"
    }
   ],
   "source": [
    "df_dates.loc[df_dates['start_year'] > 0]['start_year'].min()"
   ]
  },
  {
   "cell_type": "markdown",
   "metadata": {},
   "source": [
    "What is it?"
   ]
  },
  {
   "cell_type": "code",
   "execution_count": 10,
   "metadata": {},
   "outputs": [
    {
     "data": {
      "text/html": [
       "<a href=\"http://collectionsearch.nma.gov.au/?object=147155\">Poster titled 'Celebrating Indigenous Sport', 'Prime Minister's XI v ATSIC Chairman's  XI', 19 April 2001</a>"
      ],
      "text/plain": [
       "<IPython.core.display.HTML object>"
      ]
     },
     "metadata": {},
     "output_type": "display_data"
    }
   ],
   "source": [
    "earliest = df_dates.loc[df_dates.loc[df_dates['start_year'] > 0]['start_year'].idxmin()]\n",
    "display(HTML('<a href=\"http://collectionsearch.nma.gov.au/?object={}\">{}</a>'.format(earliest['id'], earliest['title'])))"
   ]
  },
  {
   "cell_type": "markdown",
   "metadata": {},
   "source": [
    "What's the latest end date?"
   ]
  },
  {
   "cell_type": "code",
   "execution_count": 11,
   "metadata": {},
   "outputs": [
    {
     "data": {
      "text/plain": [
       "2992"
      ]
     },
     "execution_count": 11,
     "metadata": {},
     "output_type": "execute_result"
    }
   ],
   "source": [
    "df_dates['end_year'].max()"
   ]
  },
  {
   "cell_type": "markdown",
   "metadata": {},
   "source": [
    "Oh, that doesn't look quite right! Let's look to see how many of the dates are in the future!"
   ]
  },
  {
   "cell_type": "code",
   "execution_count": 12,
   "metadata": {},
   "outputs": [
    {
     "data": {
      "text/html": [
       "<div>\n",
       "<style scoped>\n",
       "    .dataframe tbody tr th:only-of-type {\n",
       "        vertical-align: middle;\n",
       "    }\n",
       "\n",
       "    .dataframe tbody tr th {\n",
       "        vertical-align: top;\n",
       "    }\n",
       "\n",
       "    .dataframe thead th {\n",
       "        text-align: right;\n",
       "    }\n",
       "</style>\n",
       "<table border=\"1\" class=\"dataframe\">\n",
       "  <thead>\n",
       "    <tr style=\"text-align: right;\">\n",
       "      <th></th>\n",
       "      <th>temporal_type</th>\n",
       "      <th>temporal_title</th>\n",
       "      <th>temporal_startDate</th>\n",
       "      <th>temporal_endDate</th>\n",
       "      <th>temporal_interactionType</th>\n",
       "      <th>temporal_roleName</th>\n",
       "      <th>temporal_description</th>\n",
       "      <th>id</th>\n",
       "      <th>title</th>\n",
       "      <th>additionalType</th>\n",
       "      <th>start_year</th>\n",
       "      <th>end_year</th>\n",
       "    </tr>\n",
       "  </thead>\n",
       "  <tbody>\n",
       "    <tr>\n",
       "      <th>5787</th>\n",
       "      <td>Event</td>\n",
       "      <td>17 September 2082</td>\n",
       "      <td>2082-09-17</td>\n",
       "      <td>2082-09-17</td>\n",
       "      <td>Production</td>\n",
       "      <td>NaN</td>\n",
       "      <td>NaN</td>\n",
       "      <td>213266</td>\n",
       "      <td>Courtroom sketch 'NT Ranger, Mr. Roth.' by Ver...</td>\n",
       "      <td>[Courtroom drawings]</td>\n",
       "      <td>2082</td>\n",
       "      <td>2082</td>\n",
       "    </tr>\n",
       "    <tr>\n",
       "      <th>6360</th>\n",
       "      <td>Event</td>\n",
       "      <td>7 January 2085</td>\n",
       "      <td>2085-01-07</td>\n",
       "      <td>2085-01-07</td>\n",
       "      <td>Production</td>\n",
       "      <td>NaN</td>\n",
       "      <td>NaN</td>\n",
       "      <td>195336</td>\n",
       "      <td>Woven basket with feathers and ochre</td>\n",
       "      <td>[Baskets]</td>\n",
       "      <td>2085</td>\n",
       "      <td>2085</td>\n",
       "    </tr>\n",
       "    <tr>\n",
       "      <th>12505</th>\n",
       "      <td>Event</td>\n",
       "      <td>20 March 2085</td>\n",
       "      <td>2085-03-20</td>\n",
       "      <td>2085-03-20</td>\n",
       "      <td>Production</td>\n",
       "      <td>NaN</td>\n",
       "      <td>NaN</td>\n",
       "      <td>146492</td>\n",
       "      <td>Feathered stick with handle</td>\n",
       "      <td>[Ornaments]</td>\n",
       "      <td>2085</td>\n",
       "      <td>2085</td>\n",
       "    </tr>\n",
       "    <tr>\n",
       "      <th>23828</th>\n",
       "      <td>Event</td>\n",
       "      <td>12 December 2992</td>\n",
       "      <td>2992-12-12</td>\n",
       "      <td>2992-12-12</td>\n",
       "      <td>NaN</td>\n",
       "      <td>Associated date</td>\n",
       "      <td>NaN</td>\n",
       "      <td>67099</td>\n",
       "      <td>Souvenir beaker - Princess Anne</td>\n",
       "      <td>[Commemorative mugs]</td>\n",
       "      <td>2992</td>\n",
       "      <td>2992</td>\n",
       "    </tr>\n",
       "  </tbody>\n",
       "</table>\n",
       "</div>"
      ],
      "text/plain": [
       "      temporal_type     temporal_title temporal_startDate temporal_endDate  \\\n",
       "5787          Event  17 September 2082         2082-09-17       2082-09-17   \n",
       "6360          Event     7 January 2085         2085-01-07       2085-01-07   \n",
       "12505         Event      20 March 2085         2085-03-20       2085-03-20   \n",
       "23828         Event   12 December 2992         2992-12-12       2992-12-12   \n",
       "\n",
       "      temporal_interactionType temporal_roleName temporal_description      id  \\\n",
       "5787                Production               NaN                  NaN  213266   \n",
       "6360                Production               NaN                  NaN  195336   \n",
       "12505               Production               NaN                  NaN  146492   \n",
       "23828                      NaN   Associated date                  NaN   67099   \n",
       "\n",
       "                                                   title  \\\n",
       "5787   Courtroom sketch 'NT Ranger, Mr. Roth.' by Ver...   \n",
       "6360                Woven basket with feathers and ochre   \n",
       "12505                        Feathered stick with handle   \n",
       "23828                    Souvenir beaker - Princess Anne   \n",
       "\n",
       "             additionalType  start_year  end_year  \n",
       "5787   [Courtroom drawings]        2082      2082  \n",
       "6360              [Baskets]        2085      2085  \n",
       "12505           [Ornaments]        2085      2085  \n",
       "23828  [Commemorative mugs]        2992      2992  "
      ]
     },
     "execution_count": 12,
     "metadata": {},
     "output_type": "execute_result"
    }
   ],
   "source": [
    "df_dates.loc[(df_dates['start_year'] > 2019) | (df_dates['end_year'] > 2019)]"
   ]
  },
  {
   "cell_type": "markdown",
   "metadata": {},
   "source": [
    "Looks like these records need some editing."
   ]
  },
  {
   "cell_type": "markdown",
   "metadata": {},
   "source": [
    "## Types of events"
   ]
  },
  {
   "cell_type": "markdown",
   "metadata": {},
   "source": [
    "Events are linked to objects in many different ways, they might document when the object was created, collected, or acquired by the museum. We can examine the types of relationships that have been documented between events and objects by looking in the `temporal_roleName` field."
   ]
  },
  {
   "cell_type": "code",
   "execution_count": 13,
   "metadata": {},
   "outputs": [
    {
     "data": {
      "text/plain": [
       "Date of publication       5022\n",
       "Associated date           4015\n",
       "Date made                 3950\n",
       "Date of event             2995\n",
       "Associated period         2973\n",
       "Date collected            2503\n",
       "Date of voyage            2477\n",
       "Date photographed         1979\n",
       "Period of use             1706\n",
       "Date created              1473\n",
       "Date of production        1030\n",
       "Date of use                936\n",
       "Date of issue              857\n",
       "Date acquired by donor     544\n",
       "Date acquired by NMA       451\n",
       "Date written               422\n",
       "Date of work               399\n",
       "Date compiled              201\n",
       "Date worn                  198\n",
       "Date drawn                 162\n",
       "Date of Event              139\n",
       "Date acquired              128\n",
       "Content created            120\n",
       "Date posted                116\n",
       "Date of purchase            78\n",
       "Date awarded                76\n",
       "Date printed                70\n",
       "Date presented              69\n",
       "Production date             58\n",
       "Date designed               47\n",
       "Date of death               24\n",
       "Date painted                20\n",
       "Date of restoration         18\n",
       "Date of conversion          14\n",
       "Date reprinted              12\n",
       "Date of correspondence      10\n",
       "Date of birth                9\n",
       "Date built                   9\n",
       "Date of patent               9\n",
       "Date of Publication          7\n",
       "date created                 6\n",
       "date of publication          5\n",
       "Date Acquired                4\n",
       "Date of Production           4\n",
       "date of production           2\n",
       "Date of Correspondence       2\n",
       "Date repographed             1\n",
       "date of correspondence       1\n",
       "Date reproduced              1\n",
       "date made                    1\n",
       "Period of Use                1\n",
       "Date of Work                 1\n",
       "Associated Period            1\n",
       "date painted                 1\n",
       "Name: temporal_roleName, dtype: int64"
      ]
     },
     "execution_count": 13,
     "metadata": {},
     "output_type": "execute_result"
    }
   ],
   "source": [
    "df_dates['temporal_roleName'].value_counts()"
   ]
  },
  {
   "cell_type": "markdown",
   "metadata": {},
   "source": [
    "Hmmm, you can see that data entry into this field wasn't closely controlled – there are a number of minor variations in capitalisation, format and word order. For example, we have: 'Date of production', 'Date of Production', 'Production date', and 'date of production'!\n",
    "\n",
    "Some normalisation has taken place though, because of the creation and production related events can be identified through the `temporal_interactionType` field. What sorts of values does it contain?"
   ]
  },
  {
   "cell_type": "code",
   "execution_count": 14,
   "metadata": {},
   "outputs": [
    {
     "data": {
      "text/plain": [
       "Production    18012\n",
       "Name: temporal_interactionType, dtype: int64"
      ]
     },
     "execution_count": 14,
     "metadata": {},
     "output_type": "execute_result"
    }
   ],
   "source": [
    "df_dates['temporal_interactionType'].value_counts()"
   ]
  },
  {
   "cell_type": "markdown",
   "metadata": {},
   "source": [
    "There's only one value – 'Production'. According to the [documentation](https://github.com/NationalMuseumAustralia/Collection-API/wiki/Searching-the-API#retrieving-objects-by-date-place-or-party), a value of 'Production' in `interactionType` indicates the event was related to the creation of the item. Let's look to see which of the values in `roleName` have been aggregated by the 'Production' value."
   ]
  },
  {
   "cell_type": "code",
   "execution_count": 15,
   "metadata": {},
   "outputs": [
    {
     "data": {
      "text/plain": [
       "Date of publication       5016\n",
       "Date made                 3950\n",
       "Date photographed         1761\n",
       "Date created              1473\n",
       "Date of production        1030\n",
       "Date of issue              674\n",
       "Date written               422\n",
       "Date of work               374\n",
       "Date compiled              201\n",
       "Date drawn                 162\n",
       "Content created            120\n",
       "Date posted                116\n",
       "Date printed                70\n",
       "Production date             58\n",
       "Date designed               47\n",
       "Date painted                20\n",
       "Date of restoration         18\n",
       "Date of conversion          14\n",
       "Date reprinted              12\n",
       "Date of correspondence      10\n",
       "Date of patent               9\n",
       "Date of Publication          7\n",
       "date created                 6\n",
       "date of publication          5\n",
       "Date of Production           4\n",
       "Date of Correspondence       2\n",
       "date of production           2\n",
       "date of correspondence       1\n",
       "Date repographed             1\n",
       "date made                    1\n",
       "Date reproduced              1\n",
       "Date of Work                 1\n",
       "date painted                 1\n",
       "Name: temporal_roleName, dtype: int64"
      ]
     },
     "execution_count": 15,
     "metadata": {},
     "output_type": "execute_result"
    }
   ],
   "source": [
    "df_dates.loc[(df_dates['temporal_interactionType'] == 'Production')]['temporal_roleName'].value_counts()"
   ]
  },
  {
   "cell_type": "markdown",
   "metadata": {},
   "source": [
    "So the `temporal_interactionType` field helps us find all the creation-related events without dealing with the variations in the ways event types are described. Yay for normalisation!"
   ]
  },
  {
   "cell_type": "markdown",
   "metadata": {},
   "source": [
    "## Creation dates"
   ]
  },
  {
   "cell_type": "markdown",
   "metadata": {},
   "source": [
    "Let's create a dataframe that contains just the creation dates."
   ]
  },
  {
   "cell_type": "code",
   "execution_count": 16,
   "metadata": {},
   "outputs": [],
   "source": [
    "df_creation_dates = df_dates.loc[(df_dates['temporal_interactionType'] == 'Production')].copy()"
   ]
  },
  {
   "cell_type": "code",
   "execution_count": 17,
   "metadata": {},
   "outputs": [
    {
     "data": {
      "text/plain": [
       "(18012, 12)"
      ]
     },
     "execution_count": 17,
     "metadata": {},
     "output_type": "execute_result"
    }
   ],
   "source": [
    "df_creation_dates.shape"
   ]
  },
  {
   "cell_type": "markdown",
   "metadata": {},
   "source": [
    "One other thing to note is that not every event has a start date. Some just have an end date. To make sure we have at least one date for every event, let's create a new `year` column – we'll set its value to `start_year` if it exists, or `end_year` if not."
   ]
  },
  {
   "cell_type": "code",
   "execution_count": 18,
   "metadata": {},
   "outputs": [],
   "source": [
    "df_creation_dates['year'] = df_creation_dates.apply(lambda x: x['start_year'] if x['start_year'] else x['end_year'], axis=1)"
   ]
  },
  {
   "cell_type": "markdown",
   "metadata": {},
   "source": [
    "Time to make a chart! Let's show how the creation events are distributed over time."
   ]
  },
  {
   "cell_type": "code",
   "execution_count": 24,
   "metadata": {},
   "outputs": [],
   "source": [
    "# First we'll get the number of objects per year\n",
    "year_counts = df_creation_dates['year'].value_counts().to_frame().reset_index()\n",
    "year_counts.columns = ['year', 'count']"
   ]
  },
  {
   "cell_type": "code",
   "execution_count": 28,
   "metadata": {},
   "outputs": [
    {
     "data": {
      "text/html": [
       "\n",
       "<div id=\"altair-viz-495864dca419488ba0da9cbe4ae9e16a\"></div>\n",
       "<script type=\"text/javascript\">\n",
       "  (function(spec, embedOpt){\n",
       "    let outputDiv = document.currentScript.previousElementSibling;\n",
       "    if (outputDiv.id !== \"altair-viz-495864dca419488ba0da9cbe4ae9e16a\") {\n",
       "      outputDiv = document.getElementById(\"altair-viz-495864dca419488ba0da9cbe4ae9e16a\");\n",
       "    }\n",
       "    const paths = {\n",
       "      \"vega\": \"https://cdn.jsdelivr.net/npm//vega@5?noext\",\n",
       "      \"vega-lib\": \"https://cdn.jsdelivr.net/npm//vega-lib?noext\",\n",
       "      \"vega-lite\": \"https://cdn.jsdelivr.net/npm//vega-lite@4.8.1?noext\",\n",
       "      \"vega-embed\": \"https://cdn.jsdelivr.net/npm//vega-embed@6?noext\",\n",
       "    };\n",
       "\n",
       "    function loadScript(lib) {\n",
       "      return new Promise(function(resolve, reject) {\n",
       "        var s = document.createElement('script');\n",
       "        s.src = paths[lib];\n",
       "        s.async = true;\n",
       "        s.onload = () => resolve(paths[lib]);\n",
       "        s.onerror = () => reject(`Error loading script: ${paths[lib]}`);\n",
       "        document.getElementsByTagName(\"head\")[0].appendChild(s);\n",
       "      });\n",
       "    }\n",
       "\n",
       "    function showError(err) {\n",
       "      outputDiv.innerHTML = `<div class=\"error\" style=\"color:red;\">${err}</div>`;\n",
       "      throw err;\n",
       "    }\n",
       "\n",
       "    function displayChart(vegaEmbed) {\n",
       "      vegaEmbed(outputDiv, spec, embedOpt)\n",
       "        .catch(err => showError(`Javascript Error: ${err.message}<br>This usually means there's a typo in your chart specification. See the javascript console for the full traceback.`));\n",
       "    }\n",
       "\n",
       "    if(typeof define === \"function\" && define.amd) {\n",
       "      requirejs.config({paths});\n",
       "      require([\"vega-embed\"], displayChart, err => showError(`Error loading script: ${err.message}`));\n",
       "    } else if (typeof vegaEmbed === \"function\") {\n",
       "      displayChart(vegaEmbed);\n",
       "    } else {\n",
       "      loadScript(\"vega\")\n",
       "        .then(() => loadScript(\"vega-lite\"))\n",
       "        .then(() => loadScript(\"vega-embed\"))\n",
       "        .catch(showError)\n",
       "        .then(() => displayChart(vegaEmbed));\n",
       "    }\n",
       "  })({\"config\": {\"view\": {\"continuousWidth\": 400, \"continuousHeight\": 300}}, \"data\": {\"name\": \"data-2c10f4a10e71a1e91b7d0744c081a4c7\"}, \"mark\": {\"type\": \"bar\", \"size\": 2}, \"encoding\": {\"tooltip\": [{\"type\": \"quantitative\", \"field\": \"year\", \"title\": \"Year\"}, {\"type\": \"quantitative\", \"aggregate\": \"count\", \"format\": \",\", \"title\": \"Objects\"}], \"x\": {\"type\": \"quantitative\", \"axis\": {\"format\": \"c\", \"title\": \"Year of production\"}, \"field\": \"year\"}, \"y\": {\"type\": \"quantitative\", \"field\": \"count\", \"title\": \"Number of objects\"}}, \"width\": 700, \"$schema\": \"https://vega.github.io/schema/vega-lite/v4.8.1.json\", \"datasets\": {\"data-2c10f4a10e71a1e91b7d0744c081a4c7\": [{\"year\": 1980, \"count\": 2545}, {\"year\": 1913, \"count\": 1097}, {\"year\": 1986, \"count\": 445}, {\"year\": 1988, \"count\": 430}, {\"year\": 1930, \"count\": 412}, {\"year\": 1974, \"count\": 347}, {\"year\": 1975, \"count\": 309}, {\"year\": 1982, \"count\": 303}, {\"year\": 1997, \"count\": 282}, {\"year\": 1965, \"count\": 280}, {\"year\": 1954, \"count\": 275}, {\"year\": 1999, \"count\": 251}, {\"year\": 1948, \"count\": 250}, {\"year\": 1920, \"count\": 242}, {\"year\": 1992, \"count\": 234}, {\"year\": 1996, \"count\": 230}, {\"year\": 1970, \"count\": 223}, {\"year\": 2001, \"count\": 222}, {\"year\": 1950, \"count\": 219}, {\"year\": 1966, \"count\": 213}, {\"year\": 1998, \"count\": 203}, {\"year\": 1960, \"count\": 194}, {\"year\": 1985, \"count\": 182}, {\"year\": 1910, \"count\": 179}, {\"year\": 1956, \"count\": 170}, {\"year\": 1971, \"count\": 166}, {\"year\": 1976, \"count\": 165}, {\"year\": 1900, \"count\": 157}, {\"year\": 1967, \"count\": 154}, {\"year\": 1990, \"count\": 151}, {\"year\": 1987, \"count\": 148}, {\"year\": 1984, \"count\": 144}, {\"year\": 2004, \"count\": 139}, {\"year\": 1977, \"count\": 114}, {\"year\": 1953, \"count\": 111}, {\"year\": 2002, \"count\": 109}, {\"year\": 1952, \"count\": 108}, {\"year\": 1968, \"count\": 105}, {\"year\": 1918, \"count\": 102}, {\"year\": 2008, \"count\": 98}, {\"year\": 1928, \"count\": 95}, {\"year\": 1973, \"count\": 94}, {\"year\": 1868, \"count\": 93}, {\"year\": 2007, \"count\": 93}, {\"year\": 1972, \"count\": 92}, {\"year\": 1919, \"count\": 92}, {\"year\": 1927, \"count\": 89}, {\"year\": 1914, \"count\": 89}, {\"year\": 1995, \"count\": 88}, {\"year\": 1908, \"count\": 87}, {\"year\": 1969, \"count\": 86}, {\"year\": 1925, \"count\": 86}, {\"year\": 2005, \"count\": 86}, {\"year\": 1926, \"count\": 83}, {\"year\": 2000, \"count\": 83}, {\"year\": 1875, \"count\": 81}, {\"year\": 1860, \"count\": 80}, {\"year\": 1890, \"count\": 80}, {\"year\": 1993, \"count\": 78}, {\"year\": 1937, \"count\": 78}, {\"year\": 1934, \"count\": 78}, {\"year\": 1907, \"count\": 78}, {\"year\": 1964, \"count\": 77}, {\"year\": 1963, \"count\": 77}, {\"year\": 1906, \"count\": 76}, {\"year\": 1916, \"count\": 76}, {\"year\": 1876, \"count\": 72}, {\"year\": 1994, \"count\": 72}, {\"year\": 1978, \"count\": 72}, {\"year\": 1935, \"count\": 71}, {\"year\": 2015, \"count\": 70}, {\"year\": 2014, \"count\": 70}, {\"year\": 1949, \"count\": 70}, {\"year\": 1909, \"count\": 69}, {\"year\": 1981, \"count\": 67}, {\"year\": 1905, \"count\": 66}, {\"year\": 1940, \"count\": 64}, {\"year\": 1912, \"count\": 64}, {\"year\": 2003, \"count\": 63}, {\"year\": 2009, \"count\": 63}, {\"year\": 2011, \"count\": 63}, {\"year\": 1946, \"count\": 62}, {\"year\": 1873, \"count\": 62}, {\"year\": 2013, \"count\": 61}, {\"year\": 1989, \"count\": 60}, {\"year\": 1931, \"count\": 60}, {\"year\": 1917, \"count\": 59}, {\"year\": 1991, \"count\": 57}, {\"year\": 2012, \"count\": 56}, {\"year\": 1911, \"count\": 56}, {\"year\": 1983, \"count\": 55}, {\"year\": 1945, \"count\": 55}, {\"year\": 1979, \"count\": 55}, {\"year\": 1922, \"count\": 55}, {\"year\": 1880, \"count\": 53}, {\"year\": 1947, \"count\": 52}, {\"year\": 1901, \"count\": 51}, {\"year\": 1951, \"count\": 50}, {\"year\": 1915, \"count\": 48}, {\"year\": 1955, \"count\": 47}, {\"year\": 1870, \"count\": 47}, {\"year\": 1932, \"count\": 46}, {\"year\": 1923, \"count\": 46}, {\"year\": 1850, \"count\": 46}, {\"year\": 1942, \"count\": 45}, {\"year\": 1936, \"count\": 44}, {\"year\": 1929, \"count\": 43}, {\"year\": 1957, \"count\": 41}, {\"year\": 1939, \"count\": 39}, {\"year\": 1959, \"count\": 39}, {\"year\": 1879, \"count\": 38}, {\"year\": 2006, \"count\": 38}, {\"year\": 1888, \"count\": 37}, {\"year\": 1903, \"count\": 37}, {\"year\": 1938, \"count\": 36}, {\"year\": 2016, \"count\": 35}, {\"year\": 1887, \"count\": 34}, {\"year\": 1944, \"count\": 34}, {\"year\": 1884, \"count\": 33}, {\"year\": 1962, \"count\": 33}, {\"year\": 1924, \"count\": 32}, {\"year\": 1921, \"count\": 32}, {\"year\": 1885, \"count\": 31}, {\"year\": 1941, \"count\": 31}, {\"year\": 1958, \"count\": 30}, {\"year\": 1943, \"count\": 29}, {\"year\": 1833, \"count\": 29}, {\"year\": 1895, \"count\": 29}, {\"year\": 1904, \"count\": 28}, {\"year\": 1933, \"count\": 28}, {\"year\": 1877, \"count\": 27}, {\"year\": 1886, \"count\": 27}, {\"year\": 1889, \"count\": 26}, {\"year\": 1878, \"count\": 23}, {\"year\": 1800, \"count\": 23}, {\"year\": 1881, \"count\": 23}, {\"year\": 1847, \"count\": 22}, {\"year\": 1898, \"count\": 21}, {\"year\": 1803, \"count\": 21}, {\"year\": 1865, \"count\": 20}, {\"year\": 1894, \"count\": 19}, {\"year\": 1824, \"count\": 19}, {\"year\": 1840, \"count\": 19}, {\"year\": 1834, \"count\": 18}, {\"year\": 1961, \"count\": 18}, {\"year\": 2010, \"count\": 17}, {\"year\": 1883, \"count\": 16}, {\"year\": 1867, \"count\": 16}, {\"year\": 1866, \"count\": 15}, {\"year\": 1837, \"count\": 15}, {\"year\": 1874, \"count\": 14}, {\"year\": 1839, \"count\": 14}, {\"year\": 1855, \"count\": 14}, {\"year\": 1830, \"count\": 14}, {\"year\": 1893, \"count\": 13}, {\"year\": 1869, \"count\": 13}, {\"year\": 1864, \"count\": 13}, {\"year\": 1819, \"count\": 13}, {\"year\": 1836, \"count\": 13}, {\"year\": 1897, \"count\": 13}, {\"year\": 1892, \"count\": 13}, {\"year\": 1813, \"count\": 12}, {\"year\": 1826, \"count\": 12}, {\"year\": 1872, \"count\": 12}, {\"year\": 1896, \"count\": 12}, {\"year\": 1852, \"count\": 12}, {\"year\": 1814, \"count\": 10}, {\"year\": 1820, \"count\": 10}, {\"year\": 1838, \"count\": 9}, {\"year\": 1845, \"count\": 9}, {\"year\": 1832, \"count\": 9}, {\"year\": 1807, \"count\": 9}, {\"year\": 1862, \"count\": 9}, {\"year\": 1902, \"count\": 9}, {\"year\": 1899, \"count\": 9}, {\"year\": 1844, \"count\": 9}, {\"year\": 1863, \"count\": 9}, {\"year\": 1891, \"count\": 8}, {\"year\": 1804, \"count\": 7}, {\"year\": 1857, \"count\": 7}, {\"year\": 1846, \"count\": 7}, {\"year\": 1825, \"count\": 7}, {\"year\": 1861, \"count\": 7}, {\"year\": 1829, \"count\": 6}, {\"year\": 1858, \"count\": 6}, {\"year\": 1882, \"count\": 6}, {\"year\": 1859, \"count\": 6}, {\"year\": 1848, \"count\": 6}, {\"year\": 1835, \"count\": 6}, {\"year\": 1856, \"count\": 6}, {\"year\": 1851, \"count\": 6}, {\"year\": 1849, \"count\": 6}, {\"year\": 1871, \"count\": 5}, {\"year\": 1823, \"count\": 5}, {\"year\": 1790, \"count\": 5}, {\"year\": 1853, \"count\": 5}, {\"year\": 1821, \"count\": 5}, {\"year\": 1792, \"count\": 4}, {\"year\": 1822, \"count\": 4}, {\"year\": 1854, \"count\": 4}, {\"year\": 2017, \"count\": 4}, {\"year\": 1775, \"count\": 4}, {\"year\": 1811, \"count\": 4}, {\"year\": 1818, \"count\": 3}, {\"year\": 1816, \"count\": 3}, {\"year\": 1843, \"count\": 3}, {\"year\": 1797, \"count\": 3}, {\"year\": 1788, \"count\": 3}, {\"year\": 1810, \"count\": 3}, {\"year\": 1812, \"count\": 3}, {\"year\": 1789, \"count\": 3}, {\"year\": 1831, \"count\": 3}, {\"year\": 1761, \"count\": 3}, {\"year\": 1791, \"count\": 2}, {\"year\": 1808, \"count\": 2}, {\"year\": 1809, \"count\": 2}, {\"year\": 1841, \"count\": 2}, {\"year\": 1776, \"count\": 2}, {\"year\": 1828, \"count\": 2}, {\"year\": 2085, \"count\": 2}, {\"year\": 1798, \"count\": 2}, {\"year\": 1784, \"count\": 2}, {\"year\": 1749, \"count\": 2}, {\"year\": 1815, \"count\": 2}, {\"year\": 1780, \"count\": 2}, {\"year\": 1773, \"count\": 2}, {\"year\": 1802, \"count\": 2}, {\"year\": 1827, \"count\": 2}, {\"year\": 1795, \"count\": 2}, {\"year\": 1770, \"count\": 1}, {\"year\": 1674, \"count\": 1}, {\"year\": 1660, \"count\": 1}, {\"year\": 1772, \"count\": 1}, {\"year\": 1801, \"count\": 1}, {\"year\": 1785, \"count\": 1}, {\"year\": 1737, \"count\": 1}, {\"year\": 1612, \"count\": 1}, {\"year\": 1725, \"count\": 1}, {\"year\": 1760, \"count\": 1}, {\"year\": 1762, \"count\": 1}, {\"year\": 1595, \"count\": 1}, {\"year\": 1799, \"count\": 1}, {\"year\": 1670, \"count\": 1}, {\"year\": 1730, \"count\": 1}, {\"year\": 1777, \"count\": 1}, {\"year\": 1793, \"count\": 1}, {\"year\": 1541, \"count\": 1}, {\"year\": 1787, \"count\": 1}, {\"year\": 1774, \"count\": 1}, {\"year\": 1796, \"count\": 1}, {\"year\": 1540, \"count\": 1}, {\"year\": 1806, \"count\": 1}, {\"year\": 1779, \"count\": 1}, {\"year\": 2082, \"count\": 1}, {\"year\": 1781, \"count\": 1}]}}, {\"mode\": \"vega-lite\"});\n",
       "</script>"
      ],
      "text/plain": [
       "alt.Chart(...)"
      ]
     },
     "execution_count": 28,
     "metadata": {},
     "output_type": "execute_result"
    }
   ],
   "source": [
    "# Create a bar chart (limit to years greater than 0)\n",
    "alt.Chart(year_counts.loc[year_counts['year'] > 0]).mark_bar(size=2).encode(\n",
    "    \n",
    "    # Year on the X axis\n",
    "    x=alt.X('year:Q', axis=alt.Axis(format='c', title='Year of production')),\n",
    "    \n",
    "    # Number of objects on the Y axis\n",
    "    y=alt.Y('count:Q', title='Number of objects'),\n",
    "    \n",
    "    # Show details on hover\n",
    "    tooltip=[alt.Tooltip('year:Q', title='Year'), alt.Tooltip('count():Q', title='Objects', format=',')]\n",
    ").properties(width=700)"
   ]
  },
  {
   "cell_type": "markdown",
   "metadata": {},
   "source": [
    "Ok, so something interesting was happening in 1980 and 1913. Let's see if we can find out what."
   ]
  },
  {
   "cell_type": "markdown",
   "metadata": {},
   "source": [
    "In another notebook I showed how you can [use the `additionalType` column](exploring_object_records.ipynb#The-additionalType-field) to find out about the types of things in the collection. Let's use it to see what types of objects were created in 1980.\n",
    "\n",
    "Let's explode `additionalType` and create a new dataframe with the results!"
   ]
  },
  {
   "cell_type": "code",
   "execution_count": 29,
   "metadata": {},
   "outputs": [
    {
     "data": {
      "text/html": [
       "<div>\n",
       "<style scoped>\n",
       "    .dataframe tbody tr th:only-of-type {\n",
       "        vertical-align: middle;\n",
       "    }\n",
       "\n",
       "    .dataframe tbody tr th {\n",
       "        vertical-align: top;\n",
       "    }\n",
       "\n",
       "    .dataframe thead th {\n",
       "        text-align: right;\n",
       "    }\n",
       "</style>\n",
       "<table border=\"1\" class=\"dataframe\">\n",
       "  <thead>\n",
       "    <tr style=\"text-align: right;\">\n",
       "      <th></th>\n",
       "      <th>id</th>\n",
       "      <th>title</th>\n",
       "      <th>year</th>\n",
       "      <th>additionalType</th>\n",
       "    </tr>\n",
       "  </thead>\n",
       "  <tbody>\n",
       "    <tr>\n",
       "      <th>0</th>\n",
       "      <td>195843</td>\n",
       "      <td>Reproduction cartoon titled 'Better than the b...</td>\n",
       "      <td>2009</td>\n",
       "      <td>Political cartoons</td>\n",
       "    </tr>\n",
       "    <tr>\n",
       "      <th>5</th>\n",
       "      <td>59924</td>\n",
       "      <td>Walka design from Ernabella</td>\n",
       "      <td>1954</td>\n",
       "      <td>Acrylic paintings</td>\n",
       "    </tr>\n",
       "    <tr>\n",
       "      <th>8</th>\n",
       "      <td>33064</td>\n",
       "      <td>Wonderland city, Sydney, 1908</td>\n",
       "      <td>1906</td>\n",
       "      <td>Photographic postcards</td>\n",
       "    </tr>\n",
       "    <tr>\n",
       "      <th>10</th>\n",
       "      <td>19877</td>\n",
       "      <td>Cylindrical hollow wood pipe with protruding bowl</td>\n",
       "      <td>1973</td>\n",
       "      <td>Smoking pipes</td>\n",
       "    </tr>\n",
       "    <tr>\n",
       "      <th>12</th>\n",
       "      <td>124027</td>\n",
       "      <td>Oak oil stone</td>\n",
       "      <td>1790</td>\n",
       "      <td>Sharpening stones</td>\n",
       "    </tr>\n",
       "  </tbody>\n",
       "</table>\n",
       "</div>"
      ],
      "text/plain": [
       "        id                                              title  year  \\\n",
       "0   195843  Reproduction cartoon titled 'Better than the b...  2009   \n",
       "5    59924                        Walka design from Ernabella  1954   \n",
       "8    33064                      Wonderland city, Sydney, 1908  1906   \n",
       "10   19877  Cylindrical hollow wood pipe with protruding bowl  1973   \n",
       "12  124027                                      Oak oil stone  1790   \n",
       "\n",
       "            additionalType  \n",
       "0       Political cartoons  \n",
       "5        Acrylic paintings  \n",
       "8   Photographic postcards  \n",
       "10           Smoking pipes  \n",
       "12       Sharpening stones  "
      ]
     },
     "execution_count": 29,
     "metadata": {},
     "output_type": "execute_result"
    }
   ],
   "source": [
    "df_creation_dates_types = df_creation_dates.loc[df_creation_dates['additionalType'].notnull()][['id', 'title', 'year', 'additionalType']].explode('additionalType')\n",
    "df_creation_dates_types.head()"
   ]
  },
  {
   "cell_type": "markdown",
   "metadata": {},
   "source": [
    "Now we can filter by year to see what types of things were created in 1980."
   ]
  },
  {
   "cell_type": "code",
   "execution_count": 30,
   "metadata": {},
   "outputs": [
    {
     "data": {
      "text/html": [
       "<div>\n",
       "<style scoped>\n",
       "    .dataframe tbody tr th:only-of-type {\n",
       "        vertical-align: middle;\n",
       "    }\n",
       "\n",
       "    .dataframe tbody tr th {\n",
       "        vertical-align: top;\n",
       "    }\n",
       "\n",
       "    .dataframe thead th {\n",
       "        text-align: right;\n",
       "    }\n",
       "</style>\n",
       "<table border=\"1\" class=\"dataframe\">\n",
       "  <thead>\n",
       "    <tr style=\"text-align: right;\">\n",
       "      <th></th>\n",
       "      <th>id</th>\n",
       "      <th>title</th>\n",
       "      <th>year</th>\n",
       "      <th>additionalType</th>\n",
       "    </tr>\n",
       "  </thead>\n",
       "  <tbody>\n",
       "    <tr>\n",
       "      <th>16</th>\n",
       "      <td>166857</td>\n",
       "      <td>Spergularia media</td>\n",
       "      <td>1980</td>\n",
       "      <td>Mounts</td>\n",
       "    </tr>\n",
       "    <tr>\n",
       "      <th>28</th>\n",
       "      <td>166221</td>\n",
       "      <td>Centranthera cochinchinensis</td>\n",
       "      <td>1980</td>\n",
       "      <td>Engravings</td>\n",
       "    </tr>\n",
       "    <tr>\n",
       "      <th>36</th>\n",
       "      <td>167935</td>\n",
       "      <td>Carpha alpina var. schoenoides</td>\n",
       "      <td>1980</td>\n",
       "      <td>Mounts</td>\n",
       "    </tr>\n",
       "    <tr>\n",
       "      <th>60</th>\n",
       "      <td>166367</td>\n",
       "      <td>Persoonia levis</td>\n",
       "      <td>1980</td>\n",
       "      <td>Engravings</td>\n",
       "    </tr>\n",
       "    <tr>\n",
       "      <th>79</th>\n",
       "      <td>165539</td>\n",
       "      <td>Triumfetta repens</td>\n",
       "      <td>1980</td>\n",
       "      <td>Engravings</td>\n",
       "    </tr>\n",
       "  </tbody>\n",
       "</table>\n",
       "</div>"
      ],
      "text/plain": [
       "        id                           title  year additionalType\n",
       "16  166857               Spergularia media  1980         Mounts\n",
       "28  166221    Centranthera cochinchinensis  1980     Engravings\n",
       "36  167935  Carpha alpina var. schoenoides  1980         Mounts\n",
       "60  166367                 Persoonia levis  1980     Engravings\n",
       "79  165539               Triumfetta repens  1980     Engravings"
      ]
     },
     "execution_count": 30,
     "metadata": {},
     "output_type": "execute_result"
    }
   ],
   "source": [
    "created_1980 = df_creation_dates_types.loc[df_creation_dates_types['year'] == 1980]\n",
    "created_1980.head()"
   ]
  },
  {
   "cell_type": "markdown",
   "metadata": {},
   "source": [
    "Let's look at the top twenty types of things created in 1980!"
   ]
  },
  {
   "cell_type": "code",
   "execution_count": 31,
   "metadata": {},
   "outputs": [
    {
     "data": {
      "text/plain": [
       "Engravings             1486\n",
       "Mounts                  743\n",
       "Folders                 100\n",
       "Lists                    42\n",
       "Notes                    36\n",
       "Boxes                    35\n",
       "Technical notes          34\n",
       "Cartoons                  5\n",
       "Paintings                 4\n",
       "Placards                  3\n",
       "Journals                  3\n",
       "Storybooks                2\n",
       "Advertising posters       2\n",
       "Jugs                      2\n",
       "Books                     2\n",
       "Botanical drawings        2\n",
       "Passes                    2\n",
       "Textbooks                 2\n",
       "Netballs                  1\n",
       "Event posters             1\n",
       "Name: additionalType, dtype: int64"
      ]
     },
     "execution_count": 31,
     "metadata": {},
     "output_type": "execute_result"
    }
   ],
   "source": [
    "created_1980['additionalType'].value_counts()[:20]"
   ]
  },
  {
   "cell_type": "markdown",
   "metadata": {},
   "source": [
    "So the vast majority are either 'Engravings' or 'Mounts'. Let's look at one of the 'Engravings' in more detail."
   ]
  },
  {
   "cell_type": "code",
   "execution_count": 32,
   "metadata": {},
   "outputs": [
    {
     "data": {
      "text/html": [
       "<div>\n",
       "<style scoped>\n",
       "    .dataframe tbody tr th:only-of-type {\n",
       "        vertical-align: middle;\n",
       "    }\n",
       "\n",
       "    .dataframe tbody tr th {\n",
       "        vertical-align: top;\n",
       "    }\n",
       "\n",
       "    .dataframe thead th {\n",
       "        text-align: right;\n",
       "    }\n",
       "</style>\n",
       "<table border=\"1\" class=\"dataframe\">\n",
       "  <thead>\n",
       "    <tr style=\"text-align: right;\">\n",
       "      <th></th>\n",
       "      <th>id</th>\n",
       "      <th>title</th>\n",
       "      <th>year</th>\n",
       "      <th>additionalType</th>\n",
       "    </tr>\n",
       "  </thead>\n",
       "  <tbody>\n",
       "    <tr>\n",
       "      <th>28</th>\n",
       "      <td>166221</td>\n",
       "      <td>Centranthera cochinchinensis</td>\n",
       "      <td>1980</td>\n",
       "      <td>Engravings</td>\n",
       "    </tr>\n",
       "    <tr>\n",
       "      <th>60</th>\n",
       "      <td>166367</td>\n",
       "      <td>Persoonia levis</td>\n",
       "      <td>1980</td>\n",
       "      <td>Engravings</td>\n",
       "    </tr>\n",
       "    <tr>\n",
       "      <th>79</th>\n",
       "      <td>165539</td>\n",
       "      <td>Triumfetta repens</td>\n",
       "      <td>1980</td>\n",
       "      <td>Engravings</td>\n",
       "    </tr>\n",
       "    <tr>\n",
       "      <th>155</th>\n",
       "      <td>167443</td>\n",
       "      <td>Hibiscus tiliaceus subsp. hastatus Malvaceae</td>\n",
       "      <td>1980</td>\n",
       "      <td>Engravings</td>\n",
       "    </tr>\n",
       "    <tr>\n",
       "      <th>195</th>\n",
       "      <td>167685</td>\n",
       "      <td>Lecanthus solandri</td>\n",
       "      <td>1980</td>\n",
       "      <td>Engravings</td>\n",
       "    </tr>\n",
       "  </tbody>\n",
       "</table>\n",
       "</div>"
      ],
      "text/plain": [
       "         id                                         title  year additionalType\n",
       "28   166221                  Centranthera cochinchinensis  1980     Engravings\n",
       "60   166367                               Persoonia levis  1980     Engravings\n",
       "79   165539                             Triumfetta repens  1980     Engravings\n",
       "155  167443  Hibiscus tiliaceus subsp. hastatus Malvaceae  1980     Engravings\n",
       "195  167685                            Lecanthus solandri  1980     Engravings"
      ]
     },
     "execution_count": 32,
     "metadata": {},
     "output_type": "execute_result"
    }
   ],
   "source": [
    "# Filter by Engravings\n",
    "created_1980.loc[created_1980['additionalType'] == 'Engravings'].head()"
   ]
  },
  {
   "cell_type": "code",
   "execution_count": 33,
   "metadata": {},
   "outputs": [
    {
     "data": {
      "text/html": [
       "<a href=\"http://collectionsearch.nma.gov.au/?object=166221\">Centranthera cochinchinensis</a>"
      ],
      "text/plain": [
       "<IPython.core.display.HTML object>"
      ]
     },
     "metadata": {},
     "output_type": "display_data"
    }
   ],
   "source": [
    "# Get the first item\n",
    "item = created_1980.loc[created_1980['additionalType'] == 'Engravings'].iloc[0]\n",
    "\n",
    "# Create a link to the collection db\n",
    "display(HTML('<a href=\"http://collectionsearch.nma.gov.au/?object={}\">{}</a>'.format(item['id'], item['title'])))"
   ]
  },
  {
   "cell_type": "markdown",
   "metadata": {},
   "source": [
    "If you follow the link you'll find that the engravings were created for a new publication of Banks' *Florilegium*.\n",
    "\n",
    "Can you repeat this process to find out what happened in 1913?"
   ]
  },
  {
   "cell_type": "markdown",
   "metadata": {},
   "source": [
    "## Creation dates by object type\n",
    "\n",
    "Now that we have a dataframe that combines creation dates with object types, we can look at how the creation of particular object types changes over time. For example let's look at 'Photographs' and 'Postcards'."
   ]
  },
  {
   "cell_type": "code",
   "execution_count": 34,
   "metadata": {},
   "outputs": [
    {
     "data": {
      "text/html": [
       "\n",
       "<div id=\"altair-viz-c87ddc69670444ebbe2c4424bbb0b8fc\"></div>\n",
       "<script type=\"text/javascript\">\n",
       "  (function(spec, embedOpt){\n",
       "    let outputDiv = document.currentScript.previousElementSibling;\n",
       "    if (outputDiv.id !== \"altair-viz-c87ddc69670444ebbe2c4424bbb0b8fc\") {\n",
       "      outputDiv = document.getElementById(\"altair-viz-c87ddc69670444ebbe2c4424bbb0b8fc\");\n",
       "    }\n",
       "    const paths = {\n",
       "      \"vega\": \"https://cdn.jsdelivr.net/npm//vega@5?noext\",\n",
       "      \"vega-lib\": \"https://cdn.jsdelivr.net/npm//vega-lib?noext\",\n",
       "      \"vega-lite\": \"https://cdn.jsdelivr.net/npm//vega-lite@4.8.1?noext\",\n",
       "      \"vega-embed\": \"https://cdn.jsdelivr.net/npm//vega-embed@6?noext\",\n",
       "    };\n",
       "\n",
       "    function loadScript(lib) {\n",
       "      return new Promise(function(resolve, reject) {\n",
       "        var s = document.createElement('script');\n",
       "        s.src = paths[lib];\n",
       "        s.async = true;\n",
       "        s.onload = () => resolve(paths[lib]);\n",
       "        s.onerror = () => reject(`Error loading script: ${paths[lib]}`);\n",
       "        document.getElementsByTagName(\"head\")[0].appendChild(s);\n",
       "      });\n",
       "    }\n",
       "\n",
       "    function showError(err) {\n",
       "      outputDiv.innerHTML = `<div class=\"error\" style=\"color:red;\">${err}</div>`;\n",
       "      throw err;\n",
       "    }\n",
       "\n",
       "    function displayChart(vegaEmbed) {\n",
       "      vegaEmbed(outputDiv, spec, embedOpt)\n",
       "        .catch(err => showError(`Javascript Error: ${err.message}<br>This usually means there's a typo in your chart specification. See the javascript console for the full traceback.`));\n",
       "    }\n",
       "\n",
       "    if(typeof define === \"function\" && define.amd) {\n",
       "      requirejs.config({paths});\n",
       "      require([\"vega-embed\"], displayChart, err => showError(`Error loading script: ${err.message}`));\n",
       "    } else if (typeof vegaEmbed === \"function\") {\n",
       "      displayChart(vegaEmbed);\n",
       "    } else {\n",
       "      loadScript(\"vega\")\n",
       "        .then(() => loadScript(\"vega-lite\"))\n",
       "        .then(() => loadScript(\"vega-embed\"))\n",
       "        .catch(showError)\n",
       "        .then(() => displayChart(vegaEmbed));\n",
       "    }\n",
       "  })({\"config\": {\"view\": {\"continuousWidth\": 400, \"continuousHeight\": 300}}, \"data\": {\"name\": \"data-94f7b2499e9882f043652f78d73296de\"}, \"mark\": {\"type\": \"bar\", \"size\": 3}, \"encoding\": {\"color\": {\"type\": \"nominal\", \"field\": \"additionalType\"}, \"tooltip\": [{\"type\": \"nominal\", \"field\": \"additionalType\", \"title\": \"Type\"}, {\"type\": \"quantitative\", \"field\": \"year\", \"title\": \"Year\"}, {\"type\": \"quantitative\", \"aggregate\": \"count\", \"format\": \",\", \"title\": \"Objects\"}], \"x\": {\"type\": \"quantitative\", \"axis\": {\"format\": \"c\", \"title\": \"Year of production\"}, \"field\": \"year\"}, \"y\": {\"type\": \"quantitative\", \"aggregate\": \"count\", \"title\": \"Number of objects\"}}, \"width\": 700, \"$schema\": \"https://vega.github.io/schema/vega-lite/v4.8.1.json\", \"datasets\": {\"data-94f7b2499e9882f043652f78d73296de\": [{\"id\": \"132935\", \"title\": \"Photograph of the J B Young's department store in Kingston, ACT, 1966\", \"year\": 1966, \"additionalType\": \"Photographs\"}, {\"id\": \"116050\", \"title\": \"Our junk - on which we travelled for about 5 days. Coming down the Fu River from Kwerlin to Wuchow - 190 miles. Apl 1917\", \"year\": 1913, \"additionalType\": \"Photographs\"}, {\"id\": \"115714\", \"title\": \"Hew Pas Chuen Yunnanfu - Minister of Foreign Affairs; July 1920\", \"year\": 1913, \"additionalType\": \"Photographs\"}, {\"id\": \"216346\", \"title\": \"ST. MARY'S CATHEDRAL SYDNEY, 1907\", \"year\": 1907, \"additionalType\": \"Postcards\"}, {\"id\": \"48258\", \"title\": \"Black and white photograph of Mr and Mrs Wensing sitting on a couch at Russell Hill in 1954\", \"year\": 1954, \"additionalType\": \"Photographs\"}, {\"id\": \"74790\", \"title\": \"Marian Bryden with long blonde hair wearing a white dress. Feb 1896\", \"year\": 1896, \"additionalType\": \"Photographs\"}, {\"id\": \"115464\", \"title\": \"View of a pagoda with three arches at the base,\", \"year\": 1913, \"additionalType\": \"Photographs\"}, {\"id\": \"230130\", \"title\": \"Postcard of Massey-Harris 'COONAMBLE DEPOT'\", \"year\": 1909, \"additionalType\": \"Postcards\"}, {\"id\": \"152154\", \"title\": \"Teacher and Students\", \"year\": 1907, \"additionalType\": \"Postcards\"}, {\"id\": \"106837\", \"title\": \"Jockey Maurice McCarten on race horse 'Theo' after his victory in the AJC Derby at Randwick, 29/9/1934\", \"year\": 1934, \"additionalType\": \"Photographs\"}, {\"id\": \"113319\", \"title\": \"Lucian and Ethel Faithfull standing on the veranda of Bluestone Cottage, 1937\", \"year\": 1937, \"additionalType\": \"Photographs\"}, {\"id\": \"115466\", \"title\": \"The first hut on our trip to Lamamuno\", \"year\": 1913, \"additionalType\": \"Photographs\"}, {\"id\": \"144944\", \"title\": \"Girl with a cup and saucer, 21 July 1908\", \"year\": 1908, \"additionalType\": \"Postcards\"}, {\"id\": \"33792\", \"title\": \"Saved, 25 December 1904\", \"year\": 1904, \"additionalType\": \"Postcards\"}, {\"id\": \"38504\", \"title\": \"Nine black and white photographs detailing protest meetings\", \"year\": 1983, \"additionalType\": \"Photographs\"}, {\"id\": \"116052\", \"title\": \"The Fu River at Wuchow Apl 1917\", \"year\": 1913, \"additionalType\": \"Photographs\"}, {\"id\": \"74792\", \"title\": \"Hope Webb\", \"year\": 1908, \"additionalType\": \"Photographs\"}, {\"id\": \"118845\", \"title\": \"Black and white photograph of a military camp\", \"year\": 1927, \"additionalType\": \"Photographs\"}, {\"id\": \"116007\", \"title\": \"The highest station on the Yunnanfu railway, 11.7.1917\", \"year\": 1913, \"additionalType\": \"Photographs\"}, {\"id\": \"115612\", \"title\": \"An altar in a temple Yunnanfu Augt 1920\", \"year\": 1913, \"additionalType\": \"Photographs\"}, {\"id\": \"115618\", \"title\": \"Photograph of a person wearing a white top and a dark skirt\", \"year\": 1913, \"additionalType\": \"Photographs\"}, {\"id\": \"113317\", \"title\": \"Wedding of Pamela Marion Faithfull to John Hawthorne Hall in 1945\", \"year\": 1945, \"additionalType\": \"Photographs\"}, {\"id\": \"233414\", \"title\": \"Four photograqphs of the launch of the autobiogrpahy of Earl Owen\", \"year\": 2014, \"additionalType\": \"Photographs\"}, {\"id\": \"49181\", \"title\": \"Photograph of Maurice White, Sydney, 1934\", \"year\": 1934, \"additionalType\": \"Photographs\"}, {\"id\": \"126565\", \"title\": \"Truck in Munyang Workshop\", \"year\": 1953, \"additionalType\": \"Photographs\"}, {\"id\": \"230133\", \"title\": \"Postcard of Massey-Harris 'FORBES AGENCY'\", \"year\": 1909, \"additionalType\": \"Postcards\"}, {\"id\": \"154606\", \"title\": \"Postcard of Brickfield Hill (George Street), Sydney, 1910\", \"year\": 1910, \"additionalType\": \"Postcards\"}, {\"id\": \"61935\", \"title\": \"Photograph of George Weir with his young son Charlie, who is sitting on a horse\", \"year\": 1950, \"additionalType\": \"Photographs\"}, {\"id\": \"48254\", \"title\": \"Photo of a young boy in a school uniform pushing a pram\", \"year\": 1959, \"additionalType\": \"Photographs\"}, {\"id\": \"33794\", \"title\": \"The Civil Servants, Elysium, 1905\", \"year\": 1905, \"additionalType\": \"Postcards\"}, {\"id\": \"74791\", \"title\": \"Florence Faithfull wearing a dark dress standing beside Lilian Faithfull\", \"year\": 1898, \"additionalType\": \"Photographs\"}, {\"id\": \"149491\", \"title\": \"Third of a set of three postcards from Joan Richmond - England\", \"year\": 1932, \"additionalType\": \"Postcards\"}, {\"id\": \"147979\", \"title\": \"Postcard featuring a sepia photographic image of a \\\"Boer War Memorial (1899-1902) Unveiled Feb.16. 1907\\\"\", \"year\": 1907, \"additionalType\": \"Postcards\"}, {\"id\": \"115616\", \"title\": \"Photograph of a monument\", \"year\": 1913, \"additionalType\": \"Photographs\"}, {\"id\": \"126566\", \"title\": \"Florence and Christine Williamson under verandah, Munyang\", \"year\": 1953, \"additionalType\": \"Photographs\"}, {\"id\": \"22135\", \"title\": \"Last season of the East Melbourne Cricket ground, 1921\", \"year\": 1921, \"additionalType\": \"Photographs\"}, {\"id\": \"230132\", \"title\": \"Postcard of Massey-Harris 'NARROMINE AGENCY'\", \"year\": 1909, \"additionalType\": \"Postcards\"}, {\"id\": \"75147\", \"title\": \"Photograph of winning rams bred by Augustus Lucian Faithfull, Wagga Wagga, 1884\", \"year\": 1884, \"additionalType\": \"Photographs\"}, {\"id\": \"153571\", \"title\": \"Postcard featuring a Surf Club Carnival at Thirroul Beach, NSW, Easter Monday,1910\", \"year\": 1910, \"additionalType\": \"Postcards\"}, {\"id\": \"115619\", \"title\": \"Photograph of a partially crumbling stone structure with no roof and with stone rubble around the building\", \"year\": 1913, \"additionalType\": \"Photographs\"}, {\"id\": \"74849\", \"title\": \"Josephina Wilkey wearing a white bonnet, 13 September 1878\", \"year\": 1878, \"additionalType\": \"Photographs\"}, {\"id\": \"32720\", \"title\": \"Sydney Harbour, 30 March 1906\", \"year\": 1906, \"additionalType\": \"Postcards\"}, {\"id\": \"230134\", \"title\": \"Postcard of Massey-Harris 'GANMAIN DEPOT'\", \"year\": 1909, \"additionalType\": \"Postcards\"}, {\"id\": \"129705\", \"title\": \"Sydney Harbour from Watson's Bay, 1855\", \"year\": 1855, \"additionalType\": \"Postcards\"}, {\"id\": \"137580\", \"title\": \"Bride and groom\", \"year\": 1885, \"additionalType\": \"Photographs\"}, {\"id\": \"230131\", \"title\": \"Postcard of Massy-Harris 'GLEN INNES DEPOT'\", \"year\": 1909, \"additionalType\": \"Postcards\"}, {\"id\": \"115461\", \"title\": \"Photograph of a view of a pagoda like structure on a stone wall\", \"year\": 1913, \"additionalType\": \"Photographs\"}, {\"id\": \"74793\", \"title\": \"Lilian Faithfull wedding 1898 (circa) to William Hugh Anderson\", \"year\": 1898, \"additionalType\": \"Photographs\"}, {\"id\": \"7571\", \"title\": \"Black and white photograph of staff of HAYWOOD'S EXCELSIOR biscuit factory\", \"year\": 1918, \"additionalType\": \"Photographs\"}, {\"id\": \"142303\", \"title\": \"A Batchelor's Retreat\", \"year\": 1908, \"additionalType\": \"Postcards\"}, {\"id\": \"115711\", \"title\": \"The same group - taken in the sunshine. Mch 1920\", \"year\": 1913, \"additionalType\": \"Photographs\"}, {\"id\": \"58504\", \"title\": \"Black and white photograph of US swimmer Charlotte Boyle, 1917\", \"year\": 1917, \"additionalType\": \"Photographs\"}, {\"id\": \"75146\", \"title\": \"Group of people in front of Kildonan Hotel, 28 September 1894\", \"year\": 1894, \"additionalType\": \"Photographs\"}, {\"id\": \"116006\", \"title\": \"Nankow Railway Station on Peking to Kalgan line. Dec 1914\", \"year\": 1913, \"additionalType\": \"Photographs\"}, {\"id\": \"58498\", \"title\": \"Autographed photograph of Australian swimmer Mina Wylie\", \"year\": 1918, \"additionalType\": \"Photographs\"}, {\"id\": \"115758\", \"title\": \"Goodbye to Caux, 13 January 1905\", \"year\": 1903, \"additionalType\": \"Postcards\"}, {\"id\": \"131814\", \"title\": \"Discovery of Australia series VI - Torres, in the San Pedro, passes through Endeavour Straits, and sights Australia. 17 Sep., 1606.\", \"year\": 1906, \"additionalType\": \"Postcards\"}, {\"id\": \"115518\", \"title\": \"Kalgan 10-10-1913. Delivering cigarettes from our go down\", \"year\": 1913, \"additionalType\": \"Photographs\"}, {\"id\": \"74806\", \"title\": \"The Old Mill, Springfield, 1938\", \"year\": 1938, \"additionalType\": \"Photographs\"}, {\"id\": \"140441\", \"title\": \"Ampitheatre Bluff, Bundanoon, NSW.\", \"year\": 1933, \"additionalType\": \"Photographs\"}, {\"id\": \"34005\", \"title\": \"The Yarra - at Warburton, 7 September 1906\", \"year\": 1906, \"additionalType\": \"Postcards\"}, {\"id\": \"115610\", \"title\": \"Photograph of a bridge over a water way with two people standing on it\", \"year\": 1913, \"additionalType\": \"Photographs\"}, {\"id\": \"114676\", \"title\": \"Five rows of people in an outdoor setting with a bamboo tree in the background\", \"year\": 1913, \"additionalType\": \"Photographs\"}, {\"id\": \"204341\", \"title\": \"CIRCULAR QUAY, Sydney, 20 Feburary 1904\", \"year\": 1904, \"additionalType\": \"Postcards\"}, {\"id\": \"144947\", \"title\": \"THE GINGALEE\", \"year\": 1905, \"additionalType\": \"Postcards\"}, {\"id\": \"114678\", \"title\": \"A black and white photograph of a camel train walking near trees at the base of a mountain with a river nearby\", \"year\": 1913, \"additionalType\": \"Photographs\"}, {\"id\": \"4054\", \"title\": \"Caulfield Cup, 1905\", \"year\": 1905, \"additionalType\": \"Postcards\"}, {\"id\": \"114677\", \"title\": \"Six camels in front of a large building\", \"year\": 1913, \"additionalType\": \"Photographs\"}, {\"id\": \"115755\", \"title\": \"Burned buildings after looting Kalgan 24.6.1914\", \"year\": 1913, \"additionalType\": \"Photographs\"}, {\"id\": \"74901\", \"title\": \"Flock of sheep outside Bluestone Cottage at Springfield, 1883\", \"year\": 1883, \"additionalType\": \"Photographs\"}, {\"id\": \"33906\", \"title\": \"The Bush Fire, by J. Hutchings, 3 June 1907\", \"year\": 1907, \"additionalType\": \"Postcards\"}, {\"id\": \"58507\", \"title\": \"Black and white photograph of US swimmer Lucy Freeman\", \"year\": 1917, \"additionalType\": \"Photographs\"}, {\"id\": \"116009\", \"title\": \"A bridge, with three arches, over a river and three people standing at the edge of the river  with poles and baskets.\", \"year\": 1913, \"additionalType\": \"Photographs\"}, {\"id\": \"115757\", \"title\": \"Burnt shops Kalgan looting 24-6-1914\", \"year\": 1913, \"additionalType\": \"Photographs\"}, {\"id\": \"115997\", \"title\": \"View of one of the lakes near Yunnanfu - 11.7.1917\", \"year\": 1913, \"additionalType\": \"Photographs\"}, {\"id\": \"116008\", \"title\": \"Mashing hair in the River Kalgan 14.3.1914\", \"year\": 1913, \"additionalType\": \"Photographs\"}, {\"id\": \"118883\", \"title\": \"Black and white photograph of three military personnel looking towards a military tent camp\", \"year\": 1927, \"additionalType\": \"Photographs\"}, {\"id\": \"115516\", \"title\": \"Loading Cargo in B.A.T Compound Kalgan, on Chinese camels for Lanchow\", \"year\": 1913, \"additionalType\": \"Photographs\"}, {\"id\": \"115995\", \"title\": \"Bridge at the head of the gorge on the Hokow [?] section of Yunnan railway - 10.7.1917\", \"year\": 1913, \"additionalType\": \"Photographs\"}, {\"id\": \"58508\", \"title\": \"Australian swimmers Fanny Durack and Mina Wylie with British swimmer Jennie Fletcher\", \"year\": 1910, \"additionalType\": \"Photographs\"}, {\"id\": \"216402\", \"title\": \"Queen Victoria Markets, Sydney, 5 December 1906\", \"year\": 1906, \"additionalType\": \"Postcards\"}, {\"id\": \"74750\", \"title\": \"Black and white photograph of the white stringybark post into which William Percy Faithfull put a bullet when shooting at Bushranger Gilbert about the end of January 1865\", \"year\": 1921, \"additionalType\": \"Photographs\"}, {\"id\": \"74906\", \"title\": \"Interior of the church at Tirranna decorated for the wedding of Robert Faithfull and Jessie Gibson on 25 April 1888\", \"year\": 1888, \"additionalType\": \"Photographs\"}, {\"id\": \"115993\", \"title\": \"Mallet engine pushing the train up the Nankon Pass, Dec 1914\", \"year\": 1913, \"additionalType\": \"Photographs\"}, {\"id\": \"58497\", \"title\": \"Autographed photograph of Australian swimmer Fanny Durack\", \"year\": 1918, \"additionalType\": \"Photographs\"}, {\"id\": \"115168\", \"title\": \"View of the C.M. Customs Club at Kulangsu Amoy from the recreation ground. Aug 1921\", \"year\": 1913, \"additionalType\": \"Photographs\"}, {\"id\": \"113846\", \"title\": \"Photograph of James Valentine, Perth, 1897\", \"year\": 1897, \"additionalType\": \"Photographs\"}, {\"id\": \"114672\", \"title\": \"Photograph of the Burns Philp building, Abbott St Cairns\", \"year\": 1913, \"additionalType\": \"Photographs\"}, {\"id\": \"115750\", \"title\": \"K.A. Aumuller - Self with Ginger and Bonsky\", \"year\": 1913, \"additionalType\": \"Photographs\"}, {\"id\": \"31542\", \"title\": \"Lettercard showing the \\\"BOTANIC GARDENS / PORTLAND, VIC\\\"\", \"year\": 1913, \"additionalType\": \"Postcards\"}, {\"id\": \"118937\", \"title\": \"Black and white photograph showing a crowd, including civilians and military personnel, gathered at an airfield\", \"year\": 1927, \"additionalType\": \"Photographs\"}, {\"id\": \"206808\", \"title\": \"SYDNEY HARBOUR, 24 April 1905\", \"year\": 1905, \"additionalType\": \"Postcards\"}, {\"id\": \"149488\", \"title\": \"Second of a set of three postcards from Joan Richmond - England\", \"year\": 1932, \"additionalType\": \"Postcards\"}, {\"id\": \"74993\", \"title\": \"Photograph of Robert Lionel Faithfull and Henry Montague Faithfull, 1880\", \"year\": 1880, \"additionalType\": \"Photographs\"}, {\"id\": \"115657\", \"title\": \"Postcard addressed to Master D. Mackenzie in Yass, 30 January 1910\", \"year\": 1910, \"additionalType\": \"Postcards\"}, {\"id\": \"133080\", \"title\": \"Photograph of a fashion parade at J B Young's Queanbeyan department store\", \"year\": 1956, \"additionalType\": \"Photographs\"}, {\"id\": \"74809\", \"title\": \"Miriam & Sylvia Mou[?] Taken at 'Ardgowan' Yass Rd. Goulburn about 1909\", \"year\": 1909, \"additionalType\": \"Photographs\"}, {\"id\": \"114675\", \"title\": \"BAT staff, Mukden Office\", \"year\": 1913, \"additionalType\": \"Photographs\"}, {\"id\": \"74799\", \"title\": \"Children's sports Empire day, 1908\", \"year\": 1908, \"additionalType\": \"Photographs\"}, {\"id\": \"115656\", \"title\": \"A week end 'bag' shooting on the Talifu lake (Erh Hai) Self and Evans Dec 1917\", \"year\": 1913, \"additionalType\": \"Photographs\"}, {\"id\": \"115752\", \"title\": \"People watching carriages being carried through the streets by men with poles\", \"year\": 1913, \"additionalType\": \"Photographs\"}, {\"id\": \"74903\", \"title\": \"Side view of the exterior of the church at Tirranna decorated for the wedding of Robert Faithfull and Jessie Gibson on 25 April 1888\", \"year\": 1888, \"additionalType\": \"Photographs\"}, {\"id\": \"115511\", \"title\": \"Kalgan 10-10-1913 4 of our cigarette dealers and the Hawker boys who peddle their goods around the town\", \"year\": 1913, \"additionalType\": \"Photographs\"}, {\"id\": \"58509\", \"title\": \"Black and white photograph of US swimmers Charlotte Boyle, Alice Lord, Ethelda Bleibtrey and Leslie Bunyan, 1919\", \"year\": 1919, \"additionalType\": \"Photographs\"}, {\"id\": \"126619\", \"title\": \"Munyang Power Station in winter\", \"year\": 1953, \"additionalType\": \"Photographs\"}, {\"id\": \"115169\", \"title\": \"Photograph of a pagoda style building and people standing on the stone wall\", \"year\": 1913, \"additionalType\": \"Photographs\"}, {\"id\": \"123333\", \"title\": \"1956 Olympiad - Melbourne Australia\", \"year\": 1956, \"additionalType\": \"Postcards\"}, {\"id\": \"33744\", \"title\": \"Australian Natives - The Bicycle Race, February 1906\", \"year\": 1906, \"additionalType\": \"Postcards\"}, {\"id\": \"114674\", \"title\": \"BAT staff, Mukden Office\", \"year\": 1913, \"additionalType\": \"Photographs\"}, {\"id\": \"216407\", \"title\": \"Queen Victoria Markets, Sydney, 28 July 1907\", \"year\": 1907, \"additionalType\": \"Postcards\"}, {\"id\": \"172186\", \"title\": \"Railway Station Rookwood\", \"year\": 1910, \"additionalType\": \"Postcards\"}, {\"id\": \"153926\", \"title\": \"Colourised photographic postcard of Mosman, NSW\", \"year\": 1884, \"additionalType\": \"Postcards\"}, {\"id\": \"74991\", \"title\": \"Florence Ethel (Bobbie) Faithfull wearing a sleeveless beaded evening dress, 1921\", \"year\": 1921, \"additionalType\": \"Photographs\"}, {\"id\": \"115165\", \"title\": \"View of a temple or pagoda style building\", \"year\": 1913, \"additionalType\": \"Photographs\"}, {\"id\": \"52864\", \"title\": \"Photograph of three women in red skirts and white tops with red and black flower motifs\", \"year\": 1992, \"additionalType\": \"Photographs\"}, {\"id\": \"114670\", \"title\": \"Repulse Bay Hotel, 1923\", \"year\": 1923, \"additionalType\": \"Photographs\"}, {\"id\": \"139888\", \"title\": \"Prince's Bridge (over Barwon River), Geelong\", \"year\": 1915, \"additionalType\": \"Postcards\"}, {\"id\": \"116000\", \"title\": \"View from the train showing 2 tunnels and a bridge on the Amchow-Yunnanfu section of the Yunnan Railway.\", \"year\": 1913, \"additionalType\": \"Photographs\"}, {\"id\": \"153925\", \"title\": \"Colourised photographic postcard of Neutral Bay, NSW\", \"year\": 1884, \"additionalType\": \"Postcards\"}, {\"id\": \"115558\", \"title\": \"Birds Eye view of Yunnanfu, July 1920\", \"year\": 1913, \"additionalType\": \"Photographs\"}, {\"id\": \"206804\", \"title\": \"Town Hall, Sydney, 2 December 1904\", \"year\": 1904, \"additionalType\": \"Postcards\"}, {\"id\": \"115146\", \"title\": \"A camel in difficulties - fallen on the slippery road with a load. Kalgan, Nov. 1914\", \"year\": 1913, \"additionalType\": \"Photographs\"}, {\"id\": \"119605\", \"title\": \"William Percy Faithfull, George Ernest Faithfull, Reginald Faithfull, Henry Montague Faithfull, April 1865\", \"year\": 1865, \"additionalType\": \"Photographs\"}, {\"id\": \"235349\", \"title\": \"Charles Kingsford Smith, Charles Ulm, Tom H McWilliams and Harold Litchfield in front of the 'Southern Cross'\", \"year\": 1928, \"additionalType\": \"Photographs\"}, {\"id\": \"110347\", \"title\": \"Photograph of Fred Daly, 1943\", \"year\": 1943, \"additionalType\": \"Photographs\"}, {\"id\": \"115872\", \"title\": \"Romania, 20 April 1910\", \"year\": 1910, \"additionalType\": \"Postcards\"}, {\"id\": \"126487\", \"title\": \"Trucks at Smiggins\", \"year\": 1950, \"additionalType\": \"Photographs\"}, {\"id\": \"123452\", \"title\": \"Black and white photographic reprint of the Australian Cricket Team of 1912 in cricket attire\", \"year\": 1912, \"additionalType\": \"Photographs\"}, {\"id\": \"126581\", \"title\": \"Munyang Power Station interior\", \"year\": 1953, \"additionalType\": \"Photographs\"}, {\"id\": \"115142\", \"title\": \"In difficulties. A fairly common occurence when climbing the rise at the top of the Kalgan pass. Jan 1915\", \"year\": 1913, \"additionalType\": \"Photographs\"}, {\"id\": \"40390\", \"title\": \"Australian and English captains, Margaret Peden and Betty Archdale, tossing the coin at 1st Test Match, Brisbane.\", \"year\": 1934, \"additionalType\": \"Photographs\"}, {\"id\": \"40400\", \"title\": \"Women's cricket match held at Goulburn. Arcadians LCC. 1931-32\", \"year\": 1932, \"additionalType\": \"Photographs\"}, {\"id\": \"115538\", \"title\": \"Lamboanga - from the deck of the Nikko Marn at the Anchorage July 1918\", \"year\": 1913, \"additionalType\": \"Photographs\"}, {\"id\": \"136389\", \"title\": \"Launching of New Manly Steamer 'Binngarra' at Woolwich Dockyard\", \"year\": 1905, \"additionalType\": \"Postcards\"}, {\"id\": \"115638\", \"title\": \"The Observatory Peking - on the East Wall. Feb 1915\", \"year\": 1913, \"additionalType\": \"Photographs\"}, {\"id\": \"71305\", \"title\": \"Silk postcard sent by Alf Barkle to his mother 24 August 1918 during World War One\", \"year\": 1918, \"additionalType\": \"Postcards\"}, {\"id\": \"113430\", \"title\": \"A black and white photograph entitled \\\"Making a turtle pose for the camera; Lady Musgrave Island\\\".\", \"year\": 1934, \"additionalType\": \"Photographs\"}, {\"id\": \"27887\", \"title\": \"Guthega, Snowy Mountains, 1957\", \"year\": 1957, \"additionalType\": \"Photographs\"}, {\"id\": \"115147\", \"title\": \"A 'water trough' at Shih Pas Tai on the plateau\", \"year\": 1913, \"additionalType\": \"Photographs\"}, {\"id\": \"115636\", \"title\": \"View of the Great Wall form the train in Nankow Pass Dec 1914\", \"year\": 1913, \"additionalType\": \"Photographs\"}, {\"id\": \"115634\", \"title\": \"A Walk on the Peak Hong Kong Sept 1921\", \"year\": 1913, \"additionalType\": \"Photographs\"}, {\"id\": \"142276\", \"title\": \"A BUSINESS ANNOUNCEMENT\", \"year\": 1906, \"additionalType\": \"Postcards\"}, {\"id\": \"74771\", \"title\": \"Ground floor verandah of main house at Springfield, 1953\", \"year\": 1953, \"additionalType\": \"Photographs\"}, {\"id\": \"75024\", \"title\": \"Photograph - Springfield woolshed and stables\", \"year\": 1945, \"additionalType\": \"Photographs\"}, {\"id\": \"115731\", \"title\": \"Xmas Table at Drakes 1921\", \"year\": 1913, \"additionalType\": \"Photographs\"}, {\"id\": \"153942\", \"title\": \"Photographic postcard of Fairy Bower, Manly, NSW\", \"year\": 1884, \"additionalType\": \"Postcards\"}, {\"id\": \"115145\", \"title\": \"Struggling through the mud in streets of Kalgan Augt 1914\", \"year\": 1913, \"additionalType\": \"Photographs\"}, {\"id\": \"22117\", \"title\": \"Victorian Cricket team in 1920 with captain E.R. Mayne in front of the group\", \"year\": 1920, \"additionalType\": \"Photographs\"}, {\"id\": \"118918\", \"title\": \"Black and white photograph of a military tent camp and the camp kitchen with five military personnel\", \"year\": 1927, \"additionalType\": \"Photographs\"}, {\"id\": \"140072\", \"title\": \"Bourke Street, Melbourne\", \"year\": 1906, \"additionalType\": \"Postcards\"}, {\"id\": \"111761\", \"title\": \"Photograph of Keith Anderson, the late pilot of Westland Wigeon aircraft 'Kookaburra'\", \"year\": 1929, \"additionalType\": \"Photographs\"}, {\"id\": \"231624\", \"title\": \"Photograph of Charles Kingsford Smith, Charles Ulm and Garnet Malley, 1929\", \"year\": 1929, \"additionalType\": \"Photographs\"}, {\"id\": \"115733\", \"title\": \"A farmers son. Age 12. Married. Jan 1915\", \"year\": 1913, \"additionalType\": \"Photographs\"}, {\"id\": \"153940\", \"title\": \"Photographic postcard of Coogee Beach, NSW\", \"year\": 1887, \"additionalType\": \"Postcards\"}, {\"id\": \"115637\", \"title\": \"A section of the Great Wall which is at the top of Nankow Pass Feb 1915\", \"year\": 1913, \"additionalType\": \"Photographs\"}, {\"id\": \"74775\", \"title\": \"Cottage in winter\", \"year\": 1953, \"additionalType\": \"Photographs\"}, {\"id\": \"113331\", \"title\": \"Photograph of seven teachers posed in front of a tree\", \"year\": 1963, \"additionalType\": \"Photographs\"}, {\"id\": \"22119\", \"title\": \"Black and white photograph of the ship R.M.S. Osterley with the signatures of the Australian and English cricket teams\", \"year\": 1921, \"additionalType\": \"Photographs\"}, {\"id\": \"147566\", \"title\": \"Portrait of Frank Feast\", \"year\": 1920, \"additionalType\": \"Photographs\"}, {\"id\": \"153948\", \"title\": \"Photographic postcard of Sydney Observatory, NSW\", \"year\": 1884, \"additionalType\": \"Postcards\"}, {\"id\": \"116069\", \"title\": \"Hankow Special Emergency Corps. January 1927. H.Q\", \"year\": 1913, \"additionalType\": \"Photographs\"}, {\"id\": \"115870\", \"title\": \"High Sea, Bognor, 9 August 1904\", \"year\": 1904, \"additionalType\": \"Postcards\"}, {\"id\": \"118810\", \"title\": \"Black and white photograph of two lieutenants holding 51 Battalion banners\", \"year\": 1927, \"additionalType\": \"Photographs\"}, {\"id\": \"33729\", \"title\": \"'His first pair' by May Gibbs, 9 December 1916\", \"year\": 1916, \"additionalType\": \"Postcards\"}, {\"id\": \"224691\", \"title\": \"Photograph of three children and woman standing beside building\", \"year\": 1900, \"additionalType\": \"Photographs\"}, {\"id\": \"239263\", \"title\": \"Team photograph, Richmond Football Club, VFL Premiers 1969\", \"year\": 1969, \"additionalType\": \"Photographs\"}, {\"id\": \"239224\", \"title\": \"Team photograph, Victorian Football League, Victoria v South Australia, Adelaide 1967\", \"year\": 1967, \"additionalType\": \"Photographs\"}, {\"id\": \"53868\", \"title\": \"Photograph of Reima Hodgkinson at Coronet Peak, New Zeland, 1952\", \"year\": 1952, \"additionalType\": \"Photographs\"}, {\"id\": \"112938\", \"title\": \"Sir Ernest Cable's property, Devon, 1915\", \"year\": 1915, \"additionalType\": \"Photographs\"}, {\"id\": \"115827\", \"title\": \"Chinese Grave on Hillside. Winchow May 1917\", \"year\": 1913, \"additionalType\": \"Photographs\"}, {\"id\": \"140313\", \"title\": \"Frank Proust at crash site of Southern Cloud\", \"year\": 1958, \"additionalType\": \"Photographs\"}, {\"id\": \"115531\", \"title\": \"Photograph of a street scene with a stone wall running across the front and telegraph poles along the front of the wall.\", \"year\": 1913, \"additionalType\": \"Photographs\"}, {\"id\": \"153946\", \"title\": \"Photographic postcard of Sydney Harbour from Hotel Australia\", \"year\": 1884, \"additionalType\": \"Postcards\"}, {\"id\": \"133065\", \"title\": \"Photograph of a crowd of people on the street outside J B Young's department Store, Queanbeyan, NSW, 1956\", \"year\": 1956, \"additionalType\": \"Photographs\"}, {\"id\": \"58527\", \"title\": \"Black and white photograph of Randwick District Rugby Union Football Club, 1st Grade, 1923\", \"year\": 1923, \"additionalType\": \"Photographs\"}, {\"id\": \"136202\", \"title\": \"J B Young Limited, Queanbeyan\", \"year\": 1956, \"additionalType\": \"Photographs\"}, {\"id\": \"58278\", \"title\": \"Australian Engineers, Australian Commonwealth Military Forces Greeting card 'France, Christmas 1916'\", \"year\": 1916, \"additionalType\": \"Postcards\"}, {\"id\": \"74737\", \"title\": \"Wedding of Minna Gibson to Edward W. A. Kendall on 12 February 1901 at Burrungurroolong\", \"year\": 1901, \"additionalType\": \"Photographs\"}, {\"id\": \"74734\", \"title\": \"Miriam + Sylvia Morrice riding Jean & Peggy.  Taken outside Belmore Park Goulburn / 1907\", \"year\": 1907, \"additionalType\": \"Photographs\"}, {\"id\": \"74974\", \"title\": \"Florence Ethel and Hazel Faithfull in Egypt, 1914\", \"year\": 1914, \"additionalType\": \"Photographs\"}, {\"id\": \"115679\", \"title\": \"Photograph of men sitting at a table drinking tea\", \"year\": 1913, \"additionalType\": \"Photographs\"}, {\"id\": \"75466\", \"title\": \"Lilian Hazel Faithfull on her wedding day to Henry Yorke Graham Henderson, 11 July 1922\", \"year\": 1922, \"additionalType\": \"Photographs\"}, {\"id\": \"32781\", \"title\": \"Australian mining - Prospecting for gold, 21 January 1909\", \"year\": 1909, \"additionalType\": \"Postcards\"}, {\"id\": \"58528\", \"title\": \"Black and white photograph of Randwick Junior Rugby Union Football Club, 2nd Grade Runners-Up, 1920\", \"year\": 1920, \"additionalType\": \"Photographs\"}, {\"id\": \"116653\", \"title\": \"Benny Zable in costume outside of the South Australian Parliament House in 1987\", \"year\": 1984, \"additionalType\": \"Photographs\"}, {\"id\": \"118954\", \"title\": \"Black and white photograph of St. John's Church in Reid, Canberra\", \"year\": 1927, \"additionalType\": \"Photographs\"}, {\"id\": \"112939\", \"title\": \"Sir Ernest Cable's property, Devon, 1915\", \"year\": 1915, \"additionalType\": \"Photographs\"}, {\"id\": \"126155\", \"title\": \"Photograph of Harold Treloar in a motor car\", \"year\": 1910, \"additionalType\": \"Photographs\"}, {\"id\": \"58526\", \"title\": \"Black and white photograph of Wally Meagher, Captain of the Waratahs Rugby Union Team, 1928\", \"year\": 1928, \"additionalType\": \"Photographs\"}, {\"id\": \"74875\", \"title\": \"Depicts fifteen girls and five boys at the birthday party for Florence Ethel Faithfull and Mary Bryden, on the verandah at Springfield, 1903\", \"year\": 1903, \"additionalType\": \"Photographs\"}, {\"id\": \"114690\", \"title\": \"Chinese barbers\", \"year\": 1913, \"additionalType\": \"Photographs\"}, {\"id\": \"114695\", \"title\": \"Ox cart drawing water for household use. Jan 1915\", \"year\": 1913, \"additionalType\": \"Photographs\"}, {\"id\": \"114692\", \"title\": \"Photograph of three Chinese children\", \"year\": 1913, \"additionalType\": \"Photographs\"}, {\"id\": \"58529\", \"title\": \"Black and white photograph of Randwick Junior Rugby Union Football Club, 3rd Grade Premiers, 1920\", \"year\": 1920, \"additionalType\": \"Photographs\"}, {\"id\": \"113862\", \"title\": \"At Mount Buffalo, Victoria\", \"year\": 1935, \"additionalType\": \"Photographs\"}, {\"id\": \"115829\", \"title\": \"Robber arrested by one of the patrols on the road between Tunghai and Shilping\", \"year\": 1913, \"additionalType\": \"Photographs\"}, {\"id\": \"136195\", \"title\": \"Miss Australia at the opening of J B Young Queanbeyan\", \"year\": 1956, \"additionalType\": \"Photographs\"}, {\"id\": \"40499\", \"title\": \"1929-30 Victorian Women's Cricket Team\", \"year\": 1930, \"additionalType\": \"Photographs\"}, {\"id\": \"145211\", \"title\": \"The Hello Man Entertains the Children at 2FC\", \"year\": 1928, \"additionalType\": \"Postcards\"}, {\"id\": \"40115\", \"title\": \"Cricketer Nance Clements putting on batting pads\", \"year\": 1937, \"additionalType\": \"Photographs\"}, {\"id\": \"151646\", \"title\": \"Junction of King Street and George street, Sydney, 7 August 1908\", \"year\": 1908, \"additionalType\": \"Postcards\"}, {\"id\": \"39649\", \"title\": \"Amy Hudson batting during the Interstate Championships in Sydney in 1934\", \"year\": 1934, \"additionalType\": \"Photographs\"}, {\"id\": \"116023\", \"title\": \"Native beaters - used on our 'pig' hunt - Feb 1920\", \"year\": 1913, \"additionalType\": \"Photographs\"}, {\"id\": \"74832\", \"title\": \"Lilian Faithfull in her wedding dress, standing on the veranda at Springfield holding her bouquet in her right hand, 1896\", \"year\": 1896, \"additionalType\": \"Photographs\"}, {\"id\": \"152476\", \"title\": \"Cockatoo Island\", \"year\": 1819, \"additionalType\": \"Postcards\"}, {\"id\": \"116022\", \"title\": \"Christmas Greetings, Mosman Bay, Sydney, N.S.W, 1919\", \"year\": 1919, \"additionalType\": \"Postcards\"}, {\"id\": \"126309\", \"title\": \"Photograph of W H Treloar and Major G De Havilland, in Adelaide, in 1934\", \"year\": 1934, \"additionalType\": \"Photographs\"}, {\"id\": \"136404\", \"title\": \" Life On The Ocean Wave - or - The Queen Elizabeth's Relief\", \"year\": 1908, \"additionalType\": \"Postcards\"}, {\"id\": \"115821\", \"title\": \"Cormorants - used for fishing by the Chinese. Between Linshowfu and Kweilin Apl 1917\", \"year\": 1913, \"additionalType\": \"Photographs\"}, {\"id\": \"74839\", \"title\": \"Large bed of hyacinths at Springfield with a female figure in the background, 1916\", \"year\": 1916, \"additionalType\": \"Photographs\"}, {\"id\": \"49202\", \"title\": \"Photograph 'from slopes of Black Mt across lake to Yarralumla Nursery headland, 1971'\", \"year\": 1971, \"additionalType\": \"Photographs\"}, {\"id\": \"49192\", \"title\": \"Photograph 'across lake from opposite entrance ANU Club, to peninsula, Yarralumla etc, 1971'\", \"year\": 1971, \"additionalType\": \"Photographs\"}, {\"id\": \"230142\", \"title\": \"Postcard of Massey-Harris 'ORANGE DEPOT'\", \"year\": 1909, \"additionalType\": \"Postcards\"}, {\"id\": \"49195\", \"title\": \"Photograph of 'Spring Bank Island from slopes Black Mt, 1971'\", \"year\": 1971, \"additionalType\": \"Photographs\"}, {\"id\": \"112440\", \"title\": \"Photograph of Her Majesty Queen Elizabeth II and His Royal Highness The Duke of Edinburgh in an open car\", \"year\": 1954, \"additionalType\": \"Photographs\"}, {\"id\": \"153944\", \"title\": \"Photographic postcard of Balmoral Beach, NSW\", \"year\": 1884, \"additionalType\": \"Postcards\"}, {\"id\": \"115533\", \"title\": \"Photograph of a street scene with a multi story building to the left and a grassy area in front of the building\", \"year\": 1913, \"additionalType\": \"Photographs\"}, {\"id\": \"153947\", \"title\": \"Photographic postcard of big gun practice in Middle Head, Sydney NSW\", \"year\": 1884, \"additionalType\": \"Postcards\"}, {\"id\": \"115675\", \"title\": \"Tea tables in the open air. always largely patronized largely by coolies etc. Kalgan 14.3.1914\", \"year\": 1913, \"additionalType\": \"Photographs\"}, {\"id\": \"112937\", \"title\": \"Sir Ernest Cable's property, Devon, 1915\", \"year\": 1915, \"additionalType\": \"Photographs\"}, {\"id\": \"40016\", \"title\": \"Girl and boy dressed in period costume, boy presenting flowers to girl\", \"year\": 1938, \"additionalType\": \"Photographs\"}, {\"id\": \"79882\", \"title\": \"Carte de visite portrait photograph of Nathaniel Myers\", \"year\": 1867, \"additionalType\": \"Photographs\"}, {\"id\": \"49193\", \"title\": \"Photograph 'from near Geophysics building to Black Mt & CSIRO (across Sullivans Creek), 1971'\", \"year\": 1971, \"additionalType\": \"Photographs\"}, {\"id\": \"50144\", \"title\": \"Colour photograph of Tasmanian Peace Wagon launch in October 1984, a Quaker Peace Centre project\", \"year\": 1984, \"additionalType\": \"Photographs\"}, {\"id\": \"230143\", \"title\": \"Postcard of Massey-Harris 'PARKES AGENCY'\", \"year\": 1909, \"additionalType\": \"Postcards\"}, {\"id\": \"49203\", \"title\": \"Photograph 'from slopes of Black Mt across lake to Yarralumla Nursery headland, 1971'\", \"year\": 1971, \"additionalType\": \"Photographs\"}, {\"id\": \"116061\", \"title\": \"Outdoor scene featuring a man and woman sitting in a grassy yard in cane chairs\", \"year\": 1913, \"additionalType\": \"Photographs\"}, {\"id\": \"119201\", \"title\": \"Black and white portrait of a man, 1960\", \"year\": 1960, \"additionalType\": \"Photographs\"}, {\"id\": \"143612\", \"title\": \"Photograph of five children in a wheelbarrow\", \"year\": 1920, \"additionalType\": \"Photographs\"}, {\"id\": \"50145\", \"title\": \"Colouor photograph of the Peace Wagon in Orford depicting Robyn Tripp, 1984\", \"year\": 1984, \"additionalType\": \"Photographs\"}, {\"id\": \"233763\", \"title\": \"Three quarter length portrait photograph of Lieutenant Vincent Burns, 1916\", \"year\": 1916, \"additionalType\": \"Photographs\"}, {\"id\": \"49205\", \"title\": \"Photograph of 'roadside across lake to Yarralumla Nursery headland, 1971'\", \"year\": 1971, \"additionalType\": \"Photographs\"}, {\"id\": \"115727\", \"title\": \"Our Puppies. B.A.T. mess Apl 1914\", \"year\": 1913, \"additionalType\": \"Photographs\"}, {\"id\": \"22129\", \"title\": \"Photograph of Edgar Richard Mayne standing in front of the scoreboard of the East Melbourne Cricket Club\", \"year\": 1921, \"additionalType\": \"Photographs\"}, {\"id\": \"74933\", \"title\": \"Committee Tirranna Picnic Races 1904\", \"year\": 1904, \"additionalType\": \"Photographs\"}, {\"id\": \"126160\", \"title\": \"Photograph of motor cars lined up outside Young Bros Auctioneers at a Special Sheep Sale\", \"year\": 1910, \"additionalType\": \"Photographs\"}, {\"id\": \"136153\", \"title\": \"J B Young Queanbeyan store at night\", \"year\": 1956, \"additionalType\": \"Photographs\"}, {\"id\": \"141248\", \"title\": \"Wedding breakfast\", \"year\": 1916, \"additionalType\": \"Photographs\"}, {\"id\": \"50146\", \"title\": \"Colour photograph of the launch of the Peace Bus, Hobart, October 1984\", \"year\": 1984, \"additionalType\": \"Photographs\"}, {\"id\": \"115476\", \"title\": \"Photograph of a pagoda enclosed by a long one story building with a stone wall behind it\", \"year\": 1913, \"additionalType\": \"Photographs\"}, {\"id\": \"50147\", \"title\": \"Colour photograph of Rodney Baker and Kit Hokanson in front of Tasmania's Peace Bus\", \"year\": 1984, \"additionalType\": \"Photographs\"}, {\"id\": \"137726\", \"title\": \"Frank Proust and others en route to Southern Cloud crash site\", \"year\": 1958, \"additionalType\": \"Photographs\"}, {\"id\": \"49201\", \"title\": \"Photograph 'from slopes of Black Mt across lake to Yarralumla Nursery headland, 1971'\", \"year\": 1971, \"additionalType\": \"Photographs\"}, {\"id\": \"49191\", \"title\": \"Photograph 'across lake from opposite entrance ANU Club, 1971'\", \"year\": 1971, \"additionalType\": \"Photographs\"}, {\"id\": \"115629\", \"title\": \"Photograph of a white stone bridge featuring five arches\", \"year\": 1913, \"additionalType\": \"Photographs\"}, {\"id\": \"115627\", \"title\": \"Photograph of a partially crumbling stone structure\", \"year\": 1913, \"additionalType\": \"Photographs\"}, {\"id\": \"118854\", \"title\": \"Black and white photograph showing three military personnel in a tent\", \"year\": 1927, \"additionalType\": \"Photographs\"}, {\"id\": \"230141\", \"title\": \"Postcard of Massey-Harris 'TEMORA AGENCY'.\", \"year\": 1909, \"additionalType\": \"Postcards\"}, {\"id\": \"49204\", \"title\": \"Photograph 'from slopes of Black Mt across lake to Yarralumla Nursery headland, 1971'\", \"year\": 1971, \"additionalType\": \"Photographs\"}, {\"id\": \"137725\", \"title\": \"Frank Proust at crash site of Southern Cloud\", \"year\": 1958, \"additionalType\": \"Photographs\"}, {\"id\": \"118366\", \"title\": \"Plane Birdsville, 1953\", \"year\": 1953, \"additionalType\": \"Photographs\"}, {\"id\": \"148802\", \"title\": \"Postcard featuring a coloured print of a red haired women wearing a tartan head-dress and sporran\", \"year\": 1918, \"additionalType\": \"Postcards\"}, {\"id\": \"74780\", \"title\": \"1909. Aunt Florie's car, probably collected in Sydney by Lucian Faithfull. The car is a Minerva, made in Belgium and famous as luxury cars\", \"year\": 1909, \"additionalType\": \"Photographs\"}, {\"id\": \"115474\", \"title\": \"A pagoda in a temple compound at Lamannao Jan 1915\", \"year\": 1913, \"additionalType\": \"Photographs\"}, {\"id\": \"230140\", \"title\": \"Postcard of Massey-Harris 'TAMWORTH DEPOT'\", \"year\": 1909, \"additionalType\": \"Postcards\"}, {\"id\": \"80472\", \"title\": \"Why don't you send your boy to school?, 26 December 1905\", \"year\": 1905, \"additionalType\": \"Postcards\"}, {\"id\": \"40386\", \"title\": \"Australian cricketers Nance Clements, Alice Wegemund and Sue Summer, 1937 in England\", \"year\": 1985, \"additionalType\": \"Photographs\"}, {\"id\": \"148791\", \"title\": \"Photograph of girl on wooden horse tricycle\", \"year\": 1885, \"additionalType\": \"Photographs\"}, {\"id\": \"49194\", \"title\": \"Photograph 'from near Geophysics bld across Sullivans Creek to Black Mt & CSIRO, 1971'\", \"year\": 1971, \"additionalType\": \"Photographs\"}, {\"id\": \"151679\", \"title\": \"I've lost my togs, 21 January 1918\", \"year\": 1918, \"additionalType\": \"Postcards\"}, {\"id\": \"136159\", \"title\": \"Fashion parade at J B Young Queanbeyan\", \"year\": 1956, \"additionalType\": \"Photographs\"}, {\"id\": \"115724\", \"title\": \"Safrany (with Marquis) His niece, Mlle Liontitza (with Prince). In B.A.T garden Y'fu Mch 1920\", \"year\": 1913, \"additionalType\": \"Photographs\"}, {\"id\": \"30657\", \"title\": \"Gannon and Gibson Grocers\", \"year\": 1917, \"additionalType\": \"Postcards\"}, {\"id\": \"116067\", \"title\": \"On the Great Wall Kalgan. Taken by Mrs Merriman\", \"year\": 1913, \"additionalType\": \"Photographs\"}, {\"id\": \"137724\", \"title\": \"Frank Proust slips en route to Southern Cloud crash site\", \"year\": 1958, \"additionalType\": \"Photographs\"}, {\"id\": \"115139\", \"title\": \"Row of camels crossing a river\", \"year\": 1913, \"additionalType\": \"Photographs\"}, {\"id\": \"49200\", \"title\": \"Photograph 'from slopes of Black Mt across lake to hospital, Parliament House etc, 1971'\", \"year\": 1971, \"additionalType\": \"Photographs\"}, {\"id\": \"115135\", \"title\": \"Filling the water cart at a well in Lamamao\", \"year\": 1913, \"additionalType\": \"Photographs\"}, {\"id\": \"239309\", \"title\": \"Team photograph, Victoria v South Australia at Adelaide, Saturday 12th May 1973\", \"year\": 1973, \"additionalType\": \"Photographs\"}, {\"id\": \"115625\", \"title\": \"A dog in a blue fez sitting at a table, 22 November 1904\", \"year\": 1904, \"additionalType\": \"Postcards\"}, {\"id\": \"239306\", \"title\": \"Team photographs of Richmond Football Club VFL Premiers 1973 and All Australian Club Champions\", \"year\": 1973, \"additionalType\": \"Photographs\"}, {\"id\": \"125080\", \"title\": \"Photograph of Parliament House, Canberra, shortly after its completion\", \"year\": 1926, \"additionalType\": \"Photographs\"}, {\"id\": \"136155\", \"title\": \"Fashion parade at J B Young Queanbeyan\", \"year\": 1956, \"additionalType\": \"Photographs\"}, {\"id\": \"204081\", \"title\": \"View of Anthony Hordern Emporium, April 1921\", \"year\": 1921, \"additionalType\": \"Postcards\"}, {\"id\": \"239152\", \"title\": \"Charles Kingsford Smith and James and Emma Hammond with aircraft G-AUDK,  29 January 1927\", \"year\": 1927, \"additionalType\": \"Photographs\"}, {\"id\": \"115472\", \"title\": \"Private quarters where we stayed on account of the inn being full\", \"year\": 1913, \"additionalType\": \"Photographs\"}, {\"id\": \"40385\", \"title\": \"Australian cricketers meeting the Mayor of Liverpool, England, 1937.\", \"year\": 1985, \"additionalType\": \"Photographs\"}, {\"id\": \"148162\", \"title\": \"Postcard featuring a sepia photograph of a standing soldier,in a slouch hat and buttoned up greatcoat, with his hand on a rattan chair\", \"year\": 1918, \"additionalType\": \"Postcards\"}, {\"id\": \"33059\", \"title\": \"The Custom House, Sydney, 1 May 1906\", \"year\": 1906, \"additionalType\": \"Postcards\"}, {\"id\": \"115626\", \"title\": \"Photograph of a bridge, over water\", \"year\": 1913, \"additionalType\": \"Photographs\"}, {\"id\": \"58518\", \"title\": \"Finalists in the women's 100 metre freestyle at the 1920 Olympics at Antwerp, Belgium\", \"year\": 1920, \"additionalType\": \"Photographs\"}, {\"id\": \"115722\", \"title\": \"K.A. Aumuller - Self in the Mengtze Mess quarters - Summer 1919\", \"year\": 1913, \"additionalType\": \"Photographs\"}, {\"id\": \"74785\", \"title\": \"Large group of people in an outdoor setting,15 June 1910\", \"year\": 1910, \"additionalType\": \"Photographs\"}, {\"id\": \"126609\", \"title\": \"Munyang workshop, Winter 1953\", \"year\": 1953, \"additionalType\": \"Photographs\"}, {\"id\": \"30699\", \"title\": \" 'Who Is The Taller?'\", \"year\": 1907, \"additionalType\": \"Postcards\"}, {\"id\": \"115720\", \"title\": \"An Anamite woman - in Hanor\", \"year\": 1913, \"additionalType\": \"Photographs\"}, {\"id\": \"153930\", \"title\": \"Colourised photographic postcard of Watson's Bay, NSW\", \"year\": 1884, \"additionalType\": \"Postcards\"}, {\"id\": \"118897\", \"title\": \"Black and white photograph of a view over a military tent camp\", \"year\": 1927, \"additionalType\": \"Photographs\"}, {\"id\": \"115623\", \"title\": \"Photograph of a partially crumbling stone structure with no roof\", \"year\": 1913, \"additionalType\": \"Photographs\"}, {\"id\": \"112207\", \"title\": \"John Sands Ltd Centenary Luncheon on 22 June 1937\", \"year\": 1937, \"additionalType\": \"Photographs\"}, {\"id\": \"113860\", \"title\": \"Arncliffe residents in Rockdale Town hall at send-off to Mr Montgomery Headmaster of Arncliffe school...about 1926\", \"year\": 1926, \"additionalType\": \"Photographs\"}, {\"id\": \"239221\", \"title\": \"Team photograph, Richmond Football Club, VFL Premiers 1967\", \"year\": 1967, \"additionalType\": \"Photographs\"}, {\"id\": \"40110\", \"title\": \"Photograph of the English Women's Cricket Team walking out onto the Sydney Cricket Ground in 1934\", \"year\": 1934, \"additionalType\": \"Photographs\"}, {\"id\": \"112935\", \"title\": \"Sir Ernest Cable's property, Devon, 1915\", \"year\": 1915, \"additionalType\": \"Photographs\"}, {\"id\": \"115825\", \"title\": \"Carrying a dead man back to his native town, Kalgan 25.6.1914\", \"year\": 1913, \"additionalType\": \"Photographs\"}, {\"id\": \"152478\", \"title\": \"View of Sydney Cove\", \"year\": 1819, \"additionalType\": \"Postcards\"}, {\"id\": \"115181\", \"title\": \"A pagoda Yammanfu\", \"year\": 1913, \"additionalType\": \"Photographs\"}, {\"id\": \"74833\", \"title\": \"Lilian Faithfull and William Anderson on their wedding day, 16th February 1898, outside the Big House at Springfield.\", \"year\": 1898, \"additionalType\": \"Photographs\"}, {\"id\": \"115729\", \"title\": \"O'Maman's Siberian Hunting dog, Kalgan, Dec. 1914\", \"year\": 1913, \"additionalType\": \"Photographs\"}, {\"id\": \"126308\", \"title\": \"Photograph of Horace Miller re-fuelling a Fokker aircraft\", \"year\": 1930, \"additionalType\": \"Photographs\"}, {\"id\": \"115672\", \"title\": \"Drilling recruits in the country on the road from Yunnufu to Wutung Oct 1919\", \"year\": 1913, \"additionalType\": \"Photographs\"}, {\"id\": \"116020\", \"title\": \"The Bridge, Camden, 19 November 1908\", \"year\": 1908, \"additionalType\": \"Postcards\"}, {\"id\": \"116021\", \"title\": \"Kominatos and his dogs Jan 1920\", \"year\": 1913, \"additionalType\": \"Photographs\"}, {\"id\": \"75078\", \"title\": \"Aerial photograph of Springfield\", \"year\": 1978, \"additionalType\": \"Photographs\"}, {\"id\": \"58520\", \"title\": \"American and NSW women swimmers at Toowoomba, Queensland, 1911\", \"year\": 1911, \"additionalType\": \"Photographs\"}, {\"id\": \"74831\", \"title\": \"Lilian Faithfull standing on the verandah at Springfieldon on her wedding day, 16 February 1898\", \"year\": 1898, \"additionalType\": \"Photographs\"}, {\"id\": \"112936\", \"title\": \"Sir Ernest Cable's property, Devon, 1915\", \"year\": 1915, \"additionalType\": \"Photographs\"}, {\"id\": \"152477\", \"title\": \"SOUTH VIEW FROM THE HILL FLAGSTAFF, Sydney.\", \"year\": 1819, \"additionalType\": \"Postcards\"}, {\"id\": \"152475\", \"title\": \"AT NIGHT IN THE DIGGINGS. OLD SYDNEY .\", \"year\": 1852, \"additionalType\": \"Postcards\"}, {\"id\": \"136199\", \"title\": \"Opening of J B Young Queanbeyan\", \"year\": 1956, \"additionalType\": \"Photographs\"}, {\"id\": \"59494\", \"title\": \"Changing tracks, Ernabella 1977\", \"year\": 1977, \"additionalType\": \"Photographs\"}, {\"id\": \"115824\", \"title\": \"The Canal (actually a river) in front of the B.A.T. Mess Yunnanfu in flood Augt 1920\", \"year\": 1913, \"additionalType\": \"Photographs\"}, {\"id\": \"40500\", \"title\": \"1937 Australian Women's Cricket Team\", \"year\": 1937, \"additionalType\": \"Photographs\"}, {\"id\": \"132914\", \"title\": \"Photograph titled 'C16 The same area, October 1929, showing almost complete destruction by Cactoblastis'\", \"year\": 1929, \"additionalType\": \"Photographs\"}, {\"id\": \"118724\", \"title\": \"Black and white photographs titled 'Canberra from Parliament House 1927'\", \"year\": 1927, \"additionalType\": \"Photographs\"}, {\"id\": \"115737\", \"title\": \"View of one side of the Church Missionary Society Hospital. Yunnanfu\", \"year\": 1913, \"additionalType\": \"Photographs\"}, {\"id\": \"40405\", \"title\": \"Australian Test cricketers Molly Dive and Pat Holmes with Dutch player Sophie Broekmans.\", \"year\": 1985, \"additionalType\": \"Photographs\"}, {\"id\": \"49210\", \"title\": \"Photograph of Edna Thompson, Ida and Vera at Manly, Christmas 1937\", \"year\": 1937, \"additionalType\": \"Photographs\"}, {\"id\": \"40399\", \"title\": \"Women's cricket match held at Goulburn. Arcadians LCC. 1931-32\", \"year\": 1932, \"additionalType\": \"Photographs\"}, {\"id\": \"172159\", \"title\": \"Postcard featuring photograph of Balmain regatta, 20 December 1906\", \"year\": 1906, \"additionalType\": \"Postcards\"}, {\"id\": \"118725\", \"title\": \"Black and white photograph titled 'Canberra from Parliament House 1927'\", \"year\": 1927, \"additionalType\": \"Photographs\"}, {\"id\": \"254581\", \"title\": \"Portrait photograph of Lieutenant Vincent Burns, 1916\", \"year\": 1916, \"additionalType\": \"Photographs\"}, {\"id\": \"40396\", \"title\": \"Trophy placed on a chair, garden background\", \"year\": 1932, \"additionalType\": \"Photographs\"}, {\"id\": \"22112\", \"title\": \"Victorian captain E.R. Mayne and English captain J.W.H.T. Douglas inspecting the Melbourne Cricket Ground wicket in the rain\", \"year\": 1920, \"additionalType\": \"Photographs\"}, {\"id\": \"132915\", \"title\": \"Photograph titled 'C16 dense pear in forest country before insect attack at Chinchilla, Queensland in October 1926'\", \"year\": 1926, \"additionalType\": \"Photographs\"}, {\"id\": \"58519\", \"title\": \"American and NSW women swimmers at Toowoomba, Queensland, 1911\", \"year\": 1911, \"additionalType\": \"Photographs\"}, {\"id\": \"74939\", \"title\": \"Black and white photograph of members of the Harden polo team\", \"year\": 1929, \"additionalType\": \"Photographs\"}, {\"id\": \"172417\", \"title\": \"Photograph accompanying racing silks in the colours of Tony Santic\", \"year\": 2003, \"additionalType\": \"Photographs\"}, {\"id\": \"239296\", \"title\": \"Team photograph, Victoria v Western Australia at Perth 17th July 1971\", \"year\": 1971, \"additionalType\": \"Photographs\"}, {\"id\": \"74782\", \"title\": \"Birthday party for Florence [Bobbie] Faithfull and Mary Bryden 1904\", \"year\": 1919, \"additionalType\": \"Photographs\"}, {\"id\": \"115134\", \"title\": \"On the road between Linchowfu and Hweilu - Crossing a River., Apl 1917\", \"year\": 1913, \"additionalType\": \"Photographs\"}, {\"id\": \"124689\", \"title\": \"Photograph of Winnie O'Sullivan standing in front of the bow of a ship\", \"year\": 1917, \"additionalType\": \"Photographs\"}, {\"id\": \"113322\", \"title\": \"Photograph of Cronulla South Public School, 2A 1966\", \"year\": 1966, \"additionalType\": \"Photographs\"}, {\"id\": \"239294\", \"title\": \"Team photograph, Richmond Football Club - Season 1971\", \"year\": 1971, \"additionalType\": \"Photographs\"}, {\"id\": \"49197\", \"title\": \"Photograph 'from slopes of Black Mt along peninsula to Yarralumla, 1971'\", \"year\": 1971, \"additionalType\": \"Photographs\"}, {\"id\": \"239303\", \"title\": \"Team photograph, VFL Representative Team 1972\", \"year\": 1972, \"additionalType\": \"Photographs\"}, {\"id\": \"49206\", \"title\": \"Photograph 'from roadside across lake to Yarralumla Nursery Headland, 1971'\", \"year\": 1971, \"additionalType\": \"Photographs\"}, {\"id\": \"49196\", \"title\": \"Photograph 'across Spring Bank Island from slopes of Black Mt, 1971'\", \"year\": 1971, \"additionalType\": \"Photographs\"}, {\"id\": \"22116\", \"title\": \"Autographed photograph of the Australian Cricket Team in England, 1912\", \"year\": 1912, \"additionalType\": \"Photographs\"}, {\"id\": \"126303\", \"title\": \"Photograph of Essendon Aerodrome about 1930\", \"year\": 1930, \"additionalType\": \"Photographs\"}, {\"id\": \"40395\", \"title\": \"Thelma Toods Bell, Madge Price - Arcadians LCC\", \"year\": 1932, \"additionalType\": \"Photographs\"}, {\"id\": \"136285\", \"title\": \"Postcard titled 'Nandi Sacred Bull, Benares' from Joan Richmond\", \"year\": 1931, \"additionalType\": \"Postcards\"}, {\"id\": \"118627\", \"title\": \"Photograph of Harry Hawker and his Sopwith aircraft at Caulfield Racecourse 1914\", \"year\": 1914, \"additionalType\": \"Photographs\"}, {\"id\": \"140614\", \"title\": \"Photograph of the view from the Quarantine Station to Sydney Harbour\", \"year\": 1975, \"additionalType\": \"Photographs\"}, {\"id\": \"115832\", \"title\": \"Looters on the way to be executed, Kalgan 27.6.1914\", \"year\": 1913, \"additionalType\": \"Photographs\"}, {\"id\": \"40392\", \"title\": \"First English Women's Touring Cricket Team, Australia 1934-5\", \"year\": 1934, \"additionalType\": \"Photographs\"}, {\"id\": \"114121\", \"title\": \"Black and white photograph of Olegas Truchanas dressed in a sports coat, white shirt and tie\", \"year\": 1972, \"additionalType\": \"Photographs\"}, {\"id\": \"239312\", \"title\": \"Team photograph, Richmond Football Club - Season 1974\", \"year\": 1974, \"additionalType\": \"Photographs\"}, {\"id\": \"116073\", \"title\": \"Sepia toned photograph of a young man wearing a bow tie with a flower in his lapel\", \"year\": 1913, \"additionalType\": \"Photographs\"}, {\"id\": \"233776\", \"title\": \"Photograph of Lieutenant Vincent Burns in leather folder, 1916\", \"year\": 1916, \"additionalType\": \"Photographs\"}, {\"id\": \"40401\", \"title\": \"Members of the Arcadians LCC Goulburn NSW 1932-33\", \"year\": 1932, \"additionalType\": \"Photographs\"}, {\"id\": \"140615\", \"title\": \"Photograph of an inscription carved into a rock face which begins \\\"STOP. Let weary travellers listen...\\\"\", \"year\": 1975, \"additionalType\": \"Photographs\"}, {\"id\": \"112943\", \"title\": \"Sir Ernest Cable's property, Devon, 1915\", \"year\": 1915, \"additionalType\": \"Photographs\"}, {\"id\": \"132911\", \"title\": \"Photograph titled 'The same selection in October 1929, showing destruction of prickly pear by Cactoblastis cactorum'\", \"year\": 1929, \"additionalType\": \"Photographs\"}, {\"id\": \"132916\", \"title\": \"Photograph titled 'The same area after the destruction of the original pear growth in October 1929'\", \"year\": 1929, \"additionalType\": \"Photographs\"}, {\"id\": \"40398\", \"title\": \"Women's cricket match held at Goulburn. Arcadians LCC. Large building in background. 1931-32\", \"year\": 1932, \"additionalType\": \"Photographs\"}, {\"id\": \"148782\", \"title\": \"Photograph of young girl and baby\", \"year\": 1917, \"additionalType\": \"Photographs\"}, {\"id\": \"22110\", \"title\": \"Photograph of cricket match, Australia vs Essex, England, 1912\", \"year\": 1912, \"additionalType\": \"Photographs\"}, {\"id\": \"211529\", \"title\": \"George Street, Sydney, 17 May 1921\", \"year\": 1921, \"additionalType\": \"Postcards\"}, {\"id\": \"116079\", \"title\": \"Woman sitting with a child with the child's hand on the woman's shoulder and a teddy bear on the ground\", \"year\": 1913, \"additionalType\": \"Photographs\"}, {\"id\": \"145312\", \"title\": \"Cartoon character wearing a green hat, 22 December 1912\", \"year\": 1912, \"additionalType\": \"Postcards\"}, {\"id\": \"132917\", \"title\": \"Photograph titled 'Opuntia inermis the common Pest Pear at Chinchilla Q'land on which Cactoblastis eggs were released in November 1926'\", \"year\": 1926, \"additionalType\": \"Photographs\"}, {\"id\": \"115732\", \"title\": \"Hackman & Thachen feeding the baby camel, B.A.T. Kalgan 25-4-1914\", \"year\": 1913, \"additionalType\": \"Photographs\"}, {\"id\": \"153941\", \"title\": \"Photographic postcard of Middle Harbour, NSW\", \"year\": 1884, \"additionalType\": \"Postcards\"}, {\"id\": \"141785\", \"title\": \"Guess What I Am?\", \"year\": 1907, \"additionalType\": \"Postcards\"}, {\"id\": \"153943\", \"title\": \"Photographic postcard of Ocean Beach, Manly, NSW\", \"year\": 1885, \"additionalType\": \"Postcards\"}, {\"id\": \"114798\", \"title\": \"Hazel Faithfull seated on a cane chair with four dogs around her in a garden setting.\", \"year\": 1901, \"additionalType\": \"Photographs\"}, {\"id\": \"114807\", \"title\": \"Fifteen girls and five boys at the birthday party for Florence Ethel Faithfull and Mary Bryden, on the verandah at Springfield.\", \"year\": 1903, \"additionalType\": \"Photographs\"}, {\"id\": \"113820\", \"title\": \"Mrs Jn. Turner sitting on a bench and the construction of the Sydney Harbour Bridge in the background\", \"year\": 1926, \"additionalType\": \"Photographs\"}, {\"id\": \"118623\", \"title\": \"Black and white photograph titled 'Canberra from Parliament House 1927'\", \"year\": 1927, \"additionalType\": \"Photographs\"}, {\"id\": \"126489\", \"title\": \"Aftermath of accident involving Bedford bus which went off the Island Bend-Guthega road avoiding a semi-trailer on its way up the hill...\", \"year\": 1951, \"additionalType\": \"Photographs\"}, {\"id\": \"31624\", \"title\": \"Australian Bush Fire Series, 26 June 1906\", \"year\": 1906, \"additionalType\": \"Postcards\"}, {\"id\": \"239316\", \"title\": \"Team photograph, Victoria v Western Australia, Perth 1974\", \"year\": 1974, \"additionalType\": \"Photographs\"}, {\"id\": \"74773\", \"title\": \"Men, women and children standing with the foremost row of children sitting on a bench. Empire Day Picnic and Sports in aid of Belgian fund 1915\", \"year\": 1915, \"additionalType\": \"Photographs\"}, {\"id\": \"118624\", \"title\": \"Black and white photograph of Mr H G Moss, possibly associated with the 1946 London Reparations Conference\", \"year\": 1946, \"additionalType\": \"Photographs\"}, {\"id\": \"115539\", \"title\": \"Outside the big gate Kalgan - being the start of the journey in the Pass which leads to Mongolia\", \"year\": 1913, \"additionalType\": \"Photographs\"}, {\"id\": \"115536\", \"title\": \"Photograph of a street parade\", \"year\": 1913, \"additionalType\": \"Photographs\"}, {\"id\": \"114698\", \"title\": \"Chair travelling between Chunnakufu and Yung chun - Fukien province. Self & 'Bill' in the chair. June 1917\", \"year\": 1913, \"additionalType\": \"Photographs\"}, {\"id\": \"58521\", \"title\": \"Black and white photograph of two women swimmers at Tooowoomba, Queensland, 1911\", \"year\": 1911, \"additionalType\": \"Photographs\"}, {\"id\": \"110979\", \"title\": \"Black and white photograph of the aircraft 'Faith in Australia'\", \"year\": 1933, \"additionalType\": \"Photographs\"}, {\"id\": \"115535\", \"title\": \"Photograph of a street scene with one main road in the centre with many people walking on it or pulling carts\", \"year\": 1913, \"additionalType\": \"Photographs\"}, {\"id\": \"224693\", \"title\": \"Photograph of side view of house, 'Weardale', 1900s\", \"year\": 1900, \"additionalType\": \"Photographs\"}, {\"id\": \"232025\", \"title\": \"Embroidered silk postcard from World War 1\", \"year\": 1918, \"additionalType\": \"Postcards\"}, {\"id\": \"126592\", \"title\": \"Munyang Power Station interior from Penstock\", \"year\": 1953, \"additionalType\": \"Photographs\"}, {\"id\": \"118912\", \"title\": \"Black and white photograph showing a view towards a large building with a military tent camp in the background\", \"year\": 1927, \"additionalType\": \"Photographs\"}, {\"id\": \"149953\", \"title\": \"Sydney Heads and Town Hall, Sydney, 19 November 1908\", \"year\": 1908, \"additionalType\": \"Postcards\"}, {\"id\": \"114693\", \"title\": \"A caravan with Price and Co 'Ship' Candles...Each camel has 20 boxes of Candles\", \"year\": 1913, \"additionalType\": \"Photographs\"}, {\"id\": \"224692\", \"title\": \"Photograph of family posing between two large tree stumps\", \"year\": 1900, \"additionalType\": \"Photographs\"}, {\"id\": \"169913\", \"title\": \"Photograph depicting John Kinmont Moir (1893-1958)\", \"year\": 1890, \"additionalType\": \"Photographs\"}, {\"id\": \"115775\", \"title\": \"Concarneau - La Croix et le Phare, 17 November 1922\", \"year\": 1922, \"additionalType\": \"Postcards\"}, {\"id\": \"40452\", \"title\": \"Photograph of Ruby Lee in cricket attire\", \"year\": 1930, \"additionalType\": \"Photographs\"}, {\"id\": \"116026\", \"title\": \"Chinese junks fishing - Scene from the deck of the 'Hanor' from Hong Kong on route to Harphong. 6-7-1917\", \"year\": 1913, \"additionalType\": \"Photographs\"}, {\"id\": \"114694\", \"title\": \"Caravan of Kerosene oil in the Fumen Plain - en route from Yunnanfu to Huihchow in Szezhuan province. Oct 1919\", \"year\": 1913, \"additionalType\": \"Photographs\"}, {\"id\": \"153945\", \"title\": \"Photographic postcard of Bondi Beach, NSW\", \"year\": 1884, \"additionalType\": \"Postcards\"}, {\"id\": \"116025\", \"title\": \"'Greetings from Yass', 22 December 1909\", \"year\": 1909, \"additionalType\": \"Postcards\"}, {\"id\": \"169912\", \"title\": \"Photograph depicting race meeting at Delta Downs Station, North QLD, c1890s\", \"year\": 1896, \"additionalType\": \"Photographs\"}, {\"id\": \"118910\", \"title\": \"Black and white photograph of twelve soldiers posed in front of a military tent camp\", \"year\": 1927, \"additionalType\": \"Photographs\"}, {\"id\": \"114696\", \"title\": \"Ox cart delivering water to householders in Lamamao. Jan 1915\", \"year\": 1913, \"additionalType\": \"Photographs\"}, {\"id\": \"116029\", \"title\": \"A raft, with a covered area, on a river or lake with steep mountains at the water's edge.\", \"year\": 1913, \"additionalType\": \"Photographs\"}, {\"id\": \"136204\", \"title\": \"J B Young Limited, Queanbeyan\", \"year\": 1956, \"additionalType\": \"Photographs\"}, {\"id\": \"115631\", \"title\": \"Monument erected in honor of a Chinese general at Lamamao. Jan 1915\", \"year\": 1913, \"additionalType\": \"Photographs\"}, {\"id\": \"58522\", \"title\": \"Black and white photograph of US swimmer Frances Cowells\", \"year\": 1917, \"additionalType\": \"Photographs\"}, {\"id\": \"59495\", \"title\": \"Changing tracks, Ernabella 1977\", \"year\": 1977, \"additionalType\": \"Photographs\"}, {\"id\": \"152479\", \"title\": \"SOUTH EAST VIEW FROM SPRING ROW. OLD SYDNEY 1819 G.H COPYRIGHT. REGD\", \"year\": 1819, \"additionalType\": \"Postcards\"}, {\"id\": \"136200\", \"title\": \"J B Young Limited, Queanbeyan\", \"year\": 1956, \"additionalType\": \"Photographs\"}, {\"id\": \"224697\", \"title\": \"Photograph of two men tilling field with horse and plough\", \"year\": 1900, \"additionalType\": \"Photographs\"}, {\"id\": \"232026\", \"title\": \"Embroidered silk postcard from World War 1\", \"year\": 1918, \"additionalType\": \"Postcards\"}, {\"id\": \"118911\", \"title\": \"Black and white photograph of mounted soldiers in the foreground of a military tent camp\", \"year\": 1927, \"additionalType\": \"Photographs\"}, {\"id\": \"59496\", \"title\": \"Small pokerwork lizard, Ernabella 1977\", \"year\": 1977, \"additionalType\": \"Photographs\"}, {\"id\": \"153949\", \"title\": \"Photographic postcard of Paramatta River at Drummoyne, NSW\", \"year\": 1884, \"additionalType\": \"Postcards\"}, {\"id\": \"115141\", \"title\": \"Chair' travelling - this style of chair for city use only. Yunnanfu, July, 1920\", \"year\": 1913, \"additionalType\": \"Photographs\"}, {\"id\": \"40116\", \"title\": \"1937 Australian Women's Cricket Team\", \"year\": 1937, \"additionalType\": \"Photographs\"}, {\"id\": \"114697\", \"title\": \"Spell oh! At a country Inn for Tiffen\", \"year\": 1913, \"additionalType\": \"Photographs\"}, {\"id\": \"49198\", \"title\": \"Photograph 'from slopes of Black Mt along peninsula to Yarralumla, 1971'\", \"year\": 1971, \"additionalType\": \"Photographs\"}, {\"id\": \"74885\", \"title\": \"Springfield - Side view of house about 1980\", \"year\": 1980, \"additionalType\": \"Photographs\"}, {\"id\": \"115761\", \"title\": \"The Close Gate, Salisbury, 30 July 1910\", \"year\": 1910, \"additionalType\": \"Postcards\"}, {\"id\": \"114680\", \"title\": \"Nine people gathering plants in a river in front of a row of houses\", \"year\": 1913, \"additionalType\": \"Photographs\"}, {\"id\": \"115179\", \"title\": \"View of Central (Mam) Avenue Shameen Canton Nov 1921\", \"year\": 1913, \"additionalType\": \"Photographs\"}, {\"id\": \"153939\", \"title\": \"Colourised photographic postcard of Mosman's Bay\", \"year\": 1884, \"additionalType\": \"Postcards\"}, {\"id\": \"149486\", \"title\": \"First of a set of three postcards from Joan Richmond - England\", \"year\": 1932, \"additionalType\": \"Postcards\"}, {\"id\": \"114686\", \"title\": \"Photograph of a woman and a baby on a wooden boat\", \"year\": 1913, \"additionalType\": \"Photographs\"}, {\"id\": \"124694\", \"title\": \"Photograph of Winnie Hannan (nee O'Sullivan) with Lily Molloy on a merry-go-round\", \"year\": 1925, \"additionalType\": \"Photographs\"}, {\"id\": \"115665\", \"title\": \"Photograph of Chinese soldiers marching in the streets of Kalgan\", \"year\": 1913, \"additionalType\": \"Photographs\"}, {\"id\": \"139008\", \"title\": \"Mrs. 'Arris & Mrs. 'Iggs who entertain you from Station 2UW\", \"year\": 1934, \"additionalType\": \"Postcards\"}, {\"id\": \"150507\", \"title\": \"When the boys come home\", \"year\": 1919, \"additionalType\": \"Postcards\"}, {\"id\": \"56258\", \"title\": \"Postcard titled 'Wishing you a Merry Christmas and a Happy New Year'\", \"year\": 1987, \"additionalType\": \"Postcards\"}, {\"id\": \"126614\", \"title\": \"Munyang Power Station in winter\", \"year\": 1953, \"additionalType\": \"Photographs\"}, {\"id\": \"148156\", \"title\": \"Postcard featuring a photograph inscribed \\\"THE VALLEY OF DEATH ANZAC\\\"\", \"year\": 1917, \"additionalType\": \"Postcards\"}, {\"id\": \"138025\", \"title\": \"A Capital Story\", \"year\": 1905, \"additionalType\": \"Postcards\"}, {\"id\": \"116015\", \"title\": \"New Zealand, 21 September 1904\", \"year\": 1904, \"additionalType\": \"Postcards\"}, {\"id\": \"126610\", \"title\": \"Cottage in winter\", \"year\": 1953, \"additionalType\": \"Photographs\"}, {\"id\": \"153935\", \"title\": \"Colourised photographic postcard of Coogee Beach, NSW\", \"year\": 1902, \"additionalType\": \"Postcards\"}, {\"id\": \"169900\", \"title\": \"Photograph depicting people outside hut at Delta Downs Station, North QLD, c1895\", \"year\": 1890, \"additionalType\": \"Photographs\"}, {\"id\": \"74886\", \"title\": \"Lucian and Ethel Faithfull, Bridal Welcome, 22 May 1895\", \"year\": 1895, \"additionalType\": \"Photographs\"}, {\"id\": \"114684\", \"title\": \"Street scene featuring a camel, carrying a wooden container, led by a man\", \"year\": 1913, \"additionalType\": \"Photographs\"}, {\"id\": \"118796\", \"title\": \"Black and white photograph of a view towards Old Parliament House in Canberra\", \"year\": 1927, \"additionalType\": \"Photographs\"}, {\"id\": \"116013\", \"title\": \"Looking down to the little township where we camped on the hunting trip Feb 1920\", \"year\": 1913, \"additionalType\": \"Photographs\"}, {\"id\": \"229514\", \"title\": \"Postcard titled 'BIRDS EYE VIEW OF LEURA'\", \"year\": 1905, \"additionalType\": \"Postcards\"}, {\"id\": \"49199\", \"title\": \"Photograph 'from slopes of Black Mt across lake to Hospital, Parliament House etc, 1971'\", \"year\": 1971, \"additionalType\": \"Photographs\"}, {\"id\": \"122866\", \"title\": \"Shows two women and two men standing on a helipad next to a helicopter on floats\", \"year\": 1964, \"additionalType\": \"Photographs\"}, {\"id\": \"138024\", \"title\": \"The bright spot for Australians between Home and the Trenches\", \"year\": 1918, \"additionalType\": \"Postcards\"}, {\"id\": \"141155\", \"title\": \"Collins St, Melbourne\", \"year\": 1905, \"additionalType\": \"Postcards\"}, {\"id\": \"153937\", \"title\": \"Colourised photographic post card of Clifton Gardens, NSW\", \"year\": 1884, \"additionalType\": \"Postcards\"}, {\"id\": \"126613\", \"title\": \"Cottage in winter 2\", \"year\": 1953, \"additionalType\": \"Photographs\"}, {\"id\": \"116011\", \"title\": \"A view of the 'farmyard' at B.A.T. Mess, Kalgan; Horse, Dogs, Calf, Sheep. Pigs, Fowls and Ducks\", \"year\": 1913, \"additionalType\": \"Photographs\"}, {\"id\": \"115668\", \"title\": \"Chinese soldiers on the march through the streets of Kalgan Feb 1915\", \"year\": 1913, \"additionalType\": \"Photographs\"}, {\"id\": \"116016\", \"title\": \"Mamen slinging antelope on to 'Brown' Jan 1915\", \"year\": 1913, \"additionalType\": \"Photographs\"}, {\"id\": \"118807\", \"title\": \"Black and white photograph of a view from Old Parliament House in Canberra\", \"year\": 1927, \"additionalType\": \"Photographs\"}, {\"id\": \"115175\", \"title\": \"Stone building, with a pagoda style roof,\", \"year\": 1913, \"additionalType\": \"Photographs\"}, {\"id\": \"169903\", \"title\": \"Photograph depicting a creek at Delta Downs Station, North QLD, c1890s\", \"year\": 1890, \"additionalType\": \"Photographs\"}, {\"id\": \"58416\", \"title\": \"Colour photograph of sign that stood in a paddock on the outskirts of Ravenshoe, Queensland\", \"year\": 1995, \"additionalType\": \"Photographs\"}, {\"id\": \"115178\", \"title\": \"Brick building with a pagoda style roof\", \"year\": 1913, \"additionalType\": \"Photographs\"}, {\"id\": \"126616\", \"title\": \"Munyang winter\", \"year\": 1953, \"additionalType\": \"Photographs\"}, {\"id\": \"153936\", \"title\": \"Colourised photographic postcard of Foot bridge at Mosman, NSW\", \"year\": 1899, \"additionalType\": \"Postcards\"}, {\"id\": \"74887\", \"title\": \"Florence Ethel Faithfull [Bobbie Maple-Brown], Yorke Henderson, and Hazel Faithfull outside cottage fence, 1910\", \"year\": 1910, \"additionalType\": \"Photographs\"}, {\"id\": \"153938\", \"title\": \"Colourised photographic postcard of Ocean Beach, Manly, NSW\", \"year\": 1884, \"additionalType\": \"Postcards\"}, {\"id\": \"74981\", \"title\": \"'After the cut out', 1880\", \"year\": 1880, \"additionalType\": \"Photographs\"}, {\"id\": \"114685\", \"title\": \"Two rows of horses, carrying baskets, and people next to trees, in front of a hill\", \"year\": 1913, \"additionalType\": \"Photographs\"}, {\"id\": \"114682\", \"title\": \"Bridge with seven arches, in front of a mountain\", \"year\": 1913, \"additionalType\": \"Photographs\"}, {\"id\": \"117082\", \"title\": \"First Roxby Blockade 1983 Outside the Mine Shaft\", \"year\": 1983, \"additionalType\": \"Photographs\"}, {\"id\": \"153931\", \"title\": \"Colourised photographic postcard of Lane Cover River, NSW\", \"year\": 1884, \"additionalType\": \"Postcards\"}, {\"id\": \"169901\", \"title\": \"Photograph depicting stockmen and horses at Delta Downs Station, North QLD\", \"year\": 1890, \"additionalType\": \"Photographs\"}, {\"id\": \"169902\", \"title\": \"Photograph depicting Moir family picnic at Delta Downs Station, North QLD, c1890s\", \"year\": 1890, \"additionalType\": \"Photographs\"}, {\"id\": \"124695\", \"title\": \"Winnie Hannan [nee O'Sullivan] having a chat with boxer Tommy Burns\", \"year\": 1946, \"additionalType\": \"Photographs\"}, {\"id\": \"58515\", \"title\": \"Black and white photograph of US swimmer Ethelda Bleibtrey receiving Olympic trophies from the King of Belgium, 1920\", \"year\": 1920, \"additionalType\": \"Photographs\"}, {\"id\": \"115174\", \"title\": \"Stopping place for 'Tiffen' on the second day out from Kalgan. Jan 1915\", \"year\": 1913, \"additionalType\": \"Photographs\"}, {\"id\": \"113851\", \"title\": \"First Interstate Guide Camp. Held at Camden 1926 Visit by Governor's Wife Lady de Chair\", \"year\": 1926, \"additionalType\": \"Photographs\"}, {\"id\": \"74840\", \"title\": \"Church of St. Jude, Randwick, 28 August 1890\", \"year\": 1890, \"additionalType\": \"Photographs\"}, {\"id\": \"124691\", \"title\": \"Photograph of Winnie O'Sullivan standing with her hands clasped\", \"year\": 1917, \"additionalType\": \"Photographs\"}, {\"id\": \"40389\", \"title\": \"Photograph of 1934 Australian Women's Cricket Vice-Captain Kathleen Smith\", \"year\": 1934, \"additionalType\": \"Photographs\"}, {\"id\": \"112434\", \"title\": \"Photograph of R.M.S. Ormonde\", \"year\": 1917, \"additionalType\": \"Photographs\"}, {\"id\": \"124690\", \"title\": \"Photograph of Winnie O'Sullivan and Lily Molloy and others\", \"year\": 1917, \"additionalType\": \"Photographs\"}, {\"id\": \"115469\", \"title\": \"B.A.T. Mess Yunnanfu as seen from the train just before reaching the station\", \"year\": 1913, \"additionalType\": \"Photographs\"}, {\"id\": \"32752\", \"title\": \"The Blue Mts, NSW, Princes Rock Wentworth Falls, 30 July 1907\", \"year\": 1907, \"additionalType\": \"Postcards\"}, {\"id\": \"115176\", \"title\": \"Stone building with a pagoda style roof\", \"year\": 1913, \"additionalType\": \"Photographs\"}, {\"id\": \"169904\", \"title\": \"Photograph depicting five people outside Delta Downs Station buildings, North QLD, c1890s\", \"year\": 1890, \"additionalType\": \"Photographs\"}, {\"id\": \"112438\", \"title\": \"Photograph of Phillips Electrical Industries electric light decoration for the royal visit in 1954\", \"year\": 1954, \"additionalType\": \"Photographs\"}, {\"id\": \"115172\", \"title\": \"In the grounds attached to the lake inside of Younnufu City. July 1920\", \"year\": 1913, \"additionalType\": \"Photographs\"}, {\"id\": \"126168\", \"title\": \"Crick - Australian Bleriot pupil, Treloar - Australian Bleriot extended course pupil, Cooper - Bleriot pupil Australian, and Stutt - Bristol Instructor Australian\", \"year\": 1914, \"additionalType\": \"Photographs\"}, {\"id\": \"141548\", \"title\": \"Nellie Butler, 1905\", \"year\": 1905, \"additionalType\": \"Postcards\"}, {\"id\": \"133075\", \"title\": \"Young's new store opening, Queanbeyan, 23 May 1956\", \"year\": 1956, \"additionalType\": \"Photographs\"}, {\"id\": \"115663\", \"title\": \"Photograph of two rows of geese hanging from two poles in front of a building\", \"year\": 1913, \"additionalType\": \"Photographs\"}, {\"id\": \"126611\", \"title\": \"Florence and Christine Wililamson in pipeline at Munyang\", \"year\": 1953, \"additionalType\": \"Photographs\"}, {\"id\": \"74983\", \"title\": \"Springfield Shearers, 1880.\", \"year\": 1880, \"additionalType\": \"Photographs\"}, {\"id\": \"116056\", \"title\": \"Man standing outside (appears to be K.A. Aumuller) wearing boots, gaiters over trousers, a white shirt and a dark tie.\", \"year\": 1913, \"additionalType\": \"Photographs\"}, {\"id\": \"115566\", \"title\": \"October 1919. A terraced rice field near Wuting\", \"year\": 1913, \"additionalType\": \"Photographs\"}, {\"id\": \"115814\", \"title\": \"Children playing in the snow, dressed only in nappy-type garments, 11 March 1913\", \"year\": 1913, \"additionalType\": \"Postcards\"}, {\"id\": \"195288\", \"title\": \"Sydney Museum and Captain Cook Statue, 17 April 1908\", \"year\": 1908, \"additionalType\": \"Postcards\"}, {\"id\": \"115569\", \"title\": \"Kalgan 10.10.1913 View of a portion of the town from the Hill at the West\", \"year\": 1913, \"additionalType\": \"Photographs\"}, {\"id\": \"58514\", \"title\": \"Black and white photograph of US swimmer John Weissmuller, 1921\", \"year\": 1921, \"additionalType\": \"Photographs\"}, {\"id\": \"115817\", \"title\": \"Birds Eye View of Wuchow Apl 1917 showing both West and Fu Rivers\", \"year\": 1913, \"additionalType\": \"Photographs\"}, {\"id\": \"118693\", \"title\": \"Black and white photograph of Old Parliament House\", \"year\": 1927, \"additionalType\": \"Photographs\"}, {\"id\": \"153933\", \"title\": \"Colourised photographic postcard of Bondi Beach, NSW\", \"year\": 1884, \"additionalType\": \"Postcards\"}, {\"id\": \"126167\", \"title\": \"Photograph of W H Treloar and others outside McDonald's Garage, Hamilton, 1911\", \"year\": 1911, \"additionalType\": \"Photographs\"}, {\"id\": \"115565\", \"title\": \"The highest peak on the range of hills west of and immediately behind Talifu Younnan Province, Dec 1918\", \"year\": 1913, \"additionalType\": \"Photographs\"}, {\"id\": \"150898\", \"title\": \"Martin Place, Sydney, 1908\", \"year\": 1908, \"additionalType\": \"Postcards\"}, {\"id\": \"113121\", \"title\": \"Large bed of daffodils in bloom with a young girl kneeling beside them wearing a pinafore and a large hat\", \"year\": 1913, \"additionalType\": \"Photographs\"}, {\"id\": \"22133\", \"title\": \"Man standing beneath a roll of honour in the club room of East Melbourne Cricket Club\", \"year\": 1921, \"additionalType\": \"Photographs\"}, {\"id\": \"115718\", \"title\": \"Safrony and the 10 B.A.T. dealers of Yunnanfu in between Mch 1920\", \"year\": 1913, \"additionalType\": \"Photographs\"}, {\"id\": \"136163\", \"title\": \"Opening of J B Young Queanbeyan\", \"year\": 1956, \"additionalType\": \"Photographs\"}, {\"id\": \"132933\", \"title\": \"Photograph of a small windowless building surrounded by dirt and rubble\", \"year\": 1966, \"additionalType\": \"Photographs\"}, {\"id\": \"56256\", \"title\": \"Sketch of a woman in profile, holding a hoe above her head.\", \"year\": 1987, \"additionalType\": \"Postcards\"}, {\"id\": \"74846\", \"title\": \"Lilian Anderson (nee Faithfull)? -Taken at Springfield 1916.\", \"year\": 1916, \"additionalType\": \"Photographs\"}, {\"id\": \"115716\", \"title\": \"Man wearing a long coat and hat, standing next to a sculpture of a bird and resting his leg and hand on the sculpture\", \"year\": 1913, \"additionalType\": \"Photographs\"}, {\"id\": \"56257\", \"title\": \"Sketch of a woman. In the background there is a woman kneeling feeding two birds\", \"year\": 1987, \"additionalType\": \"Postcards\"}, {\"id\": \"115560\", \"title\": \"Residences on the Peak, Hong Kong 17-6-1921\", \"year\": 1913, \"additionalType\": \"Photographs\"}, {\"id\": \"118707\", \"title\": \"Black and white photograph showing officials at the opening of Old Parliament House in 1927\", \"year\": 1927, \"additionalType\": \"Photographs\"}, {\"id\": \"115813\", \"title\": \"Partially frozen river, with water flowing in the centre, and the Kalgan bridge in the distance 14.3.1914\", \"year\": 1913, \"additionalType\": \"Photographs\"}, {\"id\": \"115468\", \"title\": \"Circular shaped pagoda or temple with three tiers\", \"year\": 1913, \"additionalType\": \"Photographs\"}, {\"id\": \"115562\", \"title\": \"View of 'Coal Hill' in the Imperial City Peking, Feb 1915\", \"year\": 1913, \"additionalType\": \"Photographs\"}, {\"id\": \"136160\", \"title\": \"George Colman at the opening of J B Young Queanbeyan\", \"year\": 1956, \"additionalType\": \"Photographs\"}, {\"id\": \"136161\", \"title\": \"HG Colman at the opening of J B Young Queanbeyan\", \"year\": 1956, \"additionalType\": \"Photographs\"}, {\"id\": \"239250\", \"title\": \"Team photograph, Victoria v South Australia, Melbourne, 1 June 1968 signed by Royce Hart\", \"year\": 1968, \"additionalType\": \"Photographs\"}, {\"id\": \"113853\", \"title\": \"The Turner Family, not long before leaving Scotland for Australia\", \"year\": 1883, \"additionalType\": \"Photographs\"}, {\"id\": \"112439\", \"title\": \"Photograph of Her Majesty Queen Elizabeth II and His Royal Highness The Duke of Edinburgh standing on a strip of carpet\", \"year\": 1954, \"additionalType\": \"Photographs\"}, {\"id\": \"133076\", \"title\": \"Photograph of a crowd of people watching a man speaking at a microphone in J B Young's Queanbeyan department store\", \"year\": 1956, \"additionalType\": \"Photographs\"}, {\"id\": \"128818\", \"title\": \"Florence Faithfull 1860s\", \"year\": 1860, \"additionalType\": \"Photographs\"}, {\"id\": \"118940\", \"title\": \"Black and white photograph showing the overflow of the Cotter Dam in Canberra\", \"year\": 1927, \"additionalType\": \"Photographs\"}, {\"id\": \"124692\", \"title\": \"Photograph of Winnie O'Sullivan sitting on a backless stool, c1917\", \"year\": 1902, \"additionalType\": \"Photographs\"}, {\"id\": \"116058\", \"title\": \"G.L.A - with his Amah holding Daddy's watch to his ear. Hankow Feby 1926\", \"year\": 1913, \"additionalType\": \"Photographs\"}, {\"id\": \"118944\", \"title\": \"Black and white photograph of a hill\", \"year\": 1927, \"additionalType\": \"Photographs\"}, {\"id\": \"113321\", \"title\": \"Photograph of Cronulla South Public School, 2B 1965\", \"year\": 1965, \"additionalType\": \"Photographs\"}, {\"id\": \"169905\", \"title\": \"Photograph depicting Delta Downs Station homestead, North QLD, c1890s\", \"year\": 1890, \"additionalType\": \"Photographs\"}, {\"id\": \"116115\", \"title\": \"Three dogs looking at a cage, 16 May 1909\", \"year\": 1909, \"additionalType\": \"Postcards\"}, {\"id\": \"114689\", \"title\": \"A black and white photograph of a train of camels being led across a river by a man.\", \"year\": 1913, \"additionalType\": \"Photographs\"}, {\"id\": \"150508\", \"title\": \"A night wi' burns at my ain fireside\", \"year\": 1905, \"additionalType\": \"Postcards\"}, {\"id\": \"114687\", \"title\": \"Two men feeding a baby camel with a spoon\", \"year\": 1913, \"additionalType\": \"Photographs\"}, {\"id\": \"115866\", \"title\": \"A rose, with birthday message, 12 November 1908\", \"year\": 1908, \"additionalType\": \"Postcards\"}, {\"id\": \"115525\", \"title\": \"Despatching cigarettes from Younnanfu per ox-cart to be loaded onto ponies\", \"year\": 1913, \"additionalType\": \"Photographs\"}, {\"id\": \"120235\", \"title\": \"Conference held on 3 September 1945 - between Captain F.A. Jacobsen and Rear Admiral Nomeja, Imperial Japanese Navy\", \"year\": 1945, \"additionalType\": \"Photographs\"}, {\"id\": \"140577\", \"title\": \"Collins St, Melbourne, 19 April 1906\", \"year\": 1906, \"additionalType\": \"Postcards\"}, {\"id\": \"116002\", \"title\": \"A bend on the Yunnanfu railway showing some bridge and tunnel work. October 1917\", \"year\": 1913, \"additionalType\": \"Photographs\"}, {\"id\": \"115653\", \"title\": \"The opening of a new shop by one of our dealers. Note the flag decorations Kalgan Feb 1915\", \"year\": 1913, \"additionalType\": \"Photographs\"}, {\"id\": \"115163\", \"title\": \"View across a flat grassy area to a row of buildings\", \"year\": 1913, \"additionalType\": \"Photographs\"}, {\"id\": \"115991\", \"title\": \"View of Yunnanfu railway station - summer 1919\", \"year\": 1913, \"additionalType\": \"Photographs\"}, {\"id\": \"118880\", \"title\": \"Black and white photograph of a military tent camp, personnel and horses\", \"year\": 1927, \"additionalType\": \"Photographs\"}, {\"id\": \"909\", \"title\": \"Melbourne\", \"year\": 1904, \"additionalType\": \"Postcards\"}, {\"id\": \"153575\", \"title\": \"Postcard featuring the N.S.W. Navel Brigade Whalers Crew, winners Comonwealth Regatta, January 4,1901\", \"year\": 1901, \"additionalType\": \"Postcards\"}, {\"id\": \"33743\", \"title\": \"Australian Native - Seaside amusements, 30 May 1905\", \"year\": 1905, \"additionalType\": \"Postcards\"}, {\"id\": \"115990\", \"title\": \"Fishing nets, largely used on rivers in Kwangsu, April 1917\", \"year\": 1913, \"additionalType\": \"Photographs\"}, {\"id\": \"115556\", \"title\": \"View of Peking, Looking NW from the Drum Tower, January 1915\", \"year\": 1913, \"additionalType\": \"Photographs\"}, {\"id\": \"115160\", \"title\": \"Bridge over a river\", \"year\": 1913, \"additionalType\": \"Photographs\"}, {\"id\": \"143228\", \"title\": \"I remembish (hic) whersh lobster and beersh came from ...\", \"year\": 1907, \"additionalType\": \"Postcards\"}, {\"id\": \"116005\", \"title\": \"A view from the train on the Hokow - Amchow section of Yunnan Railway - 10-7-1917\", \"year\": 1913, \"additionalType\": \"Photographs\"}, {\"id\": \"151139\", \"title\": \"I Thought I Had a Stamp by Livingston Hopkins\", \"year\": 1898, \"additionalType\": \"Postcards\"}, {\"id\": \"74908\", \"title\": \"Lucian and Ethel returning from honeymoon in 1895\", \"year\": 1895, \"additionalType\": \"Photographs\"}, {\"id\": \"125154\", \"title\": \"Photograph of Parliament House, Canberra, shortly after its completion\", \"year\": 1926, \"additionalType\": \"Photographs\"}, {\"id\": \"125155\", \"title\": \"The Duke and Duchess of York in a carriage at the opening of Parliament House, Canberra\", \"year\": 1927, \"additionalType\": \"Photographs\"}, {\"id\": \"74907\", \"title\": \"Lucian and Ethel Faithfull returning from honeymoon in 1895.\", \"year\": 1895, \"additionalType\": \"Photographs\"}, {\"id\": \"114671\", \"title\": \"Tiffin party at the Repulse Bay Hotel\", \"year\": 1922, \"additionalType\": \"Photographs\"}, {\"id\": \"153924\", \"title\": \"Colourised photographic postcard of Watson's Bay and Pier\", \"year\": 1884, \"additionalType\": \"Postcards\"}, {\"id\": \"115162\", \"title\": \"Long building with a high roof and three arches along one side\", \"year\": 1913, \"additionalType\": \"Photographs\"}, {\"id\": \"115559\", \"title\": \"Residences on the peak, Hong Kong 17-6-1921\", \"year\": 1913, \"additionalType\": \"Photographs\"}, {\"id\": \"115799\", \"title\": \"An outdoors scene, 18 August 1904\", \"year\": 1904, \"additionalType\": \"Postcards\"}, {\"id\": \"115608\", \"title\": \"Photograph of a pagoda style structure\", \"year\": 1913, \"additionalType\": \"Photographs\"}, {\"id\": \"115598\", \"title\": \"From Hsi Span. looking north wards to the lake, Yunnanfu 14/3/1920\", \"year\": 1913, \"additionalType\": \"Photographs\"}, {\"id\": \"115987\", \"title\": \"Gathering hay on the plateau in Mongolia north of Kalgan, Jan 1915\", \"year\": 1913, \"additionalType\": \"Photographs\"}, {\"id\": \"125701\", \"title\": \"Southern Cross\", \"year\": 1928, \"additionalType\": \"Photographs\"}, {\"id\": \"22103\", \"title\": \"A.C. MacLaren in a cricket blazer and boater hat\", \"year\": 1912, \"additionalType\": \"Photographs\"}, {\"id\": \"74718\", \"title\": \"Diana Maple-Brown, Pamela Maple-Brown and Bill Hutcheson, all holding booklets and wearing shield-shaped pins. Yass [Picnics] 1952\", \"year\": 1952, \"additionalType\": \"Photographs\"}, {\"id\": \"116086\", \"title\": \"City and harbour scene featuring a busy street with buildings\", \"year\": 1913, \"additionalType\": \"Photographs\"}, {\"id\": \"113784\", \"title\": \"SMA Pioneer Tour Passengers at the Snowy River Lookout Jan 1957\", \"year\": 1957, \"additionalType\": \"Photographs\"}, {\"id\": \"152142\", \"title\": \"Boxing terms A Cross Counter\", \"year\": 1907, \"additionalType\": \"Postcards\"}, {\"id\": \"117755\", \"title\": \"Photograph showing Fred Daly in a group photo with John Newcombe, 1982\", \"year\": 1982, \"additionalType\": \"Photographs\"}, {\"id\": \"74810\", \"title\": \"Garden Party for Bishop. Lucian Faithfull second from the left, 1904\", \"year\": 1904, \"additionalType\": \"Photographs\"}, {\"id\": \"125702\", \"title\": \"Charles Kingsford Smith\", \"year\": 1928, \"additionalType\": \"Photographs\"}, {\"id\": \"115606\", \"title\": \"Photograph of five rectangular monuments with carved animals\", \"year\": 1913, \"additionalType\": \"Photographs\"}, {\"id\": \"115596\", \"title\": \"Part view of a bridge built of stone at Anhar near Amoy\", \"year\": 1913, \"additionalType\": \"Photographs\"}, {\"id\": \"74910\", \"title\": \"Photograph of Tirranna races 1904\", \"year\": 1904, \"additionalType\": \"Photographs\"}, {\"id\": \"115844\", \"title\": \"Pigs in a crate - deck of Harmun shipped from Honhow to Hong Kong\", \"year\": 1913, \"additionalType\": \"Photographs\"}, {\"id\": \"151063\", \"title\": \"Souvenir of South Australia's record heat-wave\", \"year\": 1930, \"additionalType\": \"Postcards\"}, {\"id\": \"113781\", \"title\": \"Site of the Tumut Ponds Dam Jan 1957 SMA\", \"year\": 1957, \"additionalType\": \"Photographs\"}, {\"id\": \"233500\", \"title\": \"Portrait photograph of Vincent Burns in paper folder, 1916\", \"year\": 1916, \"additionalType\": \"Photographs\"}, {\"id\": \"147606\", \"title\": \"Opening of J B Young Queanbeyan\", \"year\": 1956, \"additionalType\": \"Photographs\"}, {\"id\": \"118832\", \"title\": \"Black and white photograph showing military personnel and vehicles\", \"year\": 1927, \"additionalType\": \"Photographs\"}, {\"id\": \"115747\", \"title\": \"Young Otterwill of the little one as his Dad calls him. Jan 1920\", \"year\": 1913, \"additionalType\": \"Photographs\"}, {\"id\": \"151651\", \"title\": \"George Street, Sydney, NSW, 3 August 1908\", \"year\": 1908, \"additionalType\": \"Postcards\"}, {\"id\": \"40120\", \"title\": \"Victorian cricket players Nance Clements, I Cookesley and Peggy Antonio departing Melbourne on a train to Brisbane\", \"year\": 1933, \"additionalType\": \"Photographs\"}, {\"id\": \"239226\", \"title\": \"Team photograph of the Victorian team, Victoria v Western Australia, 17 June 1967\", \"year\": 1967, \"additionalType\": \"Photographs\"}, {\"id\": \"115595\", \"title\": \"Snow covered Hills on the way to Tatungfu\", \"year\": 1913, \"additionalType\": \"Photographs\"}, {\"id\": \"49225\", \"title\": \"Photograph of Edna Thompson in uniform, 1942\", \"year\": 1942, \"additionalType\": \"Photographs\"}, {\"id\": \"115593\", \"title\": \"Kalgan 10-10-1913. looking down into the Pass which heads from Kalgan onto the Plateau in Mongolia\", \"year\": 1913, \"additionalType\": \"Photographs\"}, {\"id\": \"235351\", \"title\": \"The 'Southern Cross' being prepared for flight\", \"year\": 1928, \"additionalType\": \"Photographs\"}, {\"id\": \"1836\", \"title\": \"Alice Wegemund at St Cross Winchester, 1937\", \"year\": 1937, \"additionalType\": \"Photographs\"}, {\"id\": \"115451\", \"title\": \"The Sim Co. Building Canton Oct 1921\", \"year\": 1913, \"additionalType\": \"Photographs\"}, {\"id\": \"115989\", \"title\": \"Native ploughing his rice field, Fukien Province, inland from Amoy, June 1917\", \"year\": 1913, \"additionalType\": \"Photographs\"}, {\"id\": \"153613\", \"title\": \"Postcard of Joe Beckett vs Georges Carpentier\", \"year\": 1909, \"additionalType\": \"Postcards\"}, {\"id\": \"235350\", \"title\": \"Charles Kingsford Smith receiving flowers from a young girl\", \"year\": 1928, \"additionalType\": \"Photographs\"}, {\"id\": \"150670\", \"title\": \"Crown Hotel, Forest Hill, 28 February 1906\", \"year\": 1906, \"additionalType\": \"Postcards\"}, {\"id\": \"115604\", \"title\": \"A section of the Great Wall which is at the top of Nankow Pass Feb 1915\", \"year\": 1913, \"additionalType\": \"Photographs\"}, {\"id\": \"120986\", \"title\": \"No More Than What You See\", \"year\": 1996, \"additionalType\": \"Photographs\"}, {\"id\": \"143240\", \"title\": \"ST KILDA Pa and Ma believe in protection, 18 July 1906\", \"year\": 1906, \"additionalType\": \"Postcards\"}, {\"id\": \"152481\", \"title\": \"NORTH VIEW FROM PITTS ROW. OLD SYDNEY 1819 G.H COPYRIGHT.\", \"year\": 1819, \"additionalType\": \"Postcards\"}, {\"id\": \"115749\", \"title\": \"Safrany with Ginger and Bonsky\", \"year\": 1913, \"additionalType\": \"Photographs\"}, {\"id\": \"126479\", \"title\": \"Island Bend Camp, 1950\", \"year\": 1950, \"additionalType\": \"Photographs\"}, {\"id\": \"49177\", \"title\": \"Large gathering of men and women in formal attire - Australia Day 26.1.52  18 Clifton Karachi\", \"year\": 1952, \"additionalType\": \"Photographs\"}, {\"id\": \"34019\", \"title\": \"Rough Sea, Flinders, Victoria, 14 October 1907\", \"year\": 1907, \"additionalType\": \"Postcards\"}, {\"id\": \"75110\", \"title\": \"Group of people having tea in a garden, 1897\", \"year\": 1897, \"additionalType\": \"Photographs\"}, {\"id\": \"115742\", \"title\": \"Moukden Club Skating Rink\", \"year\": 1913, \"additionalType\": \"Photographs\"}, {\"id\": \"115591\", \"title\": \"Kalgan 10-10-1913 View of the hills near the city (North West note how bare they are)\", \"year\": 1913, \"additionalType\": \"Photographs\"}, {\"id\": \"115590\", \"title\": \"View from South Side Window of Number 82 the peak looking towards Deep Water Bay & Repulse Bay\", \"year\": 1913, \"additionalType\": \"Photographs\"}, {\"id\": \"148929\", \"title\": \"Postcard featuring a pen and ink printed drawing showing the silhouette of Big Ben and an Australian soldier arm in arm with three women on each side\", \"year\": 1917, \"additionalType\": \"Postcards\"}, {\"id\": \"126576\", \"title\": \"Guthega concrete works, 1953\", \"year\": 1953, \"additionalType\": \"Photographs\"}, {\"id\": \"115744\", \"title\": \"Mr Ottweill, Edmund Filippini, Tot? Mengel, Elizabeth Otterwill, A.G. Washbrook, Walter Otterwill\", \"year\": 1913, \"additionalType\": \"Photographs\"}, {\"id\": \"229784\", \"title\": \"Charles Dunell and his sister Winnifred Margaret\", \"year\": 1929, \"additionalType\": \"Photographs\"}, {\"id\": \"116081\", \"title\": \"The Party. A Nature Hunter, Carpenter, Dr Bradley, Colhoon, A nature hunter, Self at the camera. Feb 1920\", \"year\": 1913, \"additionalType\": \"Photographs\"}, {\"id\": \"122755\", \"title\": \"Photograph showing W A Oldfield stumping English batsman J Hardstaff\", \"year\": 1936, \"additionalType\": \"Photographs\"}, {\"id\": \"112267\", \"title\": \"Black and white postcard photograph of Auntie Val from the Blue Birds Club\", \"year\": 1935, \"additionalType\": \"Photographs\"}, {\"id\": \"115507\", \"title\": \"Cigarette leaving Yunnanfu per carriers\", \"year\": 1913, \"additionalType\": \"Photographs\"}, {\"id\": \"152480\", \"title\": \"TWOFOLD BAY\", \"year\": 1819, \"additionalType\": \"Postcards\"}, {\"id\": \"115649\", \"title\": \"The Tu-tung' addressing the people in connection with the opium burning Kalgan 16.6.1914\", \"year\": 1913, \"additionalType\": \"Photographs\"}, {\"id\": \"143341\", \"title\": \"Last Train from KATOOMBA\", \"year\": 1922, \"additionalType\": \"Postcards\"}, {\"id\": \"153950\", \"title\": \"Photographic postcard of Sydney Harbour from Kirribilli Point, NSW\", \"year\": 1884, \"additionalType\": \"Postcards\"}, {\"id\": \"115647\", \"title\": \"The burning of opium at Kalgan 16.6.1914\", \"year\": 1913, \"additionalType\": \"Photographs\"}, {\"id\": \"34012\", \"title\": \"Oceana Series A - Hawkesbury River, NSW\", \"year\": 1906, \"additionalType\": \"Postcards\"}, {\"id\": \"115984\", \"title\": \"Irrigation device for drawing water from a canal and drain though the dyke - April 1922\", \"year\": 1913, \"additionalType\": \"Photographs\"}, {\"id\": \"122750\", \"title\": \"Ten photographs of W.A. Oldfield demonstrating cricket wicket keeping skills\", \"year\": 1920, \"additionalType\": \"Photographs\"}, {\"id\": \"114668\", \"title\": \"Six members of a wedding party in an outdoor setting - May 9, 1923, Hong Kong\", \"year\": 1923, \"additionalType\": \"Photographs\"}, {\"id\": \"115746\", \"title\": \"O Maman of B.A.T. Co Ltd as he arrived in Kalgan 20-12-1914\", \"year\": 1913, \"additionalType\": \"Photographs\"}, {\"id\": \"231243\", \"title\": \"Photographic portrait of man sitting on horse, Thomas Sladdin, Barossa Valley, 1895 to 1900\", \"year\": 1895, \"additionalType\": \"Photographs\"}, {\"id\": \"114669\", \"title\": \"K A Aumuller and I A L Uhr, 1923\", \"year\": 1923, \"additionalType\": \"Photographs\"}, {\"id\": \"49175\", \"title\": \"Photograph of a mens cricket team, 1987\", \"year\": 1987, \"additionalType\": \"Photographs\"}, {\"id\": \"74819\", \"title\": \"A terrier with ribbon collar, sitting on a cushion, 1897\", \"year\": 1897, \"additionalType\": \"Photographs\"}, {\"id\": \"229783\", \"title\": \"Charles Dunell in the cockpit of an aircraft\", \"year\": 1929, \"additionalType\": \"Photographs\"}, {\"id\": \"115498\", \"title\": \"Photograph of a view of a pagoda with a two tiered roof, with stairs in the front centre and a brick wall at the front\", \"year\": 1913, \"additionalType\": \"Photographs\"}, {\"id\": \"137115\", \"title\": \"A Corroboree\", \"year\": 1819, \"additionalType\": \"Postcards\"}, {\"id\": \"118630\", \"title\": \"Sepia photograph the Coolgardie Farm and Dairy Produce Action Auction Mart\", \"year\": 1912, \"additionalType\": \"Photographs\"}, {\"id\": \"149266\", \"title\": \"'A CLOSE SHAVE', 28 November 1917\", \"year\": 1917, \"additionalType\": \"Postcards\"}, {\"id\": \"74763\", \"title\": \"Two men wearing suits, with a large display of vegetables on wooden shelves, Goulburn Show, Grifffiths + Blake gardeners 1919\", \"year\": 1919, \"additionalType\": \"Photographs\"}, {\"id\": \"115748\", \"title\": \"Group at B.A.T. mess Kalgan 14-3-1914\", \"year\": 1913, \"additionalType\": \"Photographs\"}, {\"id\": \"229781\", \"title\": \"Charles Dunell wearing his flight uniform and helmet\", \"year\": 1929, \"additionalType\": \"Photographs\"}, {\"id\": \"115982\", \"title\": \"Lambs on the plateau in Mongha, Jan 1915\", \"year\": 1913, \"additionalType\": \"Photographs\"}, {\"id\": \"22099\", \"title\": \"Sepia photograph of Australian Test Cricketer Victor Trumper in batting attire, signed by Australian players\", \"year\": 1913, \"additionalType\": \"Photographs\"}, {\"id\": \"126574\", \"title\": \"Guthega Dam under construction, 1953\", \"year\": 1953, \"additionalType\": \"Photographs\"}, {\"id\": \"122753\", \"title\": \"Feb 13-18, 1925, Hobbs Stumped Oldfield, Bowled Ryder 66\", \"year\": 1925, \"additionalType\": \"Photographs\"}, {\"id\": \"116041\", \"title\": \"B.A.T. M.B. Tar Kwang Tung anchored off Shameen Canton Oct 1921\", \"year\": 1913, \"additionalType\": \"Photographs\"}, {\"id\": \"39150\", \"title\": \"Sepia photograph depicting Croatian miners at Broken Hill\", \"year\": 1926, \"additionalType\": \"Photographs\"}, {\"id\": \"115496\", \"title\": \"Photograph of a view of a pagoda with a two tiered roof, enclosed by a stone wall with several arches\", \"year\": 1913, \"additionalType\": \"Photographs\"}, {\"id\": \"125156\", \"title\": \"The captured German 28cm Railway Gun in a railway siding at Molonglo\", \"year\": 1927, \"additionalType\": \"Photographs\"}, {\"id\": \"122754\", \"title\": \"Black and white photograph titled 'HRH the Duke of Edinburgh...'\", \"year\": 1953, \"additionalType\": \"Photographs\"}, {\"id\": \"115505\", \"title\": \"Putting on a load - the average animal will carry up to 200lbs up and down hill, day after day. 1919\", \"year\": 1913, \"additionalType\": \"Photographs\"}, {\"id\": \"82129\", \"title\": \"Heavens, how deeply you at once do touch me, 18 June 1907\", \"year\": 1907, \"additionalType\": \"Postcards\"}, {\"id\": \"75409\", \"title\": \"Ram Perfection, bred by A. A. Wood, Vermont, 1888\", \"year\": 1888, \"additionalType\": \"Photographs\"}, {\"id\": \"229782\", \"title\": \"Charles Dunell in uniform holding his cap\", \"year\": 1929, \"additionalType\": \"Photographs\"}, {\"id\": \"141043\", \"title\": \"Photograph of the six men who founded the organisation Scientists Against Nuclear Arms at the foundation meeting\", \"year\": 1981, \"additionalType\": \"Photographs\"}, {\"id\": \"74995\", \"title\": \"Garden party for Bishop, 1904\", \"year\": 1904, \"additionalType\": \"Photographs\"}, {\"id\": \"116004\", \"title\": \"The 3 Cars  in which 162 men and 4 officers, who were supposed to have taken part in the Kalgan looting on 26-4-1914\", \"year\": 1913, \"additionalType\": \"Photographs\"}, {\"id\": \"115553\", \"title\": \"View of the Governors grounds (on the hill) Yunnufu July 1920\", \"year\": 1913, \"additionalType\": \"Photographs\"}, {\"id\": \"230135\", \"title\": \"Postcard of Massey-Harris 'WARWICK Q. DEPOT'\", \"year\": 1909, \"additionalType\": \"Postcards\"}, {\"id\": \"153928\", \"title\": \"Colourised photographic postcard of Como Bridge over George's River.\", \"year\": 1884, \"additionalType\": \"Postcards\"}, {\"id\": \"118934\", \"title\": \"Black and white photograph of a soldier in front of a military tent camp\", \"year\": 1927, \"additionalType\": \"Photographs\"}, {\"id\": \"115701\", \"title\": \"Group taken at E.O. Drakes house - 147 the Peak, on Xmas day 1921. Hong Kong\", \"year\": 1913, \"additionalType\": \"Photographs\"}, {\"id\": \"118878\", \"title\": \"Black and white photograph of a view over a military tent camp surrounded by houses\", \"year\": 1927, \"additionalType\": \"Photographs\"}, {\"id\": \"71081\", \"title\": \"Silk embroidered postcard from World War One\", \"year\": 1918, \"additionalType\": \"Postcards\"}, {\"id\": \"118684\", \"title\": \"Black and white photograph of Old Parliament House\", \"year\": 1927, \"additionalType\": \"Photographs\"}, {\"id\": \"115453\", \"title\": \"Stone building featuring seven tiers - pagoda\", \"year\": 1913, \"additionalType\": \"Photographs\"}, {\"id\": \"115704\", \"title\": \"Flashlight - B.A.T. Mess Kalgan May 1914\", \"year\": 1913, \"additionalType\": \"Photographs\"}, {\"id\": \"118935\", \"title\": \"Black and white photograph showing three aeroplanes standing in a line, wing to wing\", \"year\": 1927, \"additionalType\": \"Photographs\"}, {\"id\": \"74858\", \"title\": \"John Wilkey with white beard, 13 September 1878\", \"year\": 1878, \"additionalType\": \"Photographs\"}, {\"id\": \"115597\", \"title\": \"A camellia tree in full bloom at Her Lung Tan Yunnanfu Jan 1920\", \"year\": 1913, \"additionalType\": \"Photographs\"}, {\"id\": \"115842\", \"title\": \"Hand labour separating grain form the straw, Jan 1915\", \"year\": 1913, \"additionalType\": \"Photographs\"}, {\"id\": \"230139\", \"title\": \"Postcard of Massey-Harris store at '35 BROADWAY, SYDNEY'\", \"year\": 1909, \"additionalType\": \"Postcards\"}, {\"id\": \"230137\", \"title\": \"Postcard of Massey-Harris 'KILLARNEY AGENCY (Q)'\", \"year\": 1909, \"additionalType\": \"Postcards\"}, {\"id\": \"132452\", \"title\": \"Dear Sirs, Since my twins have been feeding on your milk they have grown splendidly. I recommend your milk to all mothers\", \"year\": 1907, \"additionalType\": \"Postcards\"}, {\"id\": \"140049\", \"title\": \"Upper Macedon from Mount Toorong (copyright)\", \"year\": 1910, \"additionalType\": \"Postcards\"}, {\"id\": \"22144\", \"title\": \"Grand stand at East Melbourne Cricket Ground\", \"year\": 1921, \"additionalType\": \"Photographs\"}, {\"id\": \"75052\", \"title\": \"Tirranna Committee about 1908\", \"year\": 1908, \"additionalType\": \"Photographs\"}, {\"id\": \"239245\", \"title\": \"Team photograph, Victoria v South Australia, Melbourne, 1 June 1968\", \"year\": 1968, \"additionalType\": \"Photographs\"}, {\"id\": \"132947\", \"title\": \"Bulk Grocery Geelong St Fyshwick Oct 1966.\", \"year\": 1966, \"additionalType\": \"Photographs\"}, {\"id\": \"116048\", \"title\": \"One of the Hong Kong - Canton steamers - 1921\", \"year\": 1913, \"additionalType\": \"Photographs\"}, {\"id\": \"115793\", \"title\": \"The bridge over the River at Kalgan 14.3.1914\", \"year\": 1913, \"additionalType\": \"Photographs\"}, {\"id\": \"137885\", \"title\": \"Sheakespeare Illustrated, 6 February 1917\", \"year\": 1917, \"additionalType\": \"Postcards\"}, {\"id\": \"34436\", \"title\": \"Several men and one woman, in suits\", \"year\": 1946, \"additionalType\": \"Photographs\"}, {\"id\": \"230136\", \"title\": \"Postcard of Massey-Harris 'WARRA (Q) AGENCY'\", \"year\": 1909, \"additionalType\": \"Postcards\"}, {\"id\": \"115708\", \"title\": \"Anne Your Grandfather at Kalgan China May 1914\", \"year\": 1913, \"additionalType\": \"Photographs\"}, {\"id\": \"118932\", \"title\": \"Black and white photograph of a military tent camp and nearby buildings\", \"year\": 1927, \"additionalType\": \"Photographs\"}, {\"id\": \"118682\", \"title\": \"Black and white photograph of Old Parliament House\", \"year\": 1927, \"additionalType\": \"Photographs\"}, {\"id\": \"147730\", \"title\": \"The Tea Centre, J B Young Queanbeyan store\", \"year\": 1956, \"additionalType\": \"Photographs\"}, {\"id\": \"118641\", \"title\": \"Black and white photograph titled 'Junior Colour Party - Opening of  Parliament House by the Duke and Duchess of York 1927'\", \"year\": 1927, \"additionalType\": \"Photographs\"}, {\"id\": \"126620\", \"title\": \"Munyang road in winter\", \"year\": 1953, \"additionalType\": \"Photographs\"}, {\"id\": \"132944\", \"title\": \"Photographof the inside of a building with no roof and rubble on the floor\", \"year\": 1966, \"additionalType\": \"Photographs\"}, {\"id\": \"115550\", \"title\": \"A bad picture of the town of Kochin in the famous tin centre, Yunnan province, Summer 1919\", \"year\": 1913, \"additionalType\": \"Photographs\"}, {\"id\": \"74714\", \"title\": \"Church of St. Jude decorated for wedding, Randwick, August 1890\", \"year\": 1890, \"additionalType\": \"Photographs\"}, {\"id\": \"116049\", \"title\": \"Steamer being loaded from junks in Hong Kong Harbour\", \"year\": 1913, \"additionalType\": \"Photographs\"}, {\"id\": \"139881\", \"title\": \"At the Entrance to St. Kilda Road, Melbourne\", \"year\": 1937, \"additionalType\": \"Postcards\"}, {\"id\": \"180813\", \"title\": \"Town Hall Sydney, 6 March 1913\", \"year\": 1913, \"additionalType\": \"Postcards\"}, {\"id\": \"132949\", \"title\": \"Kingston - Construction of Second Storey over old rear portion July 1966.\", \"year\": 1966, \"additionalType\": \"Photographs\"}, {\"id\": \"115599\", \"title\": \"Photograph of a carved cylindrical monument with two wing like sturctures on each side at the top\", \"year\": 1913, \"additionalType\": \"Photographs\"}, {\"id\": \"125158\", \"title\": \"Photograph of Parliament House, Canberra, shortly after its completion\", \"year\": 1926, \"additionalType\": \"Photographs\"}, {\"id\": \"122752\", \"title\": \"Autographed black and white photograph titled 'The Famous Catch', 1925\", \"year\": 1925, \"additionalType\": \"Photographs\"}, {\"id\": \"118675\", \"title\": \"Black and white photograph of Old Parliament House with a ceremonial platform\", \"year\": 1927, \"additionalType\": \"Photographs\"}, {\"id\": \"112418\", \"title\": \"Black and white postcard photograph depicting Mr Glover wearing his military medals on Anzac Day, 1939\", \"year\": 1939, \"additionalType\": \"Photographs\"}, {\"id\": \"115787\", \"title\": \"After the fire - Wuchow, April 1917\", \"year\": 1917, \"additionalType\": \"Photographs\"}, {\"id\": \"115151\", \"title\": \"Ex German Bank building on Shamun Canton, Oct 1921\", \"year\": 1913, \"additionalType\": \"Photographs\"}, {\"id\": \"126580\", \"title\": \"Penstock to Munyang Power Station, 1953\", \"year\": 1953, \"additionalType\": \"Photographs\"}, {\"id\": \"56474\", \"title\": \"US Forces Get the Nod ...\", \"year\": 1986, \"additionalType\": \"Postcards\"}, {\"id\": \"115985\", \"title\": \"Irrigating on the Youmanfu Plains, Apl 1920\", \"year\": 1913, \"additionalType\": \"Photographs\"}, {\"id\": \"39634\", \"title\": \"Members of the women's cricket team, holding flowers as they depart Sydney, 1937\", \"year\": 1937, \"additionalType\": \"Photographs\"}, {\"id\": \"118923\", \"title\": \"Black and white photograph of a tent camp and horses\", \"year\": 1927, \"additionalType\": \"Photographs\"}, {\"id\": \"115153\", \"title\": \"Gates with three arches and two flags on top, crossed over\", \"year\": 1913, \"additionalType\": \"Photographs\"}, {\"id\": \"115785\", \"title\": \"The Fire - Wuchow, April 1917\", \"year\": 1917, \"additionalType\": \"Photographs\"}, {\"id\": \"152290\", \"title\": \"Photographic postcard of The Kangaroos rugby league team\", \"year\": 1908, \"additionalType\": \"Postcards\"}, {\"id\": \"116085\", \"title\": \"Street scene with flags flying from buildings and rickshaws on the street.\", \"year\": 1913, \"additionalType\": \"Photographs\"}, {\"id\": \"125159\", \"title\": \"Photograph of Cotter Dam\", \"year\": 1926, \"additionalType\": \"Photographs\"}, {\"id\": \"122751\", \"title\": \"Cricket scene showing W.R. 'Wally' Hammond and W.A. 'Bert' Oldfield\", \"year\": 1928, \"additionalType\": \"Photographs\"}, {\"id\": \"126476\", \"title\": \"Spencers Creek Camp 1951\", \"year\": 1951, \"additionalType\": \"Photographs\"}, {\"id\": \"118924\", \"title\": \"Black and white photograph of mounted soldiers\", \"year\": 1927, \"additionalType\": \"Photographs\"}, {\"id\": \"126484\", \"title\": \"Joe Gordon at Dainers Gap 1951\", \"year\": 1951, \"additionalType\": \"Photographs\"}, {\"id\": \"127718\", \"title\": \"Colour photograph of Rhea Seddon and Robert 'Hoot' Gibson with an American flag and a model of a space shuttle\", \"year\": 1984, \"additionalType\": \"Photographs\"}, {\"id\": \"75113\", \"title\": \"Faithfull family group outside Big House at Springfield, 1895\", \"year\": 1895, \"additionalType\": \"Photographs\"}, {\"id\": \"142749\", \"title\": \"Robbery Under Arms, No. 1\", \"year\": 1907, \"additionalType\": \"Postcards\"}, {\"id\": \"33759\", \"title\": \"On MacDougall's Selection, 1905\", \"year\": 1905, \"additionalType\": \"Postcards\"}, {\"id\": \"116039\", \"title\": \"Innksete on the Fu River, Wuschau. May 1917\", \"year\": 1913, \"additionalType\": \"Photographs\"}, {\"id\": \"115645\", \"title\": \"The Opium, pipes and other apparatus on view to the public before the burning. Kalgan 16/6/1914\", \"year\": 1913, \"additionalType\": \"Photographs\"}, {\"id\": \"126477\", \"title\": \"Spencers Creek Camp\", \"year\": 1951, \"additionalType\": \"Photographs\"}, {\"id\": \"115500\", \"title\": \"Mafoss preparing a caravan load in front of BAT Quarters, 1919\", \"year\": 1913, \"additionalType\": \"Photographs\"}, {\"id\": \"116083\", \"title\": \"The mode of climbing up to the Cliffs at Hoi Shan. Mrs Ottwell's little girl Elizabeth in the basket - 14/3/1920 - picnic\", \"year\": 1913, \"additionalType\": \"Photographs\"}, {\"id\": \"116084\", \"title\": \"Tiffen time on the road. Between Shipping & Lugau 30-9-1917\", \"year\": 1913, \"additionalType\": \"Photographs\"}, {\"id\": \"118876\", \"title\": \"Black and white photograph of a view over a military tent camp\", \"year\": 1927, \"additionalType\": \"Photographs\"}, {\"id\": \"74861\", \"title\": \"Envelope containing photographs of the Faithfull family, 1937\", \"year\": 1937, \"additionalType\": \"Photographs\"}, {\"id\": \"115643\", \"title\": \"The burning of opium at Kalgan 16.6.1914\", \"year\": 1913, \"additionalType\": \"Photographs\"}, {\"id\": \"112264\", \"title\": \"Black and white photograph of Enid Glover playing a piano accordion in the back yard\", \"year\": 1939, \"additionalType\": \"Photographs\"}, {\"id\": \"39633\", \"title\": \"Photograph of Nance Clements and English Test cricketer Herbert Sutcliffe\", \"year\": 1937, \"additionalType\": \"Photographs\"}, {\"id\": \"75592\", \"title\": \"Black and white photograph of stud ram Grand Prince, bred by Augustus Lucian Faithfull, Goulburn Show, 1882\", \"year\": 1882, \"additionalType\": \"Photographs\"}, {\"id\": \"126486\", \"title\": \"Smiggins Camp with tents\", \"year\": 1951, \"additionalType\": \"Photographs\"}, {\"id\": \"115788\", \"title\": \"View of canal near B.A.T. Mess Yunnanfu\", \"year\": 1913, \"additionalType\": \"Photographs\"}, {\"id\": \"126478\", \"title\": \"Smiggins Holes, Winter 1950\", \"year\": 1950, \"additionalType\": \"Photographs\"}, {\"id\": \"56472\", \"title\": \"Postcard depicting a PND banner\", \"year\": 1982, \"additionalType\": \"Postcards\"}, {\"id\": \"115642\", \"title\": \"A Mongol Obo - a heap of stones generally erected in hight points on the hills to frighten away evil spirits\", \"year\": 1913, \"additionalType\": \"Photographs\"}, {\"id\": \"54425\", \"title\": \"A black and white photograph of a drawing labelled Henry Butler, Birdsville track\", \"year\": 1952, \"additionalType\": \"Photographs\"}, {\"id\": \"22104\", \"title\": \"Sepia toned photograph of the Australian cricket team that played in the 1921 England and South Africa series\", \"year\": 1912, \"additionalType\": \"Photographs\"}, {\"id\": \"56473\", \"title\": \"The bare dry ugly gullies of Gallipoli have vanished long ago ... Rain forests are bulldozed here every day\", \"year\": 1986, \"additionalType\": \"Postcards\"}, {\"id\": \"116038\", \"title\": \"Empress of Russia' at Woosung - taken from our tender as we left to go up the River to Shanghai. 1921\", \"year\": 1913, \"additionalType\": \"Photographs\"}, {\"id\": \"115789\", \"title\": \"Chan Bay Beach. Amoy, about 100 yds from the Amoy Club on Kulangsu Island; Augt 1921\", \"year\": 1913, \"additionalType\": \"Photographs\"}, {\"id\": \"33758\", \"title\": \"No Music in the Australian Bush, 1905\", \"year\": 1905, \"additionalType\": \"Postcards\"}, {\"id\": \"39632\", \"title\": \"Photograph of Alice Wegemund, Peggy Antonio, Kath Smith on the deck of a ship\", \"year\": 1937, \"additionalType\": \"Photographs\"}, {\"id\": \"22105\", \"title\": \"C.B. Jennings in cricket attire, holding a bat in front of stumps\", \"year\": 1912, \"additionalType\": \"Photographs\"}, {\"id\": \"39635\", \"title\": \"Amy Hudson holding flowers, 1937\", \"year\": 1937, \"additionalType\": \"Photographs\"}, {\"id\": \"146072\", \"title\": \"Reproduction photograph of crab cralwing in desert, by Yarngarah Weetarah (Brolga Moon), 1994\", \"year\": 1994, \"additionalType\": \"Photographs\"}, {\"id\": \"56475\", \"title\": \"Sweet dreams ...\", \"year\": 1986, \"additionalType\": \"Postcards\"}, {\"id\": \"49179\", \"title\": \"Photograph of Edna Thompson and 'Tuppy' Franz, Martin Place Sydney, 1934\", \"year\": 1934, \"additionalType\": \"Photographs\"}, {\"id\": \"126482\", \"title\": \"Shovels in SMA stores depot at Cooma Gaol\", \"year\": 1950, \"additionalType\": \"Photographs\"}, {\"id\": \"115648\", \"title\": \"Burning opium at Kalgan 16.6.1914\", \"year\": 1913, \"additionalType\": \"Photographs\"}, {\"id\": \"112263\", \"title\": \"Black and white photograph of Enid Glover playing a piano accordion in front of a microphone\", \"year\": 1942, \"additionalType\": \"Photographs\"}, {\"id\": \"112419\", \"title\": \"Black and white postcard photograph depicting Mr Glover wearing his military medals on Anzac Day, 1951\", \"year\": 1951, \"additionalType\": \"Photographs\"}, {\"id\": \"115154\", \"title\": \"Photograph of a parade\", \"year\": 1913, \"additionalType\": \"Photographs\"}, {\"id\": \"112262\", \"title\": \"Hand-coloured studio portrait photograph of Enid Glover playing a piano accordion\", \"year\": 1940, \"additionalType\": \"Photographs\"}, {\"id\": \"54422\", \"title\": \"A black and white photograph of a pencil drawing labelled 'Dolly' or 'Pinanma'\", \"year\": 1952, \"additionalType\": \"Photographs\"}, {\"id\": \"125161\", \"title\": \"Photograph of St Johns Church, Reid, with headstones in the foreground\", \"year\": 1926, \"additionalType\": \"Photographs\"}, {\"id\": \"31807\", \"title\": \"Postcard with a poem titled Remembrance of the Absent One\", \"year\": 1915, \"additionalType\": \"Postcards\"}, {\"id\": \"40124\", \"title\": \"Cricketer Nance Clements standing in full batting attire\", \"year\": 1937, \"additionalType\": \"Photographs\"}, {\"id\": \"115839\", \"title\": \"Loading wool at Kalgan for export 1914\", \"year\": 1913, \"additionalType\": \"Photographs\"}, {\"id\": \"113778\", \"title\": \"On Parliament House steps Canberra June 1928\", \"year\": 1928, \"additionalType\": \"Photographs\"}, {\"id\": \"139899\", \"title\": \"The Avenue, Brown's River\", \"year\": 1903, \"additionalType\": \"Postcards\"}, {\"id\": \"116032\", \"title\": \"Rafts - drifting down the Fu river. Apl 1917\", \"year\": 1913, \"additionalType\": \"Photographs\"}, {\"id\": \"115684\", \"title\": \"Moscow, 7 May 1909\", \"year\": 1909, \"additionalType\": \"Postcards\"}, {\"id\": \"116034\", \"title\": \"The Venezuela at the jetty (near side) inside the breakwater, Manilla Harbour. Feb 1917\", \"year\": 1913, \"additionalType\": \"Photographs\"}, {\"id\": \"209701\", \"title\": \"George Street, Sydney, showing Town Hall and Queen Victoria Markets, 28 April 1908\", \"year\": 1908, \"additionalType\": \"Postcards\"}, {\"id\": \"116031\", \"title\": \"Scene in the Harbour at Swatow - Sept 1921\", \"year\": 1913, \"additionalType\": \"Photographs\"}, {\"id\": \"140305\", \"title\": \"Bride and groom\", \"year\": 1916, \"additionalType\": \"Photographs\"}, {\"id\": \"112949\", \"title\": \"Sitting room of house owned by Sir Ernest, Devon, 1915\", \"year\": 1915, \"additionalType\": \"Photographs\"}, {\"id\": \"74821\", \"title\": \"Constance Faithfull & Hazel, England 1901\", \"year\": 1901, \"additionalType\": \"Photographs\"}, {\"id\": \"115546\", \"title\": \"The frontier between the French province of Toukin and the Chinese province of Younnan Oct 1917\", \"year\": 1913, \"additionalType\": \"Photographs\"}, {\"id\": \"115640\", \"title\": \"Kalgan 10.10.1913. 'Cairn' on a Peak West of the City\", \"year\": 1913, \"additionalType\": \"Photographs\"}, {\"id\": \"115150\", \"title\": \"Entrance gate to the 'Carnival' grounds at Manilla. Feb 1917\", \"year\": 1913, \"additionalType\": \"Photographs\"}, {\"id\": \"125162\", \"title\": \"Photograph of Hotel Canberra\", \"year\": 1926, \"additionalType\": \"Photographs\"}, {\"id\": \"115542\", \"title\": \"Photograph of a view of a town from above\", \"year\": 1913, \"additionalType\": \"Photographs\"}, {\"id\": \"115836\", \"title\": \"Taking the grape vines from their trenches, Kalgan 24.4.1914\", \"year\": 1913, \"additionalType\": \"Photographs\"}, {\"id\": \"139895\", \"title\": \"Jetty Road, Looking East, Glenelg\", \"year\": 1911, \"additionalType\": \"Postcards\"}, {\"id\": \"126288\", \"title\": \"Photograph of Bob Hart in De Soutter aircraft VH-UPR of Victorian Interstate Airways\", \"year\": 1930, \"additionalType\": \"Photographs\"}, {\"id\": \"118728\", \"title\": \"32 photographs relating to the opening of Old Parliament House in Canberra in 1927\", \"year\": 1927, \"additionalType\": \"Photographs\"}, {\"id\": \"152484\", \"title\": \"EASTERN VIEW, OLD SYDNEY\", \"year\": 1819, \"additionalType\": \"Postcards\"}, {\"id\": \"216365\", \"title\": \"Circular Quay, Sydney, N.S.W., 11 May 1910\", \"year\": 1910, \"additionalType\": \"Postcards\"}, {\"id\": \"152483\", \"title\": \"Water to Parramatta\", \"year\": 1819, \"additionalType\": \"Postcards\"}, {\"id\": \"125160\", \"title\": \"Photograph of Old Parliament House, Canberra\", \"year\": 1926, \"additionalType\": \"Photographs\"}, {\"id\": \"74960\", \"title\": \"Stud ewes bred by Lucian Faithfull, 1897\", \"year\": 1897, \"additionalType\": \"Photographs\"}, {\"id\": \"115686\", \"title\": \"A good rice crop\", \"year\": 1913, \"additionalType\": \"Photographs\"}, {\"id\": \"126283\", \"title\": \"Photograph of W H Treloar and Harry and Don Wurfel with an aircraft\", \"year\": 1920, \"additionalType\": \"Photographs\"}, {\"id\": \"139902\", \"title\": \"St Mary's Church, Echuca, VIC.\", \"year\": 1950, \"additionalType\": \"Postcards\"}, {\"id\": \"115783\", \"title\": \"Canton Fire from the roof of B.A.T. offices, 13 October 1921\", \"year\": 1921, \"additionalType\": \"Photographs\"}, {\"id\": \"74769\", \"title\": \"Large group of adults and children in an outdoor setting, Empire Day, 1908\", \"year\": 1908, \"additionalType\": \"Photographs\"}, {\"id\": \"117014\", \"title\": \"The two photos of Benny Zable in protest rehearsal wearing the Greedozer costume\", \"year\": 1981, \"additionalType\": \"Photographs\"}, {\"id\": \"126287\", \"title\": \"Photograph of W H Treloar, H Lord and Leslie Trist with an aircraft\", \"year\": 1922, \"additionalType\": \"Photographs\"}, {\"id\": \"71247\", \"title\": \"Souvenir from France\", \"year\": 1914, \"additionalType\": \"Postcards\"}, {\"id\": \"49178\", \"title\": \"Photograph of Edna Thompson and Maurice White, Sydney, 1934\", \"year\": 1934, \"additionalType\": \"Photographs\"}, {\"id\": \"132951\", \"title\": \"Photograph of a float, featuring a giant owl, travelling down a street\", \"year\": 1967, \"additionalType\": \"Photographs\"}, {\"id\": \"116666\", \"title\": \"N.A.G. troupe at the Canberra Festival Parade February March 1985\", \"year\": 1985, \"additionalType\": \"Photographs\"}, {\"id\": \"115540\", \"title\": \"Birds eye view from the Sim Co. department Stores roof at Canton Nov 1921\", \"year\": 1913, \"additionalType\": \"Photographs\"}, {\"id\": \"152485\", \"title\": \"THE OLD TANK STREAM, OLD SYDNEY\", \"year\": 1819, \"additionalType\": \"Postcards\"}, {\"id\": \"196585\", \"title\": \"Digital photographs printed from the floppy disk John Johnson provided to document the creation of 'The Last Wave' artwork, 2003\", \"year\": 2003, \"additionalType\": \"Photographs\"}, {\"id\": \"116030\", \"title\": \"Blue funnel liner S.S. Ascannis in Hong Kong harbour. 11Sept 1921\", \"year\": 1913, \"additionalType\": \"Photographs\"}, {\"id\": \"204167\", \"title\": \"Circular Quay, Sydney, 28 January 1915\", \"year\": 1915, \"additionalType\": \"Postcards\"}, {\"id\": \"140050\", \"title\": \"5. Bourke St - Melbourne\", \"year\": 1908, \"additionalType\": \"Postcards\"}, {\"id\": \"115544\", \"title\": \"Photograph of a view of a town and harbour with hills in the distance\", \"year\": 1913, \"additionalType\": \"Photographs\"}, {\"id\": \"216362\", \"title\": \"G.P.O. and George Street, Sydney, 20 May 1910\", \"year\": 1910, \"additionalType\": \"Postcards\"}, {\"id\": \"126480\", \"title\": \"Putting Broomwade compressor on sled at Smiggins\", \"year\": 1950, \"additionalType\": \"Photographs\"}, {\"id\": \"32772\", \"title\": \"Brisbane Q. The Town Hall, 2 December 1905\", \"year\": 1905, \"additionalType\": \"Postcards\"}, {\"id\": \"40122\", \"title\": \"Cricketer Nance Clements batting\", \"year\": 1930, \"additionalType\": \"Photographs\"}, {\"id\": \"71246\", \"title\": \"Family portrait taken about 1895\", \"year\": 1895, \"additionalType\": \"Photographs\"}, {\"id\": \"115781\", \"title\": \"View of the fire in Canton right behind B.A.T. Offices, October 1921\", \"year\": 1921, \"additionalType\": \"Photographs\"}, {\"id\": \"22155\", \"title\": \"Racehorse \\\"Carbine\\\" held by a strapper\", \"year\": 1913, \"additionalType\": \"Photographs\"}, {\"id\": \"209700\", \"title\": \"George Street, Sydney, 15 October 1906\", \"year\": 1906, \"additionalType\": \"Postcards\"}, {\"id\": \"115444\", \"title\": \"BAT premises; Shameen Canton Oct 1921\", \"year\": 1913, \"additionalType\": \"Photographs\"}, {\"id\": \"151610\", \"title\": \"Circular Quay Sydney, 14 October 1910\", \"year\": 1907, \"additionalType\": \"Postcards\"}, {\"id\": \"112947\", \"title\": \"Sir Ernest Cable's property, Devon, 1915\", \"year\": 1915, \"additionalType\": \"Photographs\"}, {\"id\": \"115587\", \"title\": \"View of the Country through which the Pass runs from Kalgan to Ha Nor 17.6.1914\", \"year\": 1913, \"additionalType\": \"Photographs\"}, {\"id\": \"116036\", \"title\": \"Junk on the Yangtze River at Nanking. Feb 1917\", \"year\": 1913, \"additionalType\": \"Photographs\"}, {\"id\": \"56471\", \"title\": \"Closed Pine Gap ... Aboriginal Land\", \"year\": 1987, \"additionalType\": \"Postcards\"}, {\"id\": \"40461\", \"title\": \"Photograph of the Conistan Girls Vigoro Team from 1930\", \"year\": 1930, \"additionalType\": \"Photographs\"}, {\"id\": \"140308\", \"title\": \"Horse Rearing in Central Queensland\", \"year\": 1908, \"additionalType\": \"Postcards\"}, {\"id\": \"58530\", \"title\": \"Black and white photograph of the Tasmanian Team at the Interstate Lacrosse Carnival, Melbourne, 1912\", \"year\": 1912, \"additionalType\": \"Photographs\"}, {\"id\": \"115682\", \"title\": \"School Girls marching through the streets of Yunnanufu, Yunnan Province Nov 1917\", \"year\": 1913, \"additionalType\": \"Photographs\"}, {\"id\": \"155572\", \"title\": \"Postcard featuring the portraits of 26 men of the Brisbane Tramways Company\", \"year\": 1910, \"additionalType\": \"Postcards\"}, {\"id\": \"22154\", \"title\": \"Photograph of racehorse \\\"Carbine\\\"\", \"year\": 1913, \"additionalType\": \"Photographs\"}, {\"id\": \"112948\", \"title\": \"Interior of house owned by Sir Ernest, Devon, 1915\", \"year\": 1915, \"additionalType\": \"Photographs\"}, {\"id\": \"113381\", \"title\": \"Passport photograph of Anne Turner c.1945\", \"year\": 1945, \"additionalType\": \"Photographs\"}, {\"id\": \"39149\", \"title\": \"Photograph depicting Croatian miners at Broken Hill\", \"year\": 1926, \"additionalType\": \"Photographs\"}, {\"id\": \"114122\", \"title\": \"Black and white photograph of Olegas Truchanas dressed in casual clothes with a camera around his neck\", \"year\": 1975, \"additionalType\": \"Photographs\"}, {\"id\": \"114122\", \"title\": \"Black and white photograph of Olegas Truchanas dressed in casual clothes with a camera around his neck\", \"year\": 1972, \"additionalType\": \"Photographs\"}, {\"id\": \"126286\", \"title\": \"Photograph of W H Treloar with Harry and Don Wurfel, and a biplane marked Barnet Glass Tyres\", \"year\": 1920, \"additionalType\": \"Photographs\"}, {\"id\": \"118922\", \"title\": \"Black and white photograph of a tent camp\", \"year\": 1927, \"additionalType\": \"Photographs\"}, {\"id\": \"140612\", \"title\": \"Photograph of the pages of a book which is partially titled \\\"Record of Deaths at the Quarantine Station, North Head\\\"\", \"year\": 1975, \"additionalType\": \"Photographs\"}, {\"id\": \"115834\", \"title\": \"Foredeck of Hanmui on trip from Hankow to Honk Kong, 1921\", \"year\": 1913, \"additionalType\": \"Photographs\"}, {\"id\": \"40391\", \"title\": \"Australian Women's Cricket Team Captain Margaret Peden with English Captain Betty Archdale, 1934\", \"year\": 1934, \"additionalType\": \"Photographs\"}, {\"id\": \"115585\", \"title\": \"An old watch tower on the great wall north of Kalgan - 15 miles. Jan 1915\", \"year\": 1913, \"additionalType\": \"Photographs\"}, {\"id\": \"116076\", \"title\": \"Man standing with his hand on the shoulder of a child in full school uniform\", \"year\": 1913, \"additionalType\": \"Photographs\"}, {\"id\": \"40394\", \"title\": \"\\\"Dr Moffat\\\" and members of the Arcadian LCC women, 1932-33\", \"year\": 1932, \"additionalType\": \"Photographs\"}, {\"id\": \"40404\", \"title\": \"Australian Test cricketers from 1934/37. Taken at Jubilee Dinner held at the MCG 30/1/85. Members, January 1985.\", \"year\": 1985, \"additionalType\": \"Photographs\"}, {\"id\": \"40397\", \"title\": \"Three young women dressed in cricket attire and wearing hats, 1931-32.\", \"year\": 1932, \"additionalType\": \"Photographs\"}, {\"id\": \"22111\", \"title\": \"Photograph of actor Douglas Fairbanks, tennis player William Tilden and boy Bennie Alexander\", \"year\": 1912, \"additionalType\": \"Photographs\"}, {\"id\": \"132913\", \"title\": \"Photograph titled 'An old roadway bordered by dense prickly pear showing some evidence of attack...'\", \"year\": 1928, \"additionalType\": \"Photographs\"}, {\"id\": \"112942\", \"title\": \"Sir Ernest Cable's property, Devon, 1915\", \"year\": 1915, \"additionalType\": \"Photographs\"}, {\"id\": \"132912\", \"title\": \"Photograph titled 'The same roadway in November 1929, showing the results of Cactoblastis activity'\", \"year\": 1929, \"additionalType\": \"Photographs\"}, {\"id\": \"112941\", \"title\": \"Sir Ernest Cable's property, Devon, 1915\", \"year\": 1915, \"additionalType\": \"Photographs\"}, {\"id\": \"40393\", \"title\": \"Leila Dallas in cricket attire at cricket ground. Arcadian Women's CC Goulburn. 1932-33.\", \"year\": 1932, \"additionalType\": \"Photographs\"}, {\"id\": \"40407\", \"title\": \"Offical team photograph of the Australian Women's Cricket Team, 1937\", \"year\": 1937, \"additionalType\": \"Photographs\"}, {\"id\": \"74727\", \"title\": \"Wedding of Hazel Faithfull and Yorke Henderson, 11 July 1922\", \"year\": 1922, \"additionalType\": \"Photographs\"}, {\"id\": \"116033\", \"title\": \"On the bank of the Fu River, near it's junction with the West river at Wuchow. Mch 1917\", \"year\": 1913, \"additionalType\": \"Photographs\"}, {\"id\": \"118826\", \"title\": \"Black and white photograph showing military personnel with Old Parliament House in the background\", \"year\": 1927, \"additionalType\": \"Photographs\"}, {\"id\": \"115683\", \"title\": \"Postcard showing tulips, 23 April 1913\", \"year\": 1901, \"additionalType\": \"Postcards\"}, {\"id\": \"112945\", \"title\": \"Sir Ernest Cable's property, Devon, 1915\", \"year\": 1915, \"additionalType\": \"Photographs\"}, {\"id\": \"239313\", \"title\": \"Team photograph of Richmond Football Club VFL Premiers - All Australian Club Champions 1974\", \"year\": 1974, \"additionalType\": \"Photographs\"}, {\"id\": \"112940\", \"title\": \"Sir Ernest Cable's property, Devon, 1915\", \"year\": 1915, \"additionalType\": \"Photographs\"}, {\"id\": \"54432\", \"title\": \"A photograph of a pencil drawing labelled A mixed class, Birdsville\", \"year\": 1953, \"additionalType\": \"Photographs\"}, {\"id\": \"233759\", \"title\": \"Full length portrait photograph of Lieutenant Vincent Burns, 1916\", \"year\": 1916, \"additionalType\": \"Photographs\"}, {\"id\": \"132941\", \"title\": \"2nd storey Alterations Kingston, August 1966\", \"year\": 1966, \"additionalType\": \"Photographs\"}, {\"id\": \"206802\", \"title\": \"Town Hall, Sydney, 23 December 1904\", \"year\": 1904, \"additionalType\": \"Postcards\"}, {\"id\": \"233756\", \"title\": \"Three quarter length portrait photograph of Lieutenant Vincent Burns, 1916\", \"year\": 1916, \"additionalType\": \"Photographs\"}, {\"id\": \"58502\", \"title\": \"Black and white photograph of US swimmer Gertrude Ederle, New York, 1922\", \"year\": 1922, \"additionalType\": \"Photographs\"}, {\"id\": \"115651\", \"title\": \"Natives carrying parrots from Western Szechuan province for sale en route with final destination at Yunnanfu, Younnan province, Nov 1917\", \"year\": 1913, \"additionalType\": \"Photographs\"}, {\"id\": \"116042\", \"title\": \"A River gun boat anchored off Shameen - Canton. Oct 1921\", \"year\": 1913, \"additionalType\": \"Photographs\"}, {\"id\": \"71139\", \"title\": \"The Australian Cricketing Team, 1888\", \"year\": 1888, \"additionalType\": \"Photographs\"}, {\"id\": \"32768\", \"title\": \"Brisbane Q., 21 November 1910\", \"year\": 1910, \"additionalType\": \"Postcards\"}, {\"id\": \"224675\", \"title\": \"Photograph of Cowey family outside house, 'Weardale', 1894\", \"year\": 1894, \"additionalType\": \"Photographs\"}, {\"id\": \"233758\", \"title\": \"Head and shoulders portrait photograph of Lieutenant Vincent Burns, 1916\", \"year\": 1916, \"additionalType\": \"Photographs\"}, {\"id\": \"3861\", \"title\": \"Postcard of Melbourne Cup, 1909\", \"year\": 1909, \"additionalType\": \"Postcards\"}, {\"id\": \"32769\", \"title\": \"'Brisbane Q.: Eagle St', 15 December 1909\", \"year\": 1909, \"additionalType\": \"Postcards\"}, {\"id\": \"230138\", \"title\": \"Postcard of Massey-Harris 'CLIFTON Q. DEPOT'\", \"year\": 1909, \"additionalType\": \"Postcards\"}, {\"id\": \"30756\", \"title\": \"Postcard issued by the Sydney Philatelic Club for the Jubilee of the NSW five pence stamp, 1855-1905\", \"year\": 1905, \"additionalType\": \"Postcards\"}, {\"id\": \"113153\", \"title\": \"Sepia photograph titled 'Brisbane 1924 all dolled up'\", \"year\": 1924, \"additionalType\": \"Photographs\"}, {\"id\": \"117756\", \"title\": \"Photograph showing Fred Daly seated at a microphone at the National Australia Day Council, 1981\", \"year\": 1981, \"additionalType\": \"Photographs\"}, {\"id\": \"22147\", \"title\": \"Photograph of Edgar Richard Mayne in the cricket attire of the 1912 Australian cricket team\", \"year\": 1912, \"additionalType\": \"Photographs\"}, {\"id\": \"117266\", \"title\": \"The Nuclear Free Roadshow has accomplished visits to the three major bases; Nurrungar, Pine Gap, and N.W. Cape\", \"year\": 1986, \"additionalType\": \"Photographs\"}, {\"id\": \"233757\", \"title\": \"Portrait photograph of Lieutenant Vincent Burns, 1916\", \"year\": 1916, \"additionalType\": \"Photographs\"}, {\"id\": \"118881\", \"title\": \"Black and white photograph of a military tent camp\", \"year\": 1927, \"additionalType\": \"Photographs\"}, {\"id\": \"75588\", \"title\": \"Black and white photograph of Grand Prince, 1879\", \"year\": 1879, \"additionalType\": \"Photographs\"}, {\"id\": \"115709\", \"title\": \"Staff B.A.T. office Yunnanfu 1919\", \"year\": 1913, \"additionalType\": \"Photographs\"}, {\"id\": \"75109\", \"title\": \"Photograph of painting of a pale coloured horse by Douglas Fry,1909\", \"year\": 1909, \"additionalType\": \"Photographs\"}, {\"id\": \"206801\", \"title\": \"1006 - Town Hall, Sydney, 30 December 1907\", \"year\": 1907, \"additionalType\": \"Postcards\"}, {\"id\": \"115791\", \"title\": \"View of the Harbour from one of the roads on the Peak. Hong Kong 17.6.1921\", \"year\": 1913, \"additionalType\": \"Photographs\"}, {\"id\": \"116045\", \"title\": \"View from roof of Suri Co. Canton, Nov 1921\", \"year\": 1913, \"additionalType\": \"Photographs\"}, {\"id\": \"115699\", \"title\": \"Photograph of one woman and two men standing in front of a cart\", \"year\": 1913, \"additionalType\": \"Photographs\"}, {\"id\": \"115790\", \"title\": \"Island Bay - one of the resorts on the Island for launch parties. 2.7.1922\", \"year\": 1913, \"additionalType\": \"Photographs\"}, {\"id\": \"113779\", \"title\": \"Seaplane of Dependo (who intends to fly around the world) in Sydney Cove 23rd July 1925\", \"year\": 1925, \"additionalType\": \"Photographs\"}]}}, {\"mode\": \"vega-lite\"});\n",
       "</script>"
      ],
      "text/plain": [
       "alt.Chart(...)"
      ]
     },
     "execution_count": 34,
     "metadata": {},
     "output_type": "execute_result"
    }
   ],
   "source": [
    "# Create a dataframe containing just Photographs and Postcards -- use .isin() to filter the additionalType field\n",
    "df_photos_postcards = df_creation_dates_types.loc[(df_creation_dates_types['year'] > 0) & (df_creation_dates_types['additionalType'].isin(['Photographs', 'Postcards']))]\n",
    "\n",
    "# Create a stacked bar chart\n",
    "alt.Chart(df_photos_postcards).mark_bar(size=3).encode(\n",
    "    \n",
    "    # Year on the X axis\n",
    "    x=alt.X('year:Q', axis=alt.Axis(format='c', title='Year of production')),\n",
    "    \n",
    "    # Number of objects on the Y axis\n",
    "    y=alt.Y('count()', title='Number of objects'),\n",
    "    \n",
    "    # Color according to the type\n",
    "    color='additionalType:N',\n",
    "    \n",
    "    # Details on hover\n",
    "    tooltip=[alt.Tooltip('additionalType:N', title='Type'), alt.Tooltip('year:Q', title='Year'), alt.Tooltip('count():Q', title='Objects', format=',')]\n",
    ").properties(width=700)"
   ]
  },
  {
   "cell_type": "markdown",
   "metadata": {},
   "source": [
    "There's 1913 again... It's also interesting to see a shift from postcards to photos in the early decades of the 20th century.\n",
    "\n",
    "We could add additional types to this chart, but it will get a bit confusing. Let's try another way of charting changes in the creation of the most common object types over time.\n",
    "\n",
    "First we'll get the top twenty-five object types (which have creation dates) as a list."
   ]
  },
  {
   "cell_type": "code",
   "execution_count": 35,
   "metadata": {},
   "outputs": [
    {
     "data": {
      "text/plain": [
       "['Engravings',\n",
       " 'Bark paintings',\n",
       " 'Cartoons',\n",
       " 'Negatives',\n",
       " 'Mounts',\n",
       " 'Photographs',\n",
       " 'Paintings',\n",
       " 'Prints',\n",
       " 'Drawings',\n",
       " 'Photographic postcards',\n",
       " 'Acrylic paintings',\n",
       " 'Letters',\n",
       " 'Books',\n",
       " 'Photographic slides',\n",
       " 'Postcards',\n",
       " 'Courtroom drawings',\n",
       " 'Glass plate negatives',\n",
       " 'Cards',\n",
       " 'Botanical specimens',\n",
       " 'Prize certificates',\n",
       " 'Collecting cards',\n",
       " 'Posters',\n",
       " 'Sculptures',\n",
       " 'Portrait photographs',\n",
       " 'Telegrams']"
      ]
     },
     "execution_count": 35,
     "metadata": {},
     "output_type": "execute_result"
    }
   ],
   "source": [
    "# Get most common 25 values and convert to a list\n",
    "top_types = df_creation_dates_types['additionalType'].value_counts()[:25].index.to_list()\n",
    "top_types"
   ]
  },
  {
   "cell_type": "markdown",
   "metadata": {},
   "source": [
    "Now we'll use the list of `top_types` to filter the creation dates, so we only have events relating to those types og objects."
   ]
  },
  {
   "cell_type": "code",
   "execution_count": 36,
   "metadata": {},
   "outputs": [],
   "source": [
    "# Only include records where the additionalType value is in the list of top_types\n",
    "df_top_types = df_creation_dates_types.loc[(df_creation_dates_types['year'] > 0) & (df_creation_dates_types['additionalType'].isin(top_types))]"
   ]
  },
  {
   "cell_type": "code",
   "execution_count": 53,
   "metadata": {},
   "outputs": [],
   "source": [
    "# Get the counts for year / type\n",
    "top_type_counts = df_top_types.groupby('year')['additionalType'].value_counts().to_frame()\n",
    "top_type_counts.columns = ['count']\n",
    "top_type_counts.reset_index(inplace=True)"
   ]
  },
  {
   "cell_type": "markdown",
   "metadata": {},
   "source": [
    "To chart this data we're going to use circles for each point and create 'bubble lines' for each object type to show how the number of objects created varied year by year."
   ]
  },
  {
   "cell_type": "code",
   "execution_count": 52,
   "metadata": {},
   "outputs": [
    {
     "data": {
      "text/html": [
       "\n",
       "<div id=\"altair-viz-769d3b30464449dcb291225c44a18066\"></div>\n",
       "<script type=\"text/javascript\">\n",
       "  (function(spec, embedOpt){\n",
       "    let outputDiv = document.currentScript.previousElementSibling;\n",
       "    if (outputDiv.id !== \"altair-viz-769d3b30464449dcb291225c44a18066\") {\n",
       "      outputDiv = document.getElementById(\"altair-viz-769d3b30464449dcb291225c44a18066\");\n",
       "    }\n",
       "    const paths = {\n",
       "      \"vega\": \"https://cdn.jsdelivr.net/npm//vega@5?noext\",\n",
       "      \"vega-lib\": \"https://cdn.jsdelivr.net/npm//vega-lib?noext\",\n",
       "      \"vega-lite\": \"https://cdn.jsdelivr.net/npm//vega-lite@4.8.1?noext\",\n",
       "      \"vega-embed\": \"https://cdn.jsdelivr.net/npm//vega-embed@6?noext\",\n",
       "    };\n",
       "\n",
       "    function loadScript(lib) {\n",
       "      return new Promise(function(resolve, reject) {\n",
       "        var s = document.createElement('script');\n",
       "        s.src = paths[lib];\n",
       "        s.async = true;\n",
       "        s.onload = () => resolve(paths[lib]);\n",
       "        s.onerror = () => reject(`Error loading script: ${paths[lib]}`);\n",
       "        document.getElementsByTagName(\"head\")[0].appendChild(s);\n",
       "      });\n",
       "    }\n",
       "\n",
       "    function showError(err) {\n",
       "      outputDiv.innerHTML = `<div class=\"error\" style=\"color:red;\">${err}</div>`;\n",
       "      throw err;\n",
       "    }\n",
       "\n",
       "    function displayChart(vegaEmbed) {\n",
       "      vegaEmbed(outputDiv, spec, embedOpt)\n",
       "        .catch(err => showError(`Javascript Error: ${err.message}<br>This usually means there's a typo in your chart specification. See the javascript console for the full traceback.`));\n",
       "    }\n",
       "\n",
       "    if(typeof define === \"function\" && define.amd) {\n",
       "      requirejs.config({paths});\n",
       "      require([\"vega-embed\"], displayChart, err => showError(`Error loading script: ${err.message}`));\n",
       "    } else if (typeof vegaEmbed === \"function\") {\n",
       "      displayChart(vegaEmbed);\n",
       "    } else {\n",
       "      loadScript(\"vega\")\n",
       "        .then(() => loadScript(\"vega-lite\"))\n",
       "        .then(() => loadScript(\"vega-embed\"))\n",
       "        .catch(showError)\n",
       "        .then(() => displayChart(vegaEmbed));\n",
       "    }\n",
       "  })({\"config\": {\"view\": {\"continuousWidth\": 400, \"continuousHeight\": 300}}, \"data\": {\"name\": \"data-3701c4b3b5177cf9f4d3ede37e4c7392\"}, \"mark\": {\"type\": \"circle\", \"opacity\": 0.8, \"stroke\": \"black\", \"strokeWidth\": 1}, \"encoding\": {\"color\": {\"type\": \"nominal\", \"field\": \"additionalType\", \"legend\": null}, \"size\": {\"type\": \"quantitative\", \"field\": \"count\", \"legend\": {\"title\": \"Number of objects\"}, \"scale\": {\"range\": [0, 2000]}}, \"tooltip\": [{\"type\": \"nominal\", \"field\": \"additionalType\", \"title\": \"Type\"}, {\"type\": \"ordinal\", \"field\": \"year\", \"title\": \"Year\"}, {\"type\": \"quantitative\", \"field\": \"count\", \"format\": \",\", \"title\": \"Objects\"}], \"x\": {\"type\": \"ordinal\", \"axis\": {\"format\": \"c\", \"labelAngle\": 0, \"title\": \"Year of production\"}, \"field\": \"year\"}, \"y\": {\"type\": \"nominal\", \"field\": \"additionalType\", \"title\": \"Object type\"}}, \"width\": 700, \"$schema\": \"https://vega.github.io/schema/vega-lite/v4.8.1.json\", \"datasets\": {\"data-3701c4b3b5177cf9f4d3ede37e4c7392\": [{\"year\": 1660, \"additionalType\": \"Prints\", \"count\": 1}, {\"year\": 1670, \"additionalType\": \"Books\", \"count\": 1}, {\"year\": 1674, \"additionalType\": \"Books\", \"count\": 1}, {\"year\": 1749, \"additionalType\": \"Books\", \"count\": 2}, {\"year\": 1762, \"additionalType\": \"Books\", \"count\": 1}, {\"year\": 1773, \"additionalType\": \"Prints\", \"count\": 1}, {\"year\": 1774, \"additionalType\": \"Prints\", \"count\": 1}, {\"year\": 1787, \"additionalType\": \"Botanical specimens\", \"count\": 1}, {\"year\": 1789, \"additionalType\": \"Books\", \"count\": 1}, {\"year\": 1790, \"additionalType\": \"Drawings\", \"count\": 1}, {\"year\": 1791, \"additionalType\": \"Prints\", \"count\": 2}, {\"year\": 1792, \"additionalType\": \"Engravings\", \"count\": 2}, {\"year\": 1792, \"additionalType\": \"Prints\", \"count\": 2}, {\"year\": 1793, \"additionalType\": \"Books\", \"count\": 1}, {\"year\": 1797, \"additionalType\": \"Books\", \"count\": 1}, {\"year\": 1797, \"additionalType\": \"Engravings\", \"count\": 1}, {\"year\": 1797, \"additionalType\": \"Prints\", \"count\": 1}, {\"year\": 1798, \"additionalType\": \"Books\", \"count\": 1}, {\"year\": 1798, \"additionalType\": \"Prints\", \"count\": 1}, {\"year\": 1799, \"additionalType\": \"Books\", \"count\": 1}, {\"year\": 1800, \"additionalType\": \"Prints\", \"count\": 2}, {\"year\": 1800, \"additionalType\": \"Engravings\", \"count\": 1}, {\"year\": 1802, \"additionalType\": \"Books\", \"count\": 2}, {\"year\": 1803, \"additionalType\": \"Prints\", \"count\": 19}, {\"year\": 1804, \"additionalType\": \"Prints\", \"count\": 6}, {\"year\": 1807, \"additionalType\": \"Books\", \"count\": 3}, {\"year\": 1807, \"additionalType\": \"Letters\", \"count\": 1}, {\"year\": 1813, \"additionalType\": \"Prints\", \"count\": 10}, {\"year\": 1813, \"additionalType\": \"Books\", \"count\": 1}, {\"year\": 1814, \"additionalType\": \"Books\", \"count\": 2}, {\"year\": 1814, \"additionalType\": \"Prints\", \"count\": 1}, {\"year\": 1815, \"additionalType\": \"Books\", \"count\": 1}, {\"year\": 1818, \"additionalType\": \"Prints\", \"count\": 2}, {\"year\": 1819, \"additionalType\": \"Postcards\", \"count\": 10}, {\"year\": 1819, \"additionalType\": \"Letters\", \"count\": 1}, {\"year\": 1819, \"additionalType\": \"Prints\", \"count\": 1}, {\"year\": 1820, \"additionalType\": \"Books\", \"count\": 2}, {\"year\": 1820, \"additionalType\": \"Prints\", \"count\": 2}, {\"year\": 1821, \"additionalType\": \"Books\", \"count\": 1}, {\"year\": 1821, \"additionalType\": \"Prints\", \"count\": 1}, {\"year\": 1822, \"additionalType\": \"Books\", \"count\": 2}, {\"year\": 1822, \"additionalType\": \"Prints\", \"count\": 2}, {\"year\": 1823, \"additionalType\": \"Books\", \"count\": 2}, {\"year\": 1824, \"additionalType\": \"Prints\", \"count\": 18}, {\"year\": 1825, \"additionalType\": \"Prints\", \"count\": 2}, {\"year\": 1826, \"additionalType\": \"Books\", \"count\": 1}, {\"year\": 1827, \"additionalType\": \"Books\", \"count\": 1}, {\"year\": 1829, \"additionalType\": \"Drawings\", \"count\": 1}, {\"year\": 1830, \"additionalType\": \"Books\", \"count\": 2}, {\"year\": 1831, \"additionalType\": \"Books\", \"count\": 1}, {\"year\": 1832, \"additionalType\": \"Prints\", \"count\": 1}, {\"year\": 1833, \"additionalType\": \"Prints\", \"count\": 9}, {\"year\": 1833, \"additionalType\": \"Books\", \"count\": 4}, {\"year\": 1834, \"additionalType\": \"Prints\", \"count\": 11}, {\"year\": 1834, \"additionalType\": \"Books\", \"count\": 4}, {\"year\": 1835, \"additionalType\": \"Prints\", \"count\": 2}, {\"year\": 1835, \"additionalType\": \"Books\", \"count\": 1}, {\"year\": 1836, \"additionalType\": \"Books\", \"count\": 7}, {\"year\": 1837, \"additionalType\": \"Books\", \"count\": 10}, {\"year\": 1838, \"additionalType\": \"Books\", \"count\": 2}, {\"year\": 1838, \"additionalType\": \"Prints\", \"count\": 1}, {\"year\": 1840, \"additionalType\": \"Books\", \"count\": 3}, {\"year\": 1840, \"additionalType\": \"Paintings\", \"count\": 1}, {\"year\": 1840, \"additionalType\": \"Prints\", \"count\": 1}, {\"year\": 1841, \"additionalType\": \"Books\", \"count\": 1}, {\"year\": 1841, \"additionalType\": \"Engravings\", \"count\": 1}, {\"year\": 1844, \"additionalType\": \"Prints\", \"count\": 2}, {\"year\": 1844, \"additionalType\": \"Books\", \"count\": 1}, {\"year\": 1844, \"additionalType\": \"Letters\", \"count\": 1}, {\"year\": 1845, \"additionalType\": \"Engravings\", \"count\": 1}, {\"year\": 1847, \"additionalType\": \"Prints\", \"count\": 18}, {\"year\": 1847, \"additionalType\": \"Letters\", \"count\": 1}, {\"year\": 1848, \"additionalType\": \"Engravings\", \"count\": 1}, {\"year\": 1849, \"additionalType\": \"Books\", \"count\": 2}, {\"year\": 1849, \"additionalType\": \"Drawings\", \"count\": 1}, {\"year\": 1850, \"additionalType\": \"Prints\", \"count\": 2}, {\"year\": 1852, \"additionalType\": \"Postcards\", \"count\": 1}, {\"year\": 1855, \"additionalType\": \"Books\", \"count\": 1}, {\"year\": 1855, \"additionalType\": \"Letters\", \"count\": 1}, {\"year\": 1855, \"additionalType\": \"Postcards\", \"count\": 1}, {\"year\": 1856, \"additionalType\": \"Letters\", \"count\": 2}, {\"year\": 1857, \"additionalType\": \"Books\", \"count\": 1}, {\"year\": 1860, \"additionalType\": \"Letters\", \"count\": 1}, {\"year\": 1860, \"additionalType\": \"Photographs\", \"count\": 1}, {\"year\": 1861, \"additionalType\": \"Letters\", \"count\": 1}, {\"year\": 1862, \"additionalType\": \"Letters\", \"count\": 3}, {\"year\": 1863, \"additionalType\": \"Letters\", \"count\": 6}, {\"year\": 1864, \"additionalType\": \"Letters\", \"count\": 4}, {\"year\": 1864, \"additionalType\": \"Prints\", \"count\": 2}, {\"year\": 1864, \"additionalType\": \"Books\", \"count\": 1}, {\"year\": 1865, \"additionalType\": \"Letters\", \"count\": 2}, {\"year\": 1865, \"additionalType\": \"Books\", \"count\": 1}, {\"year\": 1865, \"additionalType\": \"Photographs\", \"count\": 1}, {\"year\": 1866, \"additionalType\": \"Books\", \"count\": 1}, {\"year\": 1867, \"additionalType\": \"Letters\", \"count\": 3}, {\"year\": 1867, \"additionalType\": \"Photographs\", \"count\": 1}, {\"year\": 1867, \"additionalType\": \"Posters\", \"count\": 1}, {\"year\": 1870, \"additionalType\": \"Prints\", \"count\": 3}, {\"year\": 1870, \"additionalType\": \"Letters\", \"count\": 1}, {\"year\": 1870, \"additionalType\": \"Paintings\", \"count\": 1}, {\"year\": 1872, \"additionalType\": \"Letters\", \"count\": 4}, {\"year\": 1873, \"additionalType\": \"Botanical specimens\", \"count\": 36}, {\"year\": 1873, \"additionalType\": \"Prints\", \"count\": 10}, {\"year\": 1873, \"additionalType\": \"Books\", \"count\": 2}, {\"year\": 1873, \"additionalType\": \"Letters\", \"count\": 2}, {\"year\": 1873, \"additionalType\": \"Engravings\", \"count\": 1}, {\"year\": 1874, \"additionalType\": \"Letters\", \"count\": 9}, {\"year\": 1874, \"additionalType\": \"Prints\", \"count\": 1}, {\"year\": 1875, \"additionalType\": \"Botanical specimens\", \"count\": 54}, {\"year\": 1875, \"additionalType\": \"Books\", \"count\": 1}, {\"year\": 1875, \"additionalType\": \"Letters\", \"count\": 1}, {\"year\": 1876, \"additionalType\": \"Botanical specimens\", \"count\": 59}, {\"year\": 1876, \"additionalType\": \"Letters\", \"count\": 5}, {\"year\": 1876, \"additionalType\": \"Books\", \"count\": 2}, {\"year\": 1876, \"additionalType\": \"Engravings\", \"count\": 1}, {\"year\": 1877, \"additionalType\": \"Letters\", \"count\": 11}, {\"year\": 1877, \"additionalType\": \"Books\", \"count\": 2}, {\"year\": 1877, \"additionalType\": \"Cards\", \"count\": 1}, {\"year\": 1878, \"additionalType\": \"Letters\", \"count\": 4}, {\"year\": 1878, \"additionalType\": \"Photographs\", \"count\": 2}, {\"year\": 1878, \"additionalType\": \"Books\", \"count\": 1}, {\"year\": 1878, \"additionalType\": \"Portrait photographs\", \"count\": 1}, {\"year\": 1879, \"additionalType\": \"Letters\", \"count\": 17}, {\"year\": 1879, \"additionalType\": \"Books\", \"count\": 1}, {\"year\": 1879, \"additionalType\": \"Photographs\", \"count\": 1}, {\"year\": 1880, \"additionalType\": \"Cards\", \"count\": 3}, {\"year\": 1880, \"additionalType\": \"Letters\", \"count\": 3}, {\"year\": 1880, \"additionalType\": \"Photographs\", \"count\": 3}, {\"year\": 1880, \"additionalType\": \"Prints\", \"count\": 2}, {\"year\": 1880, \"additionalType\": \"Paintings\", \"count\": 1}, {\"year\": 1880, \"additionalType\": \"Photographic postcards\", \"count\": 1}, {\"year\": 1881, \"additionalType\": \"Letters\", \"count\": 7}, {\"year\": 1882, \"additionalType\": \"Books\", \"count\": 3}, {\"year\": 1882, \"additionalType\": \"Letters\", \"count\": 1}, {\"year\": 1882, \"additionalType\": \"Photographs\", \"count\": 1}, {\"year\": 1883, \"additionalType\": \"Letters\", \"count\": 2}, {\"year\": 1883, \"additionalType\": \"Photographs\", \"count\": 2}, {\"year\": 1883, \"additionalType\": \"Portrait photographs\", \"count\": 2}, {\"year\": 1883, \"additionalType\": \"Books\", \"count\": 1}, {\"year\": 1884, \"additionalType\": \"Postcards\", \"count\": 19}, {\"year\": 1884, \"additionalType\": \"Letters\", \"count\": 1}, {\"year\": 1884, \"additionalType\": \"Photographic postcards\", \"count\": 1}, {\"year\": 1884, \"additionalType\": \"Photographs\", \"count\": 1}, {\"year\": 1884, \"additionalType\": \"Prints\", \"count\": 1}, {\"year\": 1885, \"additionalType\": \"Cards\", \"count\": 5}, {\"year\": 1885, \"additionalType\": \"Prize certificates\", \"count\": 5}, {\"year\": 1885, \"additionalType\": \"Photographs\", \"count\": 2}, {\"year\": 1885, \"additionalType\": \"Letters\", \"count\": 1}, {\"year\": 1885, \"additionalType\": \"Postcards\", \"count\": 1}, {\"year\": 1886, \"additionalType\": \"Cards\", \"count\": 1}, {\"year\": 1886, \"additionalType\": \"Engravings\", \"count\": 1}, {\"year\": 1886, \"additionalType\": \"Prize certificates\", \"count\": 1}, {\"year\": 1887, \"additionalType\": \"Cards\", \"count\": 24}, {\"year\": 1887, \"additionalType\": \"Paintings\", \"count\": 1}, {\"year\": 1887, \"additionalType\": \"Portrait photographs\", \"count\": 1}, {\"year\": 1887, \"additionalType\": \"Postcards\", \"count\": 1}, {\"year\": 1888, \"additionalType\": \"Cards\", \"count\": 4}, {\"year\": 1888, \"additionalType\": \"Photographs\", \"count\": 4}, {\"year\": 1888, \"additionalType\": \"Books\", \"count\": 1}, {\"year\": 1888, \"additionalType\": \"Letters\", \"count\": 1}, {\"year\": 1889, \"additionalType\": \"Cards\", \"count\": 8}, {\"year\": 1889, \"additionalType\": \"Letters\", \"count\": 1}, {\"year\": 1890, \"additionalType\": \"Photographs\", \"count\": 9}, {\"year\": 1890, \"additionalType\": \"Cards\", \"count\": 6}, {\"year\": 1890, \"additionalType\": \"Letters\", \"count\": 1}, {\"year\": 1890, \"additionalType\": \"Photographic postcards\", \"count\": 1}, {\"year\": 1890, \"additionalType\": \"Prize certificates\", \"count\": 1}, {\"year\": 1891, \"additionalType\": \"Books\", \"count\": 1}, {\"year\": 1891, \"additionalType\": \"Drawings\", \"count\": 1}, {\"year\": 1891, \"additionalType\": \"Prize certificates\", \"count\": 1}, {\"year\": 1892, \"additionalType\": \"Drawings\", \"count\": 1}, {\"year\": 1892, \"additionalType\": \"Prize certificates\", \"count\": 1}, {\"year\": 1893, \"additionalType\": \"Books\", \"count\": 1}, {\"year\": 1893, \"additionalType\": \"Prize certificates\", \"count\": 1}, {\"year\": 1894, \"additionalType\": \"Photographs\", \"count\": 2}, {\"year\": 1894, \"additionalType\": \"Glass plate negatives\", \"count\": 1}, {\"year\": 1894, \"additionalType\": \"Negatives\", \"count\": 1}, {\"year\": 1895, \"additionalType\": \"Photographs\", \"count\": 6}, {\"year\": 1895, \"additionalType\": \"Books\", \"count\": 1}, {\"year\": 1895, \"additionalType\": \"Drawings\", \"count\": 1}, {\"year\": 1896, \"additionalType\": \"Photographs\", \"count\": 3}, {\"year\": 1897, \"additionalType\": \"Photographs\", \"count\": 4}, {\"year\": 1897, \"additionalType\": \"Books\", \"count\": 3}, {\"year\": 1898, \"additionalType\": \"Photographs\", \"count\": 4}, {\"year\": 1898, \"additionalType\": \"Books\", \"count\": 3}, {\"year\": 1898, \"additionalType\": \"Postcards\", \"count\": 1}, {\"year\": 1898, \"additionalType\": \"Posters\", \"count\": 1}, {\"year\": 1899, \"additionalType\": \"Books\", \"count\": 1}, {\"year\": 1899, \"additionalType\": \"Cartoons\", \"count\": 1}, {\"year\": 1899, \"additionalType\": \"Letters\", \"count\": 1}, {\"year\": 1899, \"additionalType\": \"Postcards\", \"count\": 1}, {\"year\": 1900, \"additionalType\": \"Photographs\", \"count\": 4}, {\"year\": 1900, \"additionalType\": \"Glass plate negatives\", \"count\": 3}, {\"year\": 1900, \"additionalType\": \"Negatives\", \"count\": 2}, {\"year\": 1900, \"additionalType\": \"Photographic postcards\", \"count\": 2}, {\"year\": 1900, \"additionalType\": \"Books\", \"count\": 1}, {\"year\": 1900, \"additionalType\": \"Letters\", \"count\": 1}, {\"year\": 1901, \"additionalType\": \"Photographs\", \"count\": 3}, {\"year\": 1901, \"additionalType\": \"Postcards\", \"count\": 2}, {\"year\": 1901, \"additionalType\": \"Photographic postcards\", \"count\": 1}, {\"year\": 1902, \"additionalType\": \"Books\", \"count\": 2}, {\"year\": 1902, \"additionalType\": \"Photographic postcards\", \"count\": 1}, {\"year\": 1902, \"additionalType\": \"Photographs\", \"count\": 1}, {\"year\": 1902, \"additionalType\": \"Postcards\", \"count\": 1}, {\"year\": 1902, \"additionalType\": \"Prints\", \"count\": 1}, {\"year\": 1903, \"additionalType\": \"Books\", \"count\": 4}, {\"year\": 1903, \"additionalType\": \"Photographs\", \"count\": 2}, {\"year\": 1903, \"additionalType\": \"Postcards\", \"count\": 2}, {\"year\": 1903, \"additionalType\": \"Negatives\", \"count\": 1}, {\"year\": 1903, \"additionalType\": \"Prints\", \"count\": 1}, {\"year\": 1904, \"additionalType\": \"Postcards\", \"count\": 9}, {\"year\": 1904, \"additionalType\": \"Photographic postcards\", \"count\": 4}, {\"year\": 1904, \"additionalType\": \"Photographs\", \"count\": 4}, {\"year\": 1904, \"additionalType\": \"Books\", \"count\": 1}, {\"year\": 1905, \"additionalType\": \"Postcards\", \"count\": 16}, {\"year\": 1905, \"additionalType\": \"Glass plate negatives\", \"count\": 15}, {\"year\": 1905, \"additionalType\": \"Photographic postcards\", \"count\": 11}, {\"year\": 1905, \"additionalType\": \"Cards\", \"count\": 7}, {\"year\": 1905, \"additionalType\": \"Books\", \"count\": 1}, {\"year\": 1906, \"additionalType\": \"Photographic postcards\", \"count\": 23}, {\"year\": 1906, \"additionalType\": \"Postcards\", \"count\": 15}, {\"year\": 1906, \"additionalType\": \"Cards\", \"count\": 13}, {\"year\": 1906, \"additionalType\": \"Glass plate negatives\", \"count\": 8}, {\"year\": 1906, \"additionalType\": \"Negatives\", \"count\": 8}, {\"year\": 1906, \"additionalType\": \"Books\", \"count\": 2}, {\"year\": 1906, \"additionalType\": \"Prize certificates\", \"count\": 1}, {\"year\": 1907, \"additionalType\": \"Photographic postcards\", \"count\": 26}, {\"year\": 1907, \"additionalType\": \"Cards\", \"count\": 18}, {\"year\": 1907, \"additionalType\": \"Postcards\", \"count\": 16}, {\"year\": 1907, \"additionalType\": \"Glass plate negatives\", \"count\": 5}, {\"year\": 1907, \"additionalType\": \"Negatives\", \"count\": 4}, {\"year\": 1907, \"additionalType\": \"Books\", \"count\": 2}, {\"year\": 1907, \"additionalType\": \"Photographs\", \"count\": 1}, {\"year\": 1908, \"additionalType\": \"Cards\", \"count\": 14}, {\"year\": 1908, \"additionalType\": \"Photographic postcards\", \"count\": 14}, {\"year\": 1908, \"additionalType\": \"Postcards\", \"count\": 14}, {\"year\": 1908, \"additionalType\": \"Glass plate negatives\", \"count\": 12}, {\"year\": 1908, \"additionalType\": \"Negatives\", \"count\": 12}, {\"year\": 1908, \"additionalType\": \"Photographs\", \"count\": 4}, {\"year\": 1908, \"additionalType\": \"Books\", \"count\": 1}, {\"year\": 1909, \"additionalType\": \"Postcards\", \"count\": 21}, {\"year\": 1909, \"additionalType\": \"Photographic postcards\", \"count\": 17}, {\"year\": 1909, \"additionalType\": \"Glass plate negatives\", \"count\": 6}, {\"year\": 1909, \"additionalType\": \"Negatives\", \"count\": 6}, {\"year\": 1909, \"additionalType\": \"Photographs\", \"count\": 3}, {\"year\": 1910, \"additionalType\": \"Photographic postcards\", \"count\": 15}, {\"year\": 1910, \"additionalType\": \"Postcards\", \"count\": 11}, {\"year\": 1910, \"additionalType\": \"Photographs\", \"count\": 5}, {\"year\": 1910, \"additionalType\": \"Bark paintings\", \"count\": 1}, {\"year\": 1910, \"additionalType\": \"Books\", \"count\": 1}, {\"year\": 1911, \"additionalType\": \"Photographic postcards\", \"count\": 8}, {\"year\": 1911, \"additionalType\": \"Glass plate negatives\", \"count\": 5}, {\"year\": 1911, \"additionalType\": \"Letters\", \"count\": 5}, {\"year\": 1911, \"additionalType\": \"Photographs\", \"count\": 4}, {\"year\": 1911, \"additionalType\": \"Postcards\", \"count\": 1}, {\"year\": 1912, \"additionalType\": \"Photographic postcards\", \"count\": 11}, {\"year\": 1912, \"additionalType\": \"Photographs\", \"count\": 10}, {\"year\": 1912, \"additionalType\": \"Books\", \"count\": 2}, {\"year\": 1912, \"additionalType\": \"Letters\", \"count\": 1}, {\"year\": 1912, \"additionalType\": \"Postcards\", \"count\": 1}, {\"year\": 1913, \"additionalType\": \"Negatives\", \"count\": 799}, {\"year\": 1913, \"additionalType\": \"Photographs\", \"count\": 234}, {\"year\": 1913, \"additionalType\": \"Photographic postcards\", \"count\": 6}, {\"year\": 1913, \"additionalType\": \"Postcards\", \"count\": 3}, {\"year\": 1913, \"additionalType\": \"Portrait photographs\", \"count\": 1}, {\"year\": 1914, \"additionalType\": \"Negatives\", \"count\": 29}, {\"year\": 1914, \"additionalType\": \"Glass plate negatives\", \"count\": 16}, {\"year\": 1914, \"additionalType\": \"Photographic postcards\", \"count\": 15}, {\"year\": 1914, \"additionalType\": \"Photographs\", \"count\": 3}, {\"year\": 1914, \"additionalType\": \"Cards\", \"count\": 2}, {\"year\": 1914, \"additionalType\": \"Letters\", \"count\": 1}, {\"year\": 1914, \"additionalType\": \"Postcards\", \"count\": 1}, {\"year\": 1915, \"additionalType\": \"Photographs\", \"count\": 14}, {\"year\": 1915, \"additionalType\": \"Photographic postcards\", \"count\": 4}, {\"year\": 1915, \"additionalType\": \"Postcards\", \"count\": 3}, {\"year\": 1915, \"additionalType\": \"Books\", \"count\": 1}, {\"year\": 1916, \"additionalType\": \"Glass plate negatives\", \"count\": 19}, {\"year\": 1916, \"additionalType\": \"Photographic postcards\", \"count\": 18}, {\"year\": 1916, \"additionalType\": \"Photographs\", \"count\": 12}, {\"year\": 1916, \"additionalType\": \"Postcards\", \"count\": 2}, {\"year\": 1916, \"additionalType\": \"Books\", \"count\": 1}, {\"year\": 1917, \"additionalType\": \"Photographs\", \"count\": 10}, {\"year\": 1917, \"additionalType\": \"Postcards\", \"count\": 5}, {\"year\": 1917, \"additionalType\": \"Letters\", \"count\": 2}, {\"year\": 1917, \"additionalType\": \"Photographic postcards\", \"count\": 2}, {\"year\": 1918, \"additionalType\": \"Postcards\", \"count\": 8}, {\"year\": 1918, \"additionalType\": \"Photographic postcards\", \"count\": 6}, {\"year\": 1918, \"additionalType\": \"Photographs\", \"count\": 3}, {\"year\": 1918, \"additionalType\": \"Books\", \"count\": 1}, {\"year\": 1919, \"additionalType\": \"Glass plate negatives\", \"count\": 18}, {\"year\": 1919, \"additionalType\": \"Letters\", \"count\": 4}, {\"year\": 1919, \"additionalType\": \"Photographs\", \"count\": 3}, {\"year\": 1919, \"additionalType\": \"Books\", \"count\": 2}, {\"year\": 1919, \"additionalType\": \"Postcards\", \"count\": 2}, {\"year\": 1919, \"additionalType\": \"Botanical specimens\", \"count\": 1}, {\"year\": 1920, \"additionalType\": \"Glass plate negatives\", \"count\": 27}, {\"year\": 1920, \"additionalType\": \"Photographs\", \"count\": 11}, {\"year\": 1920, \"additionalType\": \"Photographic postcards\", \"count\": 10}, {\"year\": 1920, \"additionalType\": \"Drawings\", \"count\": 2}, {\"year\": 1920, \"additionalType\": \"Letters\", \"count\": 2}, {\"year\": 1920, \"additionalType\": \"Bark paintings\", \"count\": 1}, {\"year\": 1920, \"additionalType\": \"Negatives\", \"count\": 1}, {\"year\": 1920, \"additionalType\": \"Posters\", \"count\": 1}, {\"year\": 1921, \"additionalType\": \"Photographs\", \"count\": 10}, {\"year\": 1921, \"additionalType\": \"Photographic postcards\", \"count\": 3}, {\"year\": 1921, \"additionalType\": \"Postcards\", \"count\": 2}, {\"year\": 1922, \"additionalType\": \"Glass plate negatives\", \"count\": 18}, {\"year\": 1922, \"additionalType\": \"Photographs\", \"count\": 5}, {\"year\": 1922, \"additionalType\": \"Postcards\", \"count\": 2}, {\"year\": 1922, \"additionalType\": \"Books\", \"count\": 1}, {\"year\": 1922, \"additionalType\": \"Negatives\", \"count\": 1}, {\"year\": 1922, \"additionalType\": \"Photographic postcards\", \"count\": 1}, {\"year\": 1923, \"additionalType\": \"Glass plate negatives\", \"count\": 14}, {\"year\": 1923, \"additionalType\": \"Photographs\", \"count\": 4}, {\"year\": 1923, \"additionalType\": \"Photographic postcards\", \"count\": 2}, {\"year\": 1923, \"additionalType\": \"Cards\", \"count\": 1}, {\"year\": 1923, \"additionalType\": \"Letters\", \"count\": 1}, {\"year\": 1924, \"additionalType\": \"Books\", \"count\": 2}, {\"year\": 1924, \"additionalType\": \"Photographic postcards\", \"count\": 2}, {\"year\": 1924, \"additionalType\": \"Glass plate negatives\", \"count\": 1}, {\"year\": 1924, \"additionalType\": \"Negatives\", \"count\": 1}, {\"year\": 1924, \"additionalType\": \"Photographs\", \"count\": 1}, {\"year\": 1925, \"additionalType\": \"Photographic postcards\", \"count\": 4}, {\"year\": 1925, \"additionalType\": \"Photographs\", \"count\": 4}, {\"year\": 1926, \"additionalType\": \"Photographs\", \"count\": 14}, {\"year\": 1926, \"additionalType\": \"Negatives\", \"count\": 2}, {\"year\": 1926, \"additionalType\": \"Cartoons\", \"count\": 1}, {\"year\": 1927, \"additionalType\": \"Photographs\", \"count\": 40}, {\"year\": 1928, \"additionalType\": \"Photographs\", \"count\": 9}, {\"year\": 1928, \"additionalType\": \"Books\", \"count\": 1}, {\"year\": 1928, \"additionalType\": \"Negatives\", \"count\": 1}, {\"year\": 1928, \"additionalType\": \"Photographic postcards\", \"count\": 1}, {\"year\": 1928, \"additionalType\": \"Postcards\", \"count\": 1}, {\"year\": 1928, \"additionalType\": \"Prize certificates\", \"count\": 1}, {\"year\": 1929, \"additionalType\": \"Photographs\", \"count\": 11}, {\"year\": 1929, \"additionalType\": \"Books\", \"count\": 3}, {\"year\": 1929, \"additionalType\": \"Portrait photographs\", \"count\": 1}, {\"year\": 1930, \"additionalType\": \"Photographs\", \"count\": 7}, {\"year\": 1930, \"additionalType\": \"Books\", \"count\": 3}, {\"year\": 1930, \"additionalType\": \"Posters\", \"count\": 3}, {\"year\": 1930, \"additionalType\": \"Letters\", \"count\": 2}, {\"year\": 1930, \"additionalType\": \"Bark paintings\", \"count\": 1}, {\"year\": 1930, \"additionalType\": \"Postcards\", \"count\": 1}, {\"year\": 1931, \"additionalType\": \"Letters\", \"count\": 11}, {\"year\": 1931, \"additionalType\": \"Glass plate negatives\", \"count\": 2}, {\"year\": 1931, \"additionalType\": \"Paintings\", \"count\": 1}, {\"year\": 1931, \"additionalType\": \"Photographic postcards\", \"count\": 1}, {\"year\": 1931, \"additionalType\": \"Postcards\", \"count\": 1}, {\"year\": 1932, \"additionalType\": \"Letters\", \"count\": 9}, {\"year\": 1932, \"additionalType\": \"Photographs\", \"count\": 9}, {\"year\": 1932, \"additionalType\": \"Postcards\", \"count\": 3}, {\"year\": 1932, \"additionalType\": \"Photographic postcards\", \"count\": 2}, {\"year\": 1932, \"additionalType\": \"Sculptures\", \"count\": 2}, {\"year\": 1932, \"additionalType\": \"Books\", \"count\": 1}, {\"year\": 1932, \"additionalType\": \"Prize certificates\", \"count\": 1}, {\"year\": 1933, \"additionalType\": \"Books\", \"count\": 3}, {\"year\": 1933, \"additionalType\": \"Photographs\", \"count\": 3}, {\"year\": 1933, \"additionalType\": \"Cards\", \"count\": 1}, {\"year\": 1933, \"additionalType\": \"Photographic postcards\", \"count\": 1}, {\"year\": 1934, \"additionalType\": \"Photographs\", \"count\": 12}, {\"year\": 1934, \"additionalType\": \"Cards\", \"count\": 3}, {\"year\": 1934, \"additionalType\": \"Books\", \"count\": 1}, {\"year\": 1934, \"additionalType\": \"Cartoons\", \"count\": 1}, {\"year\": 1934, \"additionalType\": \"Postcards\", \"count\": 1}, {\"year\": 1934, \"additionalType\": \"Prize certificates\", \"count\": 1}, {\"year\": 1935, \"additionalType\": \"Letters\", \"count\": 11}, {\"year\": 1935, \"additionalType\": \"Prize certificates\", \"count\": 6}, {\"year\": 1935, \"additionalType\": \"Sculptures\", \"count\": 3}, {\"year\": 1935, \"additionalType\": \"Books\", \"count\": 2}, {\"year\": 1935, \"additionalType\": \"Photographs\", \"count\": 2}, {\"year\": 1935, \"additionalType\": \"Posters\", \"count\": 1}, {\"year\": 1936, \"additionalType\": \"Prize certificates\", \"count\": 7}, {\"year\": 1936, \"additionalType\": \"Photographic postcards\", \"count\": 1}, {\"year\": 1936, \"additionalType\": \"Photographs\", \"count\": 1}, {\"year\": 1936, \"additionalType\": \"Posters\", \"count\": 1}, {\"year\": 1937, \"additionalType\": \"Photographs\", \"count\": 14}, {\"year\": 1937, \"additionalType\": \"Prize certificates\", \"count\": 12}, {\"year\": 1937, \"additionalType\": \"Letters\", \"count\": 7}, {\"year\": 1937, \"additionalType\": \"Photographic postcards\", \"count\": 3}, {\"year\": 1937, \"additionalType\": \"Books\", \"count\": 1}, {\"year\": 1937, \"additionalType\": \"Cards\", \"count\": 1}, {\"year\": 1937, \"additionalType\": \"Postcards\", \"count\": 1}, {\"year\": 1938, \"additionalType\": \"Photographs\", \"count\": 2}, {\"year\": 1938, \"additionalType\": \"Cartoons\", \"count\": 1}, {\"year\": 1938, \"additionalType\": \"Letters\", \"count\": 1}, {\"year\": 1938, \"additionalType\": \"Prize certificates\", \"count\": 1}, {\"year\": 1939, \"additionalType\": \"Prize certificates\", \"count\": 4}, {\"year\": 1939, \"additionalType\": \"Books\", \"count\": 2}, {\"year\": 1939, \"additionalType\": \"Photographs\", \"count\": 2}, {\"year\": 1939, \"additionalType\": \"Posters\", \"count\": 1}, {\"year\": 1939, \"additionalType\": \"Prints\", \"count\": 1}, {\"year\": 1940, \"additionalType\": \"Books\", \"count\": 2}, {\"year\": 1940, \"additionalType\": \"Telegrams\", \"count\": 2}, {\"year\": 1940, \"additionalType\": \"Bark paintings\", \"count\": 1}, {\"year\": 1940, \"additionalType\": \"Cartoons\", \"count\": 1}, {\"year\": 1940, \"additionalType\": \"Letters\", \"count\": 1}, {\"year\": 1940, \"additionalType\": \"Photographic postcards\", \"count\": 1}, {\"year\": 1940, \"additionalType\": \"Photographs\", \"count\": 1}, {\"year\": 1940, \"additionalType\": \"Prize certificates\", \"count\": 1}, {\"year\": 1941, \"additionalType\": \"Letters\", \"count\": 3}, {\"year\": 1942, \"additionalType\": \"Books\", \"count\": 2}, {\"year\": 1942, \"additionalType\": \"Letters\", \"count\": 2}, {\"year\": 1942, \"additionalType\": \"Photographs\", \"count\": 2}, {\"year\": 1942, \"additionalType\": \"Bark paintings\", \"count\": 1}, {\"year\": 1942, \"additionalType\": \"Cards\", \"count\": 1}, {\"year\": 1942, \"additionalType\": \"Telegrams\", \"count\": 1}, {\"year\": 1943, \"additionalType\": \"Books\", \"count\": 4}, {\"year\": 1943, \"additionalType\": \"Letters\", \"count\": 3}, {\"year\": 1943, \"additionalType\": \"Photographs\", \"count\": 1}, {\"year\": 1943, \"additionalType\": \"Portrait photographs\", \"count\": 1}, {\"year\": 1944, \"additionalType\": \"Letters\", \"count\": 11}, {\"year\": 1945, \"additionalType\": \"Letters\", \"count\": 6}, {\"year\": 1945, \"additionalType\": \"Prize certificates\", \"count\": 5}, {\"year\": 1945, \"additionalType\": \"Photographs\", \"count\": 4}, {\"year\": 1946, \"additionalType\": \"Prize certificates\", \"count\": 13}, {\"year\": 1946, \"additionalType\": \"Photographs\", \"count\": 3}, {\"year\": 1946, \"additionalType\": \"Books\", \"count\": 1}, {\"year\": 1946, \"additionalType\": \"Telegrams\", \"count\": 1}, {\"year\": 1947, \"additionalType\": \"Prize certificates\", \"count\": 12}, {\"year\": 1947, \"additionalType\": \"Portrait photographs\", \"count\": 1}, {\"year\": 1948, \"additionalType\": \"Bark paintings\", \"count\": 94}, {\"year\": 1948, \"additionalType\": \"Posters\", \"count\": 11}, {\"year\": 1948, \"additionalType\": \"Prize certificates\", \"count\": 8}, {\"year\": 1948, \"additionalType\": \"Books\", \"count\": 6}, {\"year\": 1948, \"additionalType\": \"Photographic postcards\", \"count\": 3}, {\"year\": 1948, \"additionalType\": \"Cards\", \"count\": 1}, {\"year\": 1949, \"additionalType\": \"Posters\", \"count\": 22}, {\"year\": 1949, \"additionalType\": \"Prize certificates\", \"count\": 10}, {\"year\": 1949, \"additionalType\": \"Letters\", \"count\": 2}, {\"year\": 1949, \"additionalType\": \"Cards\", \"count\": 1}, {\"year\": 1950, \"additionalType\": \"Photographic postcards\", \"count\": 48}, {\"year\": 1950, \"additionalType\": \"Posters\", \"count\": 16}, {\"year\": 1950, \"additionalType\": \"Photographs\", \"count\": 6}, {\"year\": 1950, \"additionalType\": \"Books\", \"count\": 3}, {\"year\": 1950, \"additionalType\": \"Collecting cards\", \"count\": 3}, {\"year\": 1950, \"additionalType\": \"Postcards\", \"count\": 1}, {\"year\": 1951, \"additionalType\": \"Photographs\", \"count\": 6}, {\"year\": 1951, \"additionalType\": \"Letters\", \"count\": 2}, {\"year\": 1951, \"additionalType\": \"Paintings\", \"count\": 1}, {\"year\": 1951, \"additionalType\": \"Portrait photographs\", \"count\": 1}, {\"year\": 1951, \"additionalType\": \"Prize certificates\", \"count\": 1}, {\"year\": 1952, \"additionalType\": \"Drawings\", \"count\": 60}, {\"year\": 1952, \"additionalType\": \"Negatives\", \"count\": 6}, {\"year\": 1952, \"additionalType\": \"Photographs\", \"count\": 5}, {\"year\": 1952, \"additionalType\": \"Prints\", \"count\": 2}, {\"year\": 1952, \"additionalType\": \"Bark paintings\", \"count\": 1}, {\"year\": 1952, \"additionalType\": \"Prize certificates\", \"count\": 1}, {\"year\": 1953, \"additionalType\": \"Drawings\", \"count\": 42}, {\"year\": 1953, \"additionalType\": \"Photographs\", \"count\": 20}, {\"year\": 1953, \"additionalType\": \"Prize certificates\", \"count\": 2}, {\"year\": 1953, \"additionalType\": \"Books\", \"count\": 1}, {\"year\": 1953, \"additionalType\": \"Letters\", \"count\": 1}, {\"year\": 1953, \"additionalType\": \"Negatives\", \"count\": 1}, {\"year\": 1954, \"additionalType\": \"Acrylic paintings\", \"count\": 124}, {\"year\": 1954, \"additionalType\": \"Drawings\", \"count\": 4}, {\"year\": 1954, \"additionalType\": \"Paintings\", \"count\": 4}, {\"year\": 1954, \"additionalType\": \"Photographs\", \"count\": 4}, {\"year\": 1954, \"additionalType\": \"Letters\", \"count\": 2}, {\"year\": 1954, \"additionalType\": \"Books\", \"count\": 1}, {\"year\": 1954, \"additionalType\": \"Prize certificates\", \"count\": 1}, {\"year\": 1955, \"additionalType\": \"Bark paintings\", \"count\": 3}, {\"year\": 1955, \"additionalType\": \"Books\", \"count\": 3}, {\"year\": 1955, \"additionalType\": \"Drawings\", \"count\": 1}, {\"year\": 1955, \"additionalType\": \"Posters\", \"count\": 1}, {\"year\": 1956, \"additionalType\": \"Photographs\", \"count\": 17}, {\"year\": 1956, \"additionalType\": \"Bark paintings\", \"count\": 9}, {\"year\": 1956, \"additionalType\": \"Books\", \"count\": 8}, {\"year\": 1956, \"additionalType\": \"Photographic slides\", \"count\": 5}, {\"year\": 1956, \"additionalType\": \"Prize certificates\", \"count\": 2}, {\"year\": 1956, \"additionalType\": \"Cards\", \"count\": 1}, {\"year\": 1956, \"additionalType\": \"Postcards\", \"count\": 1}, {\"year\": 1956, \"additionalType\": \"Posters\", \"count\": 1}, {\"year\": 1956, \"additionalType\": \"Sculptures\", \"count\": 1}, {\"year\": 1957, \"additionalType\": \"Photographs\", \"count\": 3}, {\"year\": 1957, \"additionalType\": \"Bark paintings\", \"count\": 1}, {\"year\": 1957, \"additionalType\": \"Books\", \"count\": 1}, {\"year\": 1958, \"additionalType\": \"Photographs\", \"count\": 4}, {\"year\": 1958, \"additionalType\": \"Books\", \"count\": 2}, {\"year\": 1958, \"additionalType\": \"Letters\", \"count\": 2}, {\"year\": 1958, \"additionalType\": \"Cards\", \"count\": 1}, {\"year\": 1958, \"additionalType\": \"Photographic postcards\", \"count\": 1}, {\"year\": 1959, \"additionalType\": \"Prize certificates\", \"count\": 5}, {\"year\": 1959, \"additionalType\": \"Photographic postcards\", \"count\": 1}, {\"year\": 1959, \"additionalType\": \"Photographs\", \"count\": 1}, {\"year\": 1960, \"additionalType\": \"Bark paintings\", \"count\": 7}, {\"year\": 1960, \"additionalType\": \"Prize certificates\", \"count\": 7}, {\"year\": 1960, \"additionalType\": \"Photographic postcards\", \"count\": 1}, {\"year\": 1960, \"additionalType\": \"Photographs\", \"count\": 1}, {\"year\": 1961, \"additionalType\": \"Cartoons\", \"count\": 1}, {\"year\": 1961, \"additionalType\": \"Letters\", \"count\": 1}, {\"year\": 1962, \"additionalType\": \"Prize certificates\", \"count\": 4}, {\"year\": 1962, \"additionalType\": \"Cards\", \"count\": 3}, {\"year\": 1962, \"additionalType\": \"Bark paintings\", \"count\": 2}, {\"year\": 1962, \"additionalType\": \"Letters\", \"count\": 2}, {\"year\": 1962, \"additionalType\": \"Sculptures\", \"count\": 1}, {\"year\": 1963, \"additionalType\": \"Bark paintings\", \"count\": 21}, {\"year\": 1963, \"additionalType\": \"Prize certificates\", \"count\": 2}, {\"year\": 1963, \"additionalType\": \"Books\", \"count\": 1}, {\"year\": 1963, \"additionalType\": \"Letters\", \"count\": 1}, {\"year\": 1963, \"additionalType\": \"Photographs\", \"count\": 1}, {\"year\": 1964, \"additionalType\": \"Bark paintings\", \"count\": 29}, {\"year\": 1964, \"additionalType\": \"Paintings\", \"count\": 3}, {\"year\": 1964, \"additionalType\": \"Prize certificates\", \"count\": 2}, {\"year\": 1964, \"additionalType\": \"Books\", \"count\": 1}, {\"year\": 1964, \"additionalType\": \"Photographs\", \"count\": 1}, {\"year\": 1965, \"additionalType\": \"Bark paintings\", \"count\": 170}, {\"year\": 1965, \"additionalType\": \"Prints\", \"count\": 9}, {\"year\": 1965, \"additionalType\": \"Prize certificates\", \"count\": 7}, {\"year\": 1965, \"additionalType\": \"Paintings\", \"count\": 2}, {\"year\": 1965, \"additionalType\": \"Sculptures\", \"count\": 2}, {\"year\": 1965, \"additionalType\": \"Books\", \"count\": 1}, {\"year\": 1965, \"additionalType\": \"Photographs\", \"count\": 1}, {\"year\": 1965, \"additionalType\": \"Posters\", \"count\": 1}, {\"year\": 1966, \"additionalType\": \"Bark paintings\", \"count\": 122}, {\"year\": 1966, \"additionalType\": \"Photographs\", \"count\": 7}, {\"year\": 1966, \"additionalType\": \"Prize certificates\", \"count\": 4}, {\"year\": 1966, \"additionalType\": \"Books\", \"count\": 2}, {\"year\": 1966, \"additionalType\": \"Cartoons\", \"count\": 1}, {\"year\": 1966, \"additionalType\": \"Paintings\", \"count\": 1}, {\"year\": 1966, \"additionalType\": \"Posters\", \"count\": 1}, {\"year\": 1967, \"additionalType\": \"Bark paintings\", \"count\": 109}, {\"year\": 1967, \"additionalType\": \"Prize certificates\", \"count\": 5}, {\"year\": 1967, \"additionalType\": \"Photographs\", \"count\": 4}, {\"year\": 1967, \"additionalType\": \"Posters\", \"count\": 4}, {\"year\": 1967, \"additionalType\": \"Cards\", \"count\": 2}, {\"year\": 1967, \"additionalType\": \"Photographic slides\", \"count\": 2}, {\"year\": 1967, \"additionalType\": \"Prints\", \"count\": 1}, {\"year\": 1968, \"additionalType\": \"Bark paintings\", \"count\": 64}, {\"year\": 1968, \"additionalType\": \"Prize certificates\", \"count\": 6}, {\"year\": 1968, \"additionalType\": \"Photographs\", \"count\": 2}, {\"year\": 1968, \"additionalType\": \"Cards\", \"count\": 1}, {\"year\": 1968, \"additionalType\": \"Cartoons\", \"count\": 1}, {\"year\": 1968, \"additionalType\": \"Photographic slides\", \"count\": 1}, {\"year\": 1969, \"additionalType\": \"Bark paintings\", \"count\": 39}, {\"year\": 1969, \"additionalType\": \"Cards\", \"count\": 1}, {\"year\": 1969, \"additionalType\": \"Cartoons\", \"count\": 1}, {\"year\": 1969, \"additionalType\": \"Photographs\", \"count\": 1}, {\"year\": 1969, \"additionalType\": \"Prize certificates\", \"count\": 1}, {\"year\": 1970, \"additionalType\": \"Bark paintings\", \"count\": 114}, {\"year\": 1970, \"additionalType\": \"Collecting cards\", \"count\": 13}, {\"year\": 1970, \"additionalType\": \"Prize certificates\", \"count\": 4}, {\"year\": 1970, \"additionalType\": \"Cartoons\", \"count\": 2}, {\"year\": 1970, \"additionalType\": \"Drawings\", \"count\": 2}, {\"year\": 1970, \"additionalType\": \"Books\", \"count\": 1}, {\"year\": 1970, \"additionalType\": \"Letters\", \"count\": 1}, {\"year\": 1970, \"additionalType\": \"Paintings\", \"count\": 1}, {\"year\": 1970, \"additionalType\": \"Prints\", \"count\": 1}, {\"year\": 1971, \"additionalType\": \"Photographs\", \"count\": 18}, {\"year\": 1971, \"additionalType\": \"Bark paintings\", \"count\": 3}, {\"year\": 1971, \"additionalType\": \"Paintings\", \"count\": 3}, {\"year\": 1971, \"additionalType\": \"Cartoons\", \"count\": 2}, {\"year\": 1971, \"additionalType\": \"Letters\", \"count\": 2}, {\"year\": 1971, \"additionalType\": \"Prize certificates\", \"count\": 2}, {\"year\": 1971, \"additionalType\": \"Acrylic paintings\", \"count\": 1}, {\"year\": 1971, \"additionalType\": \"Sculptures\", \"count\": 1}, {\"year\": 1972, \"additionalType\": \"Letters\", \"count\": 5}, {\"year\": 1972, \"additionalType\": \"Photographs\", \"count\": 3}, {\"year\": 1972, \"additionalType\": \"Acrylic paintings\", \"count\": 2}, {\"year\": 1972, \"additionalType\": \"Books\", \"count\": 2}, {\"year\": 1972, \"additionalType\": \"Cartoons\", \"count\": 2}, {\"year\": 1972, \"additionalType\": \"Bark paintings\", \"count\": 1}, {\"year\": 1972, \"additionalType\": \"Cards\", \"count\": 1}, {\"year\": 1972, \"additionalType\": \"Paintings\", \"count\": 1}, {\"year\": 1972, \"additionalType\": \"Sculptures\", \"count\": 1}, {\"year\": 1973, \"additionalType\": \"Bark paintings\", \"count\": 19}, {\"year\": 1973, \"additionalType\": \"Acrylic paintings\", \"count\": 7}, {\"year\": 1973, \"additionalType\": \"Paintings\", \"count\": 4}, {\"year\": 1973, \"additionalType\": \"Prize certificates\", \"count\": 3}, {\"year\": 1973, \"additionalType\": \"Letters\", \"count\": 2}, {\"year\": 1973, \"additionalType\": \"Photographs\", \"count\": 2}, {\"year\": 1973, \"additionalType\": \"Cartoons\", \"count\": 1}, {\"year\": 1973, \"additionalType\": \"Drawings\", \"count\": 1}, {\"year\": 1973, \"additionalType\": \"Prints\", \"count\": 1}, {\"year\": 1973, \"additionalType\": \"Sculptures\", \"count\": 1}, {\"year\": 1974, \"additionalType\": \"Bark paintings\", \"count\": 237}, {\"year\": 1974, \"additionalType\": \"Paintings\", \"count\": 22}, {\"year\": 1974, \"additionalType\": \"Acrylic paintings\", \"count\": 17}, {\"year\": 1974, \"additionalType\": \"Books\", \"count\": 4}, {\"year\": 1974, \"additionalType\": \"Photographs\", \"count\": 3}, {\"year\": 1974, \"additionalType\": \"Cartoons\", \"count\": 2}, {\"year\": 1974, \"additionalType\": \"Drawings\", \"count\": 2}, {\"year\": 1975, \"additionalType\": \"Telegrams\", \"count\": 113}, {\"year\": 1975, \"additionalType\": \"Drawings\", \"count\": 37}, {\"year\": 1975, \"additionalType\": \"Paintings\", \"count\": 34}, {\"year\": 1975, \"additionalType\": \"Bark paintings\", \"count\": 26}, {\"year\": 1975, \"additionalType\": \"Cartoons\", \"count\": 4}, {\"year\": 1975, \"additionalType\": \"Photographs\", \"count\": 4}, {\"year\": 1975, \"additionalType\": \"Prize certificates\", \"count\": 2}, {\"year\": 1975, \"additionalType\": \"Acrylic paintings\", \"count\": 1}, {\"year\": 1975, \"additionalType\": \"Letters\", \"count\": 1}, {\"year\": 1975, \"additionalType\": \"Posters\", \"count\": 1}, {\"year\": 1976, \"additionalType\": \"Paintings\", \"count\": 47}, {\"year\": 1976, \"additionalType\": \"Drawings\", \"count\": 11}, {\"year\": 1976, \"additionalType\": \"Cartoons\", \"count\": 8}, {\"year\": 1976, \"additionalType\": \"Letters\", \"count\": 7}, {\"year\": 1976, \"additionalType\": \"Bark paintings\", \"count\": 6}, {\"year\": 1976, \"additionalType\": \"Acrylic paintings\", \"count\": 1}, {\"year\": 1977, \"additionalType\": \"Letters\", \"count\": 32}, {\"year\": 1977, \"additionalType\": \"Bark paintings\", \"count\": 15}, {\"year\": 1977, \"additionalType\": \"Acrylic paintings\", \"count\": 9}, {\"year\": 1977, \"additionalType\": \"Paintings\", \"count\": 6}, {\"year\": 1977, \"additionalType\": \"Cartoons\", \"count\": 5}, {\"year\": 1977, \"additionalType\": \"Cards\", \"count\": 3}, {\"year\": 1977, \"additionalType\": \"Photographs\", \"count\": 3}, {\"year\": 1977, \"additionalType\": \"Books\", \"count\": 1}, {\"year\": 1977, \"additionalType\": \"Drawings\", \"count\": 1}, {\"year\": 1977, \"additionalType\": \"Sculptures\", \"count\": 1}, {\"year\": 1978, \"additionalType\": \"Bark paintings\", \"count\": 16}, {\"year\": 1978, \"additionalType\": \"Paintings\", \"count\": 6}, {\"year\": 1978, \"additionalType\": \"Books\", \"count\": 5}, {\"year\": 1978, \"additionalType\": \"Cartoons\", \"count\": 1}, {\"year\": 1978, \"additionalType\": \"Photographs\", \"count\": 1}, {\"year\": 1978, \"additionalType\": \"Sculptures\", \"count\": 1}, {\"year\": 1979, \"additionalType\": \"Bark paintings\", \"count\": 9}, {\"year\": 1979, \"additionalType\": \"Cartoons\", \"count\": 2}, {\"year\": 1979, \"additionalType\": \"Acrylic paintings\", \"count\": 1}, {\"year\": 1979, \"additionalType\": \"Books\", \"count\": 1}, {\"year\": 1979, \"additionalType\": \"Cards\", \"count\": 1}, {\"year\": 1979, \"additionalType\": \"Drawings\", \"count\": 1}, {\"year\": 1979, \"additionalType\": \"Paintings\", \"count\": 1}, {\"year\": 1979, \"additionalType\": \"Prints\", \"count\": 1}, {\"year\": 1980, \"additionalType\": \"Engravings\", \"count\": 1486}, {\"year\": 1980, \"additionalType\": \"Mounts\", \"count\": 743}, {\"year\": 1980, \"additionalType\": \"Cartoons\", \"count\": 5}, {\"year\": 1980, \"additionalType\": \"Paintings\", \"count\": 4}, {\"year\": 1980, \"additionalType\": \"Books\", \"count\": 2}, {\"year\": 1980, \"additionalType\": \"Bark paintings\", \"count\": 1}, {\"year\": 1980, \"additionalType\": \"Photographs\", \"count\": 1}, {\"year\": 1981, \"additionalType\": \"Paintings\", \"count\": 9}, {\"year\": 1981, \"additionalType\": \"Books\", \"count\": 4}, {\"year\": 1981, \"additionalType\": \"Cartoons\", \"count\": 3}, {\"year\": 1981, \"additionalType\": \"Photographs\", \"count\": 3}, {\"year\": 1981, \"additionalType\": \"Acrylic paintings\", \"count\": 2}, {\"year\": 1981, \"additionalType\": \"Bark paintings\", \"count\": 1}, {\"year\": 1982, \"additionalType\": \"Courtroom drawings\", \"count\": 181}, {\"year\": 1982, \"additionalType\": \"Drawings\", \"count\": 5}, {\"year\": 1982, \"additionalType\": \"Paintings\", \"count\": 4}, {\"year\": 1982, \"additionalType\": \"Cartoons\", \"count\": 3}, {\"year\": 1982, \"additionalType\": \"Prints\", \"count\": 3}, {\"year\": 1982, \"additionalType\": \"Letters\", \"count\": 1}, {\"year\": 1982, \"additionalType\": \"Photographs\", \"count\": 1}, {\"year\": 1982, \"additionalType\": \"Postcards\", \"count\": 1}, {\"year\": 1982, \"additionalType\": \"Posters\", \"count\": 1}, {\"year\": 1983, \"additionalType\": \"Sculptures\", \"count\": 5}, {\"year\": 1983, \"additionalType\": \"Cartoons\", \"count\": 4}, {\"year\": 1983, \"additionalType\": \"Books\", \"count\": 3}, {\"year\": 1983, \"additionalType\": \"Paintings\", \"count\": 2}, {\"year\": 1983, \"additionalType\": \"Photographs\", \"count\": 2}, {\"year\": 1983, \"additionalType\": \"Bark paintings\", \"count\": 1}, {\"year\": 1983, \"additionalType\": \"Prints\", \"count\": 1}, {\"year\": 1984, \"additionalType\": \"Bark paintings\", \"count\": 11}, {\"year\": 1984, \"additionalType\": \"Cartoons\", \"count\": 9}, {\"year\": 1984, \"additionalType\": \"Photographs\", \"count\": 6}, {\"year\": 1984, \"additionalType\": \"Posters\", \"count\": 5}, {\"year\": 1984, \"additionalType\": \"Drawings\", \"count\": 2}, {\"year\": 1984, \"additionalType\": \"Prints\", \"count\": 2}, {\"year\": 1984, \"additionalType\": \"Books\", \"count\": 1}, {\"year\": 1984, \"additionalType\": \"Letters\", \"count\": 1}, {\"year\": 1984, \"additionalType\": \"Photographic postcards\", \"count\": 1}, {\"year\": 1984, \"additionalType\": \"Sculptures\", \"count\": 1}, {\"year\": 1985, \"additionalType\": \"Bark paintings\", \"count\": 40}, {\"year\": 1985, \"additionalType\": \"Cartoons\", \"count\": 34}, {\"year\": 1985, \"additionalType\": \"Photographic slides\", \"count\": 18}, {\"year\": 1985, \"additionalType\": \"Posters\", \"count\": 14}, {\"year\": 1985, \"additionalType\": \"Photographs\", \"count\": 5}, {\"year\": 1985, \"additionalType\": \"Letters\", \"count\": 3}, {\"year\": 1985, \"additionalType\": \"Acrylic paintings\", \"count\": 2}, {\"year\": 1985, \"additionalType\": \"Paintings\", \"count\": 1}, {\"year\": 1986, \"additionalType\": \"Photographic slides\", \"count\": 164}, {\"year\": 1986, \"additionalType\": \"Portrait photographs\", \"count\": 109}, {\"year\": 1986, \"additionalType\": \"Cartoons\", \"count\": 15}, {\"year\": 1986, \"additionalType\": \"Prints\", \"count\": 6}, {\"year\": 1986, \"additionalType\": \"Posters\", \"count\": 5}, {\"year\": 1986, \"additionalType\": \"Cards\", \"count\": 4}, {\"year\": 1986, \"additionalType\": \"Paintings\", \"count\": 3}, {\"year\": 1986, \"additionalType\": \"Postcards\", \"count\": 3}, {\"year\": 1986, \"additionalType\": \"Books\", \"count\": 2}, {\"year\": 1986, \"additionalType\": \"Acrylic paintings\", \"count\": 1}, {\"year\": 1986, \"additionalType\": \"Drawings\", \"count\": 1}, {\"year\": 1986, \"additionalType\": \"Letters\", \"count\": 1}, {\"year\": 1986, \"additionalType\": \"Photographs\", \"count\": 1}, {\"year\": 1987, \"additionalType\": \"Cartoons\", \"count\": 29}, {\"year\": 1987, \"additionalType\": \"Posters\", \"count\": 6}, {\"year\": 1987, \"additionalType\": \"Postcards\", \"count\": 4}, {\"year\": 1987, \"additionalType\": \"Prints\", \"count\": 4}, {\"year\": 1987, \"additionalType\": \"Paintings\", \"count\": 3}, {\"year\": 1987, \"additionalType\": \"Acrylic paintings\", \"count\": 2}, {\"year\": 1987, \"additionalType\": \"Bark paintings\", \"count\": 1}, {\"year\": 1987, \"additionalType\": \"Botanical specimens\", \"count\": 1}, {\"year\": 1987, \"additionalType\": \"Photographs\", \"count\": 1}, {\"year\": 1988, \"additionalType\": \"Prints\", \"count\": 18}, {\"year\": 1988, \"additionalType\": \"Sculptures\", \"count\": 18}, {\"year\": 1988, \"additionalType\": \"Posters\", \"count\": 17}, {\"year\": 1988, \"additionalType\": \"Cards\", \"count\": 8}, {\"year\": 1988, \"additionalType\": \"Cartoons\", \"count\": 7}, {\"year\": 1988, \"additionalType\": \"Paintings\", \"count\": 5}, {\"year\": 1988, \"additionalType\": \"Telegrams\", \"count\": 5}, {\"year\": 1988, \"additionalType\": \"Acrylic paintings\", \"count\": 3}, {\"year\": 1988, \"additionalType\": \"Bark paintings\", \"count\": 3}, {\"year\": 1988, \"additionalType\": \"Photographic postcards\", \"count\": 2}, {\"year\": 1988, \"additionalType\": \"Negatives\", \"count\": 1}, {\"year\": 1989, \"additionalType\": \"Paintings\", \"count\": 12}, {\"year\": 1989, \"additionalType\": \"Cartoons\", \"count\": 10}, {\"year\": 1989, \"additionalType\": \"Prints\", \"count\": 10}, {\"year\": 1989, \"additionalType\": \"Acrylic paintings\", \"count\": 5}, {\"year\": 1989, \"additionalType\": \"Cards\", \"count\": 1}, {\"year\": 1989, \"additionalType\": \"Posters\", \"count\": 1}, {\"year\": 1990, \"additionalType\": \"Drawings\", \"count\": 53}, {\"year\": 1990, \"additionalType\": \"Prints\", \"count\": 27}, {\"year\": 1990, \"additionalType\": \"Acrylic paintings\", \"count\": 14}, {\"year\": 1990, \"additionalType\": \"Paintings\", \"count\": 9}, {\"year\": 1990, \"additionalType\": \"Cartoons\", \"count\": 5}, {\"year\": 1990, \"additionalType\": \"Books\", \"count\": 1}, {\"year\": 1990, \"additionalType\": \"Letters\", \"count\": 1}, {\"year\": 1991, \"additionalType\": \"Prints\", \"count\": 11}, {\"year\": 1991, \"additionalType\": \"Paintings\", \"count\": 8}, {\"year\": 1991, \"additionalType\": \"Acrylic paintings\", \"count\": 6}, {\"year\": 1991, \"additionalType\": \"Cartoons\", \"count\": 5}, {\"year\": 1991, \"additionalType\": \"Bark paintings\", \"count\": 1}, {\"year\": 1991, \"additionalType\": \"Posters\", \"count\": 1}, {\"year\": 1991, \"additionalType\": \"Sculptures\", \"count\": 1}, {\"year\": 1992, \"additionalType\": \"Cards\", \"count\": 17}, {\"year\": 1992, \"additionalType\": \"Drawings\", \"count\": 11}, {\"year\": 1992, \"additionalType\": \"Cartoons\", \"count\": 10}, {\"year\": 1992, \"additionalType\": \"Paintings\", \"count\": 7}, {\"year\": 1992, \"additionalType\": \"Photographic postcards\", \"count\": 7}, {\"year\": 1992, \"additionalType\": \"Prints\", \"count\": 6}, {\"year\": 1992, \"additionalType\": \"Acrylic paintings\", \"count\": 5}, {\"year\": 1992, \"additionalType\": \"Sculptures\", \"count\": 5}, {\"year\": 1992, \"additionalType\": \"Posters\", \"count\": 4}, {\"year\": 1992, \"additionalType\": \"Bark paintings\", \"count\": 2}, {\"year\": 1992, \"additionalType\": \"Photographs\", \"count\": 1}, {\"year\": 1993, \"additionalType\": \"Acrylic paintings\", \"count\": 7}, {\"year\": 1993, \"additionalType\": \"Cartoons\", \"count\": 3}, {\"year\": 1993, \"additionalType\": \"Paintings\", \"count\": 3}, {\"year\": 1993, \"additionalType\": \"Sculptures\", \"count\": 2}, {\"year\": 1993, \"additionalType\": \"Cards\", \"count\": 1}, {\"year\": 1993, \"additionalType\": \"Posters\", \"count\": 1}, {\"year\": 1993, \"additionalType\": \"Prints\", \"count\": 1}, {\"year\": 1994, \"additionalType\": \"Paintings\", \"count\": 9}, {\"year\": 1994, \"additionalType\": \"Collecting cards\", \"count\": 8}, {\"year\": 1994, \"additionalType\": \"Drawings\", \"count\": 6}, {\"year\": 1994, \"additionalType\": \"Cartoons\", \"count\": 5}, {\"year\": 1994, \"additionalType\": \"Prints\", \"count\": 4}, {\"year\": 1994, \"additionalType\": \"Acrylic paintings\", \"count\": 3}, {\"year\": 1994, \"additionalType\": \"Bark paintings\", \"count\": 3}, {\"year\": 1994, \"additionalType\": \"Photographs\", \"count\": 1}, {\"year\": 1994, \"additionalType\": \"Posters\", \"count\": 1}, {\"year\": 1995, \"additionalType\": \"Drawings\", \"count\": 12}, {\"year\": 1995, \"additionalType\": \"Cartoons\", \"count\": 11}, {\"year\": 1995, \"additionalType\": \"Paintings\", \"count\": 6}, {\"year\": 1995, \"additionalType\": \"Acrylic paintings\", \"count\": 5}, {\"year\": 1995, \"additionalType\": \"Prints\", \"count\": 4}, {\"year\": 1995, \"additionalType\": \"Letters\", \"count\": 2}, {\"year\": 1995, \"additionalType\": \"Photographs\", \"count\": 1}, {\"year\": 1995, \"additionalType\": \"Sculptures\", \"count\": 1}, {\"year\": 1996, \"additionalType\": \"Collecting cards\", \"count\": 125}, {\"year\": 1996, \"additionalType\": \"Cartoons\", \"count\": 48}, {\"year\": 1996, \"additionalType\": \"Prints\", \"count\": 14}, {\"year\": 1996, \"additionalType\": \"Paintings\", \"count\": 7}, {\"year\": 1996, \"additionalType\": \"Acrylic paintings\", \"count\": 4}, {\"year\": 1996, \"additionalType\": \"Photographs\", \"count\": 1}, {\"year\": 1997, \"additionalType\": \"Cartoons\", \"count\": 138}, {\"year\": 1997, \"additionalType\": \"Prints\", \"count\": 28}, {\"year\": 1997, \"additionalType\": \"Paintings\", \"count\": 13}, {\"year\": 1997, \"additionalType\": \"Acrylic paintings\", \"count\": 4}, {\"year\": 1997, \"additionalType\": \"Sculptures\", \"count\": 2}, {\"year\": 1997, \"additionalType\": \"Books\", \"count\": 1}, {\"year\": 1997, \"additionalType\": \"Drawings\", \"count\": 1}, {\"year\": 1998, \"additionalType\": \"Cartoons\", \"count\": 137}, {\"year\": 1998, \"additionalType\": \"Drawings\", \"count\": 30}, {\"year\": 1998, \"additionalType\": \"Prints\", \"count\": 3}, {\"year\": 1998, \"additionalType\": \"Acrylic paintings\", \"count\": 2}, {\"year\": 1998, \"additionalType\": \"Posters\", \"count\": 2}, {\"year\": 1998, \"additionalType\": \"Sculptures\", \"count\": 2}, {\"year\": 1998, \"additionalType\": \"Paintings\", \"count\": 1}, {\"year\": 1999, \"additionalType\": \"Cartoons\", \"count\": 119}, {\"year\": 1999, \"additionalType\": \"Acrylic paintings\", \"count\": 5}, {\"year\": 1999, \"additionalType\": \"Paintings\", \"count\": 5}, {\"year\": 1999, \"additionalType\": \"Bark paintings\", \"count\": 2}, {\"year\": 1999, \"additionalType\": \"Drawings\", \"count\": 2}, {\"year\": 1999, \"additionalType\": \"Prints\", \"count\": 2}, {\"year\": 1999, \"additionalType\": \"Photographic postcards\", \"count\": 1}, {\"year\": 1999, \"additionalType\": \"Sculptures\", \"count\": 1}, {\"year\": 2000, \"additionalType\": \"Cartoons\", \"count\": 17}, {\"year\": 2000, \"additionalType\": \"Paintings\", \"count\": 6}, {\"year\": 2000, \"additionalType\": \"Acrylic paintings\", \"count\": 3}, {\"year\": 2000, \"additionalType\": \"Prints\", \"count\": 3}, {\"year\": 2000, \"additionalType\": \"Drawings\", \"count\": 2}, {\"year\": 2000, \"additionalType\": \"Bark paintings\", \"count\": 1}, {\"year\": 2000, \"additionalType\": \"Sculptures\", \"count\": 1}, {\"year\": 2001, \"additionalType\": \"Cartoons\", \"count\": 143}, {\"year\": 2001, \"additionalType\": \"Drawings\", \"count\": 17}, {\"year\": 2001, \"additionalType\": \"Paintings\", \"count\": 4}, {\"year\": 2001, \"additionalType\": \"Sculptures\", \"count\": 2}, {\"year\": 2001, \"additionalType\": \"Posters\", \"count\": 1}, {\"year\": 2002, \"additionalType\": \"Cartoons\", \"count\": 25}, {\"year\": 2002, \"additionalType\": \"Prints\", \"count\": 17}, {\"year\": 2002, \"additionalType\": \"Acrylic paintings\", \"count\": 9}, {\"year\": 2002, \"additionalType\": \"Drawings\", \"count\": 7}, {\"year\": 2002, \"additionalType\": \"Books\", \"count\": 3}, {\"year\": 2002, \"additionalType\": \"Posters\", \"count\": 3}, {\"year\": 2002, \"additionalType\": \"Letters\", \"count\": 2}, {\"year\": 2002, \"additionalType\": \"Sculptures\", \"count\": 2}, {\"year\": 2002, \"additionalType\": \"Cards\", \"count\": 1}, {\"year\": 2002, \"additionalType\": \"Paintings\", \"count\": 1}, {\"year\": 2002, \"additionalType\": \"Portrait photographs\", \"count\": 1}, {\"year\": 2003, \"additionalType\": \"Cartoons\", \"count\": 22}, {\"year\": 2003, \"additionalType\": \"Acrylic paintings\", \"count\": 2}, {\"year\": 2003, \"additionalType\": \"Paintings\", \"count\": 2}, {\"year\": 2003, \"additionalType\": \"Photographs\", \"count\": 2}, {\"year\": 2004, \"additionalType\": \"Cartoons\", \"count\": 94}, {\"year\": 2004, \"additionalType\": \"Paintings\", \"count\": 3}, {\"year\": 2004, \"additionalType\": \"Posters\", \"count\": 2}, {\"year\": 2004, \"additionalType\": \"Acrylic paintings\", \"count\": 1}, {\"year\": 2005, \"additionalType\": \"Cartoons\", \"count\": 57}, {\"year\": 2005, \"additionalType\": \"Acrylic paintings\", \"count\": 4}, {\"year\": 2005, \"additionalType\": \"Sculptures\", \"count\": 3}, {\"year\": 2006, \"additionalType\": \"Sculptures\", \"count\": 4}, {\"year\": 2006, \"additionalType\": \"Paintings\", \"count\": 2}, {\"year\": 2007, \"additionalType\": \"Paintings\", \"count\": 58}, {\"year\": 2007, \"additionalType\": \"Drawings\", \"count\": 1}, {\"year\": 2007, \"additionalType\": \"Letters\", \"count\": 1}, {\"year\": 2008, \"additionalType\": \"Paintings\", \"count\": 31}, {\"year\": 2008, \"additionalType\": \"Sculptures\", \"count\": 1}, {\"year\": 2009, \"additionalType\": \"Acrylic paintings\", \"count\": 3}, {\"year\": 2009, \"additionalType\": \"Letters\", \"count\": 1}, {\"year\": 2010, \"additionalType\": \"Prints\", \"count\": 10}, {\"year\": 2010, \"additionalType\": \"Sculptures\", \"count\": 3}, {\"year\": 2010, \"additionalType\": \"Acrylic paintings\", \"count\": 1}, {\"year\": 2010, \"additionalType\": \"Bark paintings\", \"count\": 1}, {\"year\": 2011, \"additionalType\": \"Paintings\", \"count\": 39}, {\"year\": 2011, \"additionalType\": \"Sculptures\", \"count\": 12}, {\"year\": 2011, \"additionalType\": \"Acrylic paintings\", \"count\": 2}, {\"year\": 2011, \"additionalType\": \"Bark paintings\", \"count\": 1}, {\"year\": 2012, \"additionalType\": \"Bark paintings\", \"count\": 20}, {\"year\": 2012, \"additionalType\": \"Sculptures\", \"count\": 10}, {\"year\": 2012, \"additionalType\": \"Paintings\", \"count\": 8}, {\"year\": 2012, \"additionalType\": \"Acrylic paintings\", \"count\": 2}, {\"year\": 2012, \"additionalType\": \"Botanical specimens\", \"count\": 2}, {\"year\": 2013, \"additionalType\": \"Bark paintings\", \"count\": 37}, {\"year\": 2013, \"additionalType\": \"Acrylic paintings\", \"count\": 4}, {\"year\": 2013, \"additionalType\": \"Drawings\", \"count\": 3}, {\"year\": 2013, \"additionalType\": \"Sculptures\", \"count\": 3}, {\"year\": 2014, \"additionalType\": \"Bark paintings\", \"count\": 39}, {\"year\": 2014, \"additionalType\": \"Sculptures\", \"count\": 8}, {\"year\": 2014, \"additionalType\": \"Paintings\", \"count\": 1}, {\"year\": 2014, \"additionalType\": \"Photographs\", \"count\": 1}, {\"year\": 2015, \"additionalType\": \"Sculptures\", \"count\": 22}, {\"year\": 2015, \"additionalType\": \"Acrylic paintings\", \"count\": 8}, {\"year\": 2015, \"additionalType\": \"Prints\", \"count\": 6}, {\"year\": 2015, \"additionalType\": \"Bark paintings\", \"count\": 1}, {\"year\": 2015, \"additionalType\": \"Paintings\", \"count\": 1}, {\"year\": 2016, \"additionalType\": \"Paintings\", \"count\": 7}, {\"year\": 2016, \"additionalType\": \"Acrylic paintings\", \"count\": 5}, {\"year\": 2016, \"additionalType\": \"Drawings\", \"count\": 1}, {\"year\": 2016, \"additionalType\": \"Portrait photographs\", \"count\": 1}, {\"year\": 2017, \"additionalType\": \"Portrait photographs\", \"count\": 2}, {\"year\": 2082, \"additionalType\": \"Courtroom drawings\", \"count\": 1}]}}, {\"mode\": \"vega-lite\"});\n",
       "</script>"
      ],
      "text/plain": [
       "alt.Chart(...)"
      ]
     },
     "execution_count": 52,
     "metadata": {},
     "output_type": "execute_result"
    }
   ],
   "source": [
    "# Create a chart\n",
    "alt.Chart(top_type_counts).mark_circle(\n",
    "    \n",
    "    # Style the circles\n",
    "    opacity=0.8,\n",
    "    stroke='black',\n",
    "    strokeWidth=1\n",
    ").encode(\n",
    "    \n",
    "    # Year on the X axis\n",
    "    x=alt.X('year:O', axis=alt.Axis(format='c', title='Year of production', labelAngle=0)),\n",
    "    \n",
    "    # Object type on the Y axis\n",
    "    y=alt.Y('additionalType:N', title='Object type'),\n",
    "    \n",
    "    # Size of the circles represents the number of objects\n",
    "    size=alt.Size('count:Q',\n",
    "        scale=alt.Scale(range=[0, 2000]),\n",
    "        legend=alt.Legend(title='Number of objects')\n",
    "    ),\n",
    "    \n",
    "    # Color the circles by object type\n",
    "    color=alt.Color('additionalType:N', legend=None),\n",
    "    \n",
    "    # More details on hover\n",
    "    tooltip=[alt.Tooltip('additionalType:N', title='Type'), alt.Tooltip('year:O', title='Year'), alt.Tooltip('count:Q', title='Objects', format=',')]\n",
    ").properties(\n",
    "    width=700\n",
    ")"
   ]
  },
  {
   "cell_type": "markdown",
   "metadata": {},
   "source": [
    "What patterns can you see? Hover over the cricles for more information. Once again the engravings dominate, but also look at the bark paintings and cartoons, what might be happening there?"
   ]
  },
  {
   "cell_type": "markdown",
   "metadata": {},
   "source": [
    "----\n",
    "\n",
    "Created by [Tim Sherratt](https://timsherratt.org/) for the [GLAM Workbench](https://glam-workbench.github.io/).\n",
    "\n",
    "Work on this notebook was supported by the [Humanities, Arts and Social Sciences (HASS) Data Enhanced Virtual Lab](https://tinker.edu.au/)."
   ]
  }
 ],
 "metadata": {
  "kernelspec": {
   "display_name": "Python 3",
   "language": "python",
   "name": "python3"
  },
  "language_info": {
   "codemirror_mode": {
    "name": "ipython",
    "version": 3
   },
   "file_extension": ".py",
   "mimetype": "text/x-python",
   "name": "python",
   "nbconvert_exporter": "python",
   "pygments_lexer": "ipython3",
   "version": "3.7.7"
  }
 },
 "nbformat": 4,
 "nbformat_minor": 4
}
