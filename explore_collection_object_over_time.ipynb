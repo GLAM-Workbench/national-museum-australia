{
 "cells": [
  {
   "cell_type": "markdown",
   "metadata": {},
   "source": [
    "# Explore collection objects over time\n",
    "\n",
    "In this notebook we'll explore the temporal dimensions of the `object` data. When were objects created, collected, or used? To do that we'll extract the nested temporal data, see what's there, and create a few charts.\n",
    "\n",
    "[See here](exploring_object_records.ipynb) for an introduction to the `object` data, and [here to explore places](explore_objects_and_places.ipynb) associated with objects.\n",
    "\n",
    "If you haven't already, you'll either need to [harvest the `object` data](harvest_records.ipynb), or [unzip a pre-harvested dataset](unzip_preharvested_data.ipynb)."
   ]
  },
  {
   "cell_type": "markdown",
   "metadata": {},
   "source": [
    "<div class=\"alert alert-block alert-warning\">\n",
    "<p>If you haven't used one of these notebooks before, they're basically web pages in which you can write, edit, and run live code. They're meant to encourage experimentation, so don't feel nervous. Just try running a few cells and see what happens!</p>\n",
    "\n",
    "<p>\n",
    "    Some tips:\n",
    "    <ul>\n",
    "        <li>Code cells have boxes around them.</li>\n",
    "        <li>To run a code cell click on the cell and then hit <b>Shift+Enter</b>. The <b>Shift+Enter</b> combo will also move you to the next cell, so it's a quick way to work through the notebook.</li>\n",
    "        <li>While a cell is running a <b>*</b> appears in the square brackets next to the cell. Once the cell has finished running the asterix will be replaced with a number.</li>\n",
    "        <li>In most cases you'll want to start from the top of notebook and work your way down running each cell in turn. Later cells might depend on the results of earlier ones.</li>\n",
    "        <li>To edit a code cell, just click on it and type stuff. Remember to run the cell once you've finished editing.</li>\n",
    "    </ul>\n",
    "</p>\n",
    "\n",
    "<p><b>Is this thing on?</b> If you can't edit or run any of the code cells, you might be viewing a static (read only) version of this notebook. Click here to <a href=\"https://mybinder.org/v2/gh/GLAM-Workbench/national-museum-australia/master?urlpath=lab%2Ftree%2Fexplore_collection_object_over_time.ipynb\">load a <b>live</b> version</a> running on Binder.</p>\n",
    "\n",
    "</div>"
   ]
  },
  {
   "cell_type": "markdown",
   "metadata": {},
   "source": [
    "## Import what we need"
   ]
  },
  {
   "cell_type": "code",
   "execution_count": 1,
   "metadata": {},
   "outputs": [
    {
     "data": {
      "text/plain": [
       "DataTransformerRegistry.enable('json')"
      ]
     },
     "execution_count": 1,
     "metadata": {},
     "output_type": "execute_result"
    }
   ],
   "source": [
    "import pandas as pd\n",
    "from ipyleaflet import Map, Marker, Popup, MarkerCluster\n",
    "import ipywidgets as widgets\n",
    "from tinydb import TinyDB, Query\n",
    "from pandas.io.json import json_normalize\n",
    "import altair as alt\n",
    "from IPython.display import display, HTML, FileLink\n",
    "alt.data_transformers.enable('json')"
   ]
  },
  {
   "cell_type": "code",
   "execution_count": 2,
   "metadata": {},
   "outputs": [],
   "source": [
    "# Are you using JupyterLab or the classic Jupyter notebook?\n",
    "# If you're using the classic notebook, uncomment the following line to make sure Altair charts appear as expected!\n",
    "\n",
    "# alt.renderers.enable('notebook')"
   ]
  },
  {
   "cell_type": "markdown",
   "metadata": {},
   "source": [
    "## Load the harvested data"
   ]
  },
  {
   "cell_type": "code",
   "execution_count": 28,
   "metadata": {},
   "outputs": [],
   "source": [
    "# Load JSON data from file\n",
    "db = TinyDB('nma_object_db.json')\n",
    "records = db.all()\n",
    "Object = Query()"
   ]
  },
  {
   "cell_type": "code",
   "execution_count": 29,
   "metadata": {},
   "outputs": [],
   "source": [
    "# Convert to a dataframe\n",
    "df = pd.DataFrame(records)"
   ]
  },
  {
   "cell_type": "markdown",
   "metadata": {},
   "source": [
    "## Extract the nested events data\n",
    "\n",
    "Events are linked to objects through the `temporal` field. This field contains nested data that we need to extract and flatten so we can work with it easily. We'll use `json_normalize` to extract the nested data and save each event to a new row."
   ]
  },
  {
   "cell_type": "code",
   "execution_count": 30,
   "metadata": {},
   "outputs": [
    {
     "data": {
      "text/html": [
       "<div>\n",
       "<style scoped>\n",
       "    .dataframe tbody tr th:only-of-type {\n",
       "        vertical-align: middle;\n",
       "    }\n",
       "\n",
       "    .dataframe tbody tr th {\n",
       "        vertical-align: top;\n",
       "    }\n",
       "\n",
       "    .dataframe thead th {\n",
       "        text-align: right;\n",
       "    }\n",
       "</style>\n",
       "<table border=\"1\" class=\"dataframe\">\n",
       "  <thead>\n",
       "    <tr style=\"text-align: right;\">\n",
       "      <th></th>\n",
       "      <th>temporal_type</th>\n",
       "      <th>temporal_title</th>\n",
       "      <th>temporal_startDate</th>\n",
       "      <th>temporal_endDate</th>\n",
       "      <th>temporal_interactionType</th>\n",
       "      <th>temporal_roleName</th>\n",
       "      <th>temporal_description</th>\n",
       "      <th>id</th>\n",
       "      <th>title</th>\n",
       "      <th>additionalType</th>\n",
       "    </tr>\n",
       "  </thead>\n",
       "  <tbody>\n",
       "    <tr>\n",
       "      <th>0</th>\n",
       "      <td>Event</td>\n",
       "      <td>21 February 2009</td>\n",
       "      <td>2009-02-21</td>\n",
       "      <td>2009-02-21</td>\n",
       "      <td>Production</td>\n",
       "      <td>NaN</td>\n",
       "      <td>NaN</td>\n",
       "      <td>195843</td>\n",
       "      <td>Reproduction cartoon titled 'Better than the b...</td>\n",
       "      <td>[Cartoons]</td>\n",
       "    </tr>\n",
       "    <tr>\n",
       "      <th>1</th>\n",
       "      <td>Event</td>\n",
       "      <td>June 1908</td>\n",
       "      <td>1908-06</td>\n",
       "      <td>1908-06</td>\n",
       "      <td>NaN</td>\n",
       "      <td>Date of use</td>\n",
       "      <td>NaN</td>\n",
       "      <td>31257</td>\n",
       "      <td>Kind Regards From Newtown</td>\n",
       "      <td>[Postcards]</td>\n",
       "    </tr>\n",
       "    <tr>\n",
       "      <th>2</th>\n",
       "      <td>Event</td>\n",
       "      <td>26 January 1982</td>\n",
       "      <td>1982-01-26</td>\n",
       "      <td>1982-01-26</td>\n",
       "      <td>NaN</td>\n",
       "      <td>Associated date</td>\n",
       "      <td>NaN</td>\n",
       "      <td>135579</td>\n",
       "      <td>Protests during the campaign to save the Frank...</td>\n",
       "      <td>[Photographs]</td>\n",
       "    </tr>\n",
       "    <tr>\n",
       "      <th>3</th>\n",
       "      <td>Event</td>\n",
       "      <td>1926</td>\n",
       "      <td>1926</td>\n",
       "      <td>1926</td>\n",
       "      <td>NaN</td>\n",
       "      <td>Date acquired by donor</td>\n",
       "      <td>by Australian Institute of Anatomy</td>\n",
       "      <td>6840</td>\n",
       "      <td>Spinning top</td>\n",
       "      <td>[Centre of gravity toys]</td>\n",
       "    </tr>\n",
       "    <tr>\n",
       "      <th>4</th>\n",
       "      <td>Event</td>\n",
       "      <td>1872</td>\n",
       "      <td>1872</td>\n",
       "      <td>1872</td>\n",
       "      <td>NaN</td>\n",
       "      <td>Associated date</td>\n",
       "      <td>NaN</td>\n",
       "      <td>251967</td>\n",
       "      <td>Financial document from Tirranna Picnic Race C...</td>\n",
       "      <td>[Financial records]</td>\n",
       "    </tr>\n",
       "  </tbody>\n",
       "</table>\n",
       "</div>"
      ],
      "text/plain": [
       "  temporal_type    temporal_title temporal_startDate temporal_endDate  \\\n",
       "0         Event  21 February 2009         2009-02-21       2009-02-21   \n",
       "1         Event         June 1908            1908-06          1908-06   \n",
       "2         Event   26 January 1982         1982-01-26       1982-01-26   \n",
       "3         Event              1926               1926             1926   \n",
       "4         Event              1872               1872             1872   \n",
       "\n",
       "  temporal_interactionType       temporal_roleName  \\\n",
       "0               Production                     NaN   \n",
       "1                      NaN             Date of use   \n",
       "2                      NaN         Associated date   \n",
       "3                      NaN  Date acquired by donor   \n",
       "4                      NaN         Associated date   \n",
       "\n",
       "                 temporal_description      id  \\\n",
       "0                                 NaN  195843   \n",
       "1                                 NaN   31257   \n",
       "2                                 NaN  135579   \n",
       "3  by Australian Institute of Anatomy    6840   \n",
       "4                                 NaN  251967   \n",
       "\n",
       "                                               title            additionalType  \n",
       "0  Reproduction cartoon titled 'Better than the b...                [Cartoons]  \n",
       "1                          Kind Regards From Newtown               [Postcards]  \n",
       "2  Protests during the campaign to save the Frank...             [Photographs]  \n",
       "3                                       Spinning top  [Centre of gravity toys]  \n",
       "4  Financial document from Tirranna Picnic Race C...       [Financial records]  "
      ]
     },
     "execution_count": 30,
     "metadata": {},
     "output_type": "execute_result"
    }
   ],
   "source": [
    "# Use json_normalise() to explode the temporal into multiple rows and columns\n",
    "# Then merge the exploded rows back with the original dataset using the id value\n",
    "# df_dates = pd.merge(df.loc[df['temporal'].notnull()], json_normalize(df.loc[df['temporal'].notnull()].to_dict('records'), record_path='temporal', meta=['id'], record_prefix='temporal_'), how='inner', on='id')\n",
    "df_dates = json_normalize(df.loc[df['temporal'].notnull()].to_dict('records'), record_path='temporal', meta=['id', 'title', 'additionalType'], record_prefix='temporal_')\n",
    "df_dates.head()"
   ]
  },
  {
   "cell_type": "markdown",
   "metadata": {},
   "source": [
    "Now instead of having one row for each object, we have one row for each object event.\n",
    "\n",
    "How many date records do we have?"
   ]
  },
  {
   "cell_type": "code",
   "execution_count": 6,
   "metadata": {},
   "outputs": [
    {
     "data": {
      "text/plain": [
       "(38966, 10)"
      ]
     },
     "execution_count": 6,
     "metadata": {},
     "output_type": "execute_result"
    }
   ],
   "source": [
    "df_dates.shape"
   ]
  },
  {
   "cell_type": "markdown",
   "metadata": {},
   "source": [
    "## Exploring events"
   ]
  },
  {
   "cell_type": "markdown",
   "metadata": {},
   "source": [
    "Let's extract years from the dates to make comparisons a bit easier."
   ]
  },
  {
   "cell_type": "code",
   "execution_count": 7,
   "metadata": {},
   "outputs": [],
   "source": [
    "# Use a regular expression to find the first four digits in the date fields\n",
    "df_dates['start_year'] = df_dates['temporal_startDate'].str.extract(r'^(\\d{4})').fillna(0).astype('int')\n",
    "df_dates['end_year'] = df_dates['temporal_endDate'].str.extract(r'^(\\d{4})').fillna(0).astype('int')"
   ]
  },
  {
   "cell_type": "markdown",
   "metadata": {},
   "source": [
    "What's the earliest `start_year` (greater than 0)?"
   ]
  },
  {
   "cell_type": "code",
   "execution_count": 8,
   "metadata": {},
   "outputs": [
    {
     "data": {
      "text/plain": [
       "1540"
      ]
     },
     "execution_count": 8,
     "metadata": {},
     "output_type": "execute_result"
    }
   ],
   "source": [
    "df_dates.loc[df_dates['start_year'] > 0]['start_year'].min()"
   ]
  },
  {
   "cell_type": "markdown",
   "metadata": {},
   "source": [
    "What is it?"
   ]
  },
  {
   "cell_type": "code",
   "execution_count": 9,
   "metadata": {},
   "outputs": [
    {
     "data": {
      "text/html": [
       "<a href=\"http://collectionsearch.nma.gov.au/?object=131795\">Typus orbis descriptione Ptolemaei</a>"
      ],
      "text/plain": [
       "<IPython.core.display.HTML object>"
      ]
     },
     "metadata": {},
     "output_type": "display_data"
    }
   ],
   "source": [
    "earliest = df_dates.loc[df_dates.loc[df_dates['start_year'] > 0]['start_year'].idxmin()]\n",
    "display(HTML('<a href=\"http://collectionsearch.nma.gov.au/?object={}\">{}</a>'.format(earliest['id'], earliest['title'])))"
   ]
  },
  {
   "cell_type": "markdown",
   "metadata": {},
   "source": [
    "What's the latest end date?"
   ]
  },
  {
   "cell_type": "code",
   "execution_count": 10,
   "metadata": {},
   "outputs": [
    {
     "data": {
      "text/plain": [
       "2992"
      ]
     },
     "execution_count": 10,
     "metadata": {},
     "output_type": "execute_result"
    }
   ],
   "source": [
    "df_dates['end_year'].max()"
   ]
  },
  {
   "cell_type": "markdown",
   "metadata": {},
   "source": [
    "Oh, that doesn't look quite right! Let's look to see how many of the dates are in the future!"
   ]
  },
  {
   "cell_type": "code",
   "execution_count": 11,
   "metadata": {},
   "outputs": [
    {
     "data": {
      "text/html": [
       "<div>\n",
       "<style scoped>\n",
       "    .dataframe tbody tr th:only-of-type {\n",
       "        vertical-align: middle;\n",
       "    }\n",
       "\n",
       "    .dataframe tbody tr th {\n",
       "        vertical-align: top;\n",
       "    }\n",
       "\n",
       "    .dataframe thead th {\n",
       "        text-align: right;\n",
       "    }\n",
       "</style>\n",
       "<table border=\"1\" class=\"dataframe\">\n",
       "  <thead>\n",
       "    <tr style=\"text-align: right;\">\n",
       "      <th></th>\n",
       "      <th>temporal_type</th>\n",
       "      <th>temporal_title</th>\n",
       "      <th>temporal_startDate</th>\n",
       "      <th>temporal_endDate</th>\n",
       "      <th>temporal_interactionType</th>\n",
       "      <th>temporal_roleName</th>\n",
       "      <th>temporal_description</th>\n",
       "      <th>id</th>\n",
       "      <th>title</th>\n",
       "      <th>additionalType</th>\n",
       "      <th>start_year</th>\n",
       "      <th>end_year</th>\n",
       "    </tr>\n",
       "  </thead>\n",
       "  <tbody>\n",
       "    <tr>\n",
       "      <th>10141</th>\n",
       "      <td>Event</td>\n",
       "      <td>17 September 2082</td>\n",
       "      <td>2082-09-17</td>\n",
       "      <td>2082-09-17</td>\n",
       "      <td>Production</td>\n",
       "      <td>NaN</td>\n",
       "      <td>NaN</td>\n",
       "      <td>213266</td>\n",
       "      <td>Courtroom sketch 'NT Ranger, Mr. Roth.' by Ver...</td>\n",
       "      <td>[Courtroom drawings]</td>\n",
       "      <td>2082</td>\n",
       "      <td>2082</td>\n",
       "    </tr>\n",
       "    <tr>\n",
       "      <th>19701</th>\n",
       "      <td>Event</td>\n",
       "      <td>7 January 2085</td>\n",
       "      <td>2085-01-07</td>\n",
       "      <td>2085-01-07</td>\n",
       "      <td>Production</td>\n",
       "      <td>NaN</td>\n",
       "      <td>NaN</td>\n",
       "      <td>195336</td>\n",
       "      <td>Woven basket with feathers and ochre</td>\n",
       "      <td>[Baskets]</td>\n",
       "      <td>2085</td>\n",
       "      <td>2085</td>\n",
       "    </tr>\n",
       "    <tr>\n",
       "      <th>23348</th>\n",
       "      <td>Event</td>\n",
       "      <td>20 March 2085</td>\n",
       "      <td>2085-03-20</td>\n",
       "      <td>2085-03-20</td>\n",
       "      <td>Production</td>\n",
       "      <td>NaN</td>\n",
       "      <td>NaN</td>\n",
       "      <td>146492</td>\n",
       "      <td>Feathered stick with handle</td>\n",
       "      <td>[Ornaments]</td>\n",
       "      <td>2085</td>\n",
       "      <td>2085</td>\n",
       "    </tr>\n",
       "    <tr>\n",
       "      <th>30479</th>\n",
       "      <td>Event</td>\n",
       "      <td>12 December 2992</td>\n",
       "      <td>2992-12-12</td>\n",
       "      <td>2992-12-12</td>\n",
       "      <td>NaN</td>\n",
       "      <td>Associated date</td>\n",
       "      <td>NaN</td>\n",
       "      <td>67099</td>\n",
       "      <td>Souvenir beaker - Princess Anne</td>\n",
       "      <td>[Commemorative mugs]</td>\n",
       "      <td>2992</td>\n",
       "      <td>2992</td>\n",
       "    </tr>\n",
       "  </tbody>\n",
       "</table>\n",
       "</div>"
      ],
      "text/plain": [
       "      temporal_type     temporal_title temporal_startDate temporal_endDate  \\\n",
       "10141         Event  17 September 2082         2082-09-17       2082-09-17   \n",
       "19701         Event     7 January 2085         2085-01-07       2085-01-07   \n",
       "23348         Event      20 March 2085         2085-03-20       2085-03-20   \n",
       "30479         Event   12 December 2992         2992-12-12       2992-12-12   \n",
       "\n",
       "      temporal_interactionType temporal_roleName temporal_description      id  \\\n",
       "10141               Production               NaN                  NaN  213266   \n",
       "19701               Production               NaN                  NaN  195336   \n",
       "23348               Production               NaN                  NaN  146492   \n",
       "30479                      NaN   Associated date                  NaN   67099   \n",
       "\n",
       "                                                   title  \\\n",
       "10141  Courtroom sketch 'NT Ranger, Mr. Roth.' by Ver...   \n",
       "19701               Woven basket with feathers and ochre   \n",
       "23348                        Feathered stick with handle   \n",
       "30479                    Souvenir beaker - Princess Anne   \n",
       "\n",
       "             additionalType  start_year  end_year  \n",
       "10141  [Courtroom drawings]        2082      2082  \n",
       "19701             [Baskets]        2085      2085  \n",
       "23348           [Ornaments]        2085      2085  \n",
       "30479  [Commemorative mugs]        2992      2992  "
      ]
     },
     "execution_count": 11,
     "metadata": {},
     "output_type": "execute_result"
    }
   ],
   "source": [
    "df_dates.loc[(df_dates['start_year'] > 2019) | (df_dates['end_year'] > 2019)]"
   ]
  },
  {
   "cell_type": "markdown",
   "metadata": {},
   "source": [
    "Looks like these records need some editing."
   ]
  },
  {
   "cell_type": "markdown",
   "metadata": {},
   "source": [
    "## Types of events"
   ]
  },
  {
   "cell_type": "markdown",
   "metadata": {},
   "source": [
    "Events are linked to objects in many different ways, they might document when the object was created, collected, or acquired by the museum. We can examine the types of relationships that have been documented between events and objects by looking in the `temporal_roleName` field."
   ]
  },
  {
   "cell_type": "code",
   "execution_count": 12,
   "metadata": {},
   "outputs": [
    {
     "data": {
      "text/plain": [
       "Date of publication       5014\n",
       "Associated date           4001\n",
       "Date made                 3908\n",
       "Date of event             2988\n",
       "Associated period         2967\n",
       "Date of voyage            2477\n",
       "Date collected            2428\n",
       "Date photographed         1976\n",
       "Period of use             1706\n",
       "Date created              1473\n",
       "Date of production        1012\n",
       "Date of use                938\n",
       "Date of issue              858\n",
       "Date acquired by donor     542\n",
       "Date acquired by NMA       453\n",
       "Date written               399\n",
       "Date of work               346\n",
       "Date compiled              201\n",
       "Date worn                  194\n",
       "Date drawn                 160\n",
       "Date of Event              139\n",
       "Date acquired              129\n",
       "Content created            120\n",
       "Date of purchase            78\n",
       "Date posted                 76\n",
       "Date awarded                75\n",
       "Date printed                68\n",
       "Date presented              66\n",
       "Production date             57\n",
       "Date designed               47\n",
       "Date of death               24\n",
       "Date painted                20\n",
       "Date of restoration         18\n",
       "Date of conversion          14\n",
       "Date reprinted              12\n",
       "Date of correspondence      10\n",
       "Date of patent               9\n",
       "Date of birth                9\n",
       "Date built                   9\n",
       "Date of Publication          7\n",
       "date created                 6\n",
       "date of publication          5\n",
       "Date of Production           4\n",
       "Date Acquired                4\n",
       "date of production           2\n",
       "Date of Correspondence       2\n",
       "date painted                 1\n",
       "Date reproduced              1\n",
       "Date of Work                 1\n",
       "Date repographed             1\n",
       "date made                    1\n",
       "Associated Period            1\n",
       "Period of Use                1\n",
       "date of correspondence       1\n",
       "Name: temporal_roleName, dtype: int64"
      ]
     },
     "execution_count": 12,
     "metadata": {},
     "output_type": "execute_result"
    }
   ],
   "source": [
    "df_dates['temporal_roleName'].value_counts()"
   ]
  },
  {
   "cell_type": "markdown",
   "metadata": {},
   "source": [
    "Hmmm, you can see that data entry into this field wasn't closely controlled – there are a number of minor variations in capitalisation, format and word order. For example, we have: 'Date of production', 'Date of Production', 'Production date', and 'date of production'!\n",
    "\n",
    "Some normalisation has taken place though, because of the creation and production related events can be identified through the `temporal_interactionType` field. What sorts of values does it contain?"
   ]
  },
  {
   "cell_type": "code",
   "execution_count": 13,
   "metadata": {},
   "outputs": [
    {
     "data": {
      "text/plain": [
       "Production    17870\n",
       "Name: temporal_interactionType, dtype: int64"
      ]
     },
     "execution_count": 13,
     "metadata": {},
     "output_type": "execute_result"
    }
   ],
   "source": [
    "df_dates['temporal_interactionType'].value_counts()"
   ]
  },
  {
   "cell_type": "markdown",
   "metadata": {},
   "source": [
    "There's only one value – 'Production'. According to the [documentation](https://github.com/NationalMuseumAustralia/Collection-API/wiki/Searching-the-API#retrieving-objects-by-date-place-or-party), a value of 'Production' in `interactionType` indicates the event was related to the creation of the item. Let's look to see which of the values in `roleName` have been aggregated by the 'Production' value."
   ]
  },
  {
   "cell_type": "code",
   "execution_count": 14,
   "metadata": {},
   "outputs": [
    {
     "data": {
      "text/plain": [
       "Date of publication       5009\n",
       "Date made                 3908\n",
       "Date photographed         1758\n",
       "Date created              1473\n",
       "Date of production        1012\n",
       "Date of issue              675\n",
       "Date written               399\n",
       "Date of work               321\n",
       "Date compiled              201\n",
       "Date drawn                 160\n",
       "Content created            120\n",
       "Date posted                 76\n",
       "Date printed                68\n",
       "Production date             57\n",
       "Date designed               47\n",
       "Date painted                20\n",
       "Date of restoration         18\n",
       "Date of conversion          14\n",
       "Date reprinted              12\n",
       "Date of correspondence      10\n",
       "Date of patent               9\n",
       "Date of Publication          7\n",
       "date created                 6\n",
       "date of publication          5\n",
       "Date of Production           4\n",
       "date of production           2\n",
       "Date of Correspondence       2\n",
       "Date of Work                 1\n",
       "Date repographed             1\n",
       "Date reproduced              1\n",
       "date of correspondence       1\n",
       "date painted                 1\n",
       "date made                    1\n",
       "Name: temporal_roleName, dtype: int64"
      ]
     },
     "execution_count": 14,
     "metadata": {},
     "output_type": "execute_result"
    }
   ],
   "source": [
    "df_dates.loc[(df_dates['temporal_interactionType'] == 'Production')]['temporal_roleName'].value_counts()"
   ]
  },
  {
   "cell_type": "markdown",
   "metadata": {},
   "source": [
    "So the `temporal_interactionType` field helps us find all the creation-related events without dealing with the variations in the ways event types are described. Yay for normalisation!"
   ]
  },
  {
   "cell_type": "markdown",
   "metadata": {},
   "source": [
    "## Creation dates"
   ]
  },
  {
   "cell_type": "markdown",
   "metadata": {},
   "source": [
    "Let's create a dataframe that contains just the creation dates."
   ]
  },
  {
   "cell_type": "code",
   "execution_count": 15,
   "metadata": {},
   "outputs": [],
   "source": [
    "df_creation_dates = df_dates.loc[(df_dates['temporal_interactionType'] == 'Production')].copy()"
   ]
  },
  {
   "cell_type": "code",
   "execution_count": 16,
   "metadata": {},
   "outputs": [
    {
     "data": {
      "text/plain": [
       "(17870, 12)"
      ]
     },
     "execution_count": 16,
     "metadata": {},
     "output_type": "execute_result"
    }
   ],
   "source": [
    "df_creation_dates.shape"
   ]
  },
  {
   "cell_type": "markdown",
   "metadata": {},
   "source": [
    "One other thing to note is that not every event has a start date. Some just have an end date. To make sure we have at least one date for every event, let's create a new `year` column – we'll set its value to `start_year` if it exists, or `end_year` if not."
   ]
  },
  {
   "cell_type": "code",
   "execution_count": 17,
   "metadata": {},
   "outputs": [],
   "source": [
    "df_creation_dates['year'] = df_creation_dates.apply(lambda x: x['start_year'] if x['start_year'] else x['end_year'], axis=1)"
   ]
  },
  {
   "cell_type": "markdown",
   "metadata": {},
   "source": [
    "Time to make a chart! Let's show how the creation events are distributed over time."
   ]
  },
  {
   "cell_type": "code",
   "execution_count": 18,
   "metadata": {},
   "outputs": [
    {
     "data": {
      "application/vnd.vegalite.v3+json": {
       "$schema": "https://vega.github.io/schema/vega-lite/v3.4.0.json",
       "config": {
        "mark": {
         "tooltip": null
        },
        "view": {
         "height": 300,
         "width": 400
        }
       },
       "data": {
        "format": {
         "type": "json"
        },
        "url": "altair-data-bf89ce283e80482668874f1fd5efdd40.json"
       },
       "encoding": {
        "tooltip": [
         {
          "field": "year",
          "title": "Year",
          "type": "quantitative"
         },
         {
          "aggregate": "count",
          "format": ",",
          "title": "Objects",
          "type": "quantitative"
         }
        ],
        "x": {
         "axis": {
          "format": "c",
          "title": "Year of production"
         },
         "field": "year",
         "type": "quantitative"
        },
        "y": {
         "aggregate": "count",
         "title": "Number of objects",
         "type": "quantitative"
        }
       },
       "mark": {
        "size": 2,
        "type": "bar"
       },
       "width": 700
      },
      "image/png": "[encoded data removed]",
      "text/plain": [
       "<VegaLite 3 object>\n",
       "\n",
       "If you see this message, it means the renderer has not been properly enabled\n",
       "for the frontend that you are using. For more information, see\n",
       "https://altair-viz.github.io/user_guide/troubleshooting.html\n"
      ]
     },
     "execution_count": 18,
     "metadata": {},
     "output_type": "execute_result"
    }
   ],
   "source": [
    "# Create a bar chart (limit to years greater than 0)\n",
    "alt.Chart(df_creation_dates.loc[df_creation_dates['year'] > 0]).mark_bar(size=2).encode(\n",
    "    \n",
    "    # Year on the X axis\n",
    "    x=alt.X('year:Q', axis=alt.Axis(format='c', title='Year of production')),\n",
    "    \n",
    "    # Number of objects on the Y axis\n",
    "    y=alt.Y('count()', title='Number of objects'),\n",
    "    \n",
    "    # Show details on hover\n",
    "    tooltip=[alt.Tooltip('year:Q', title='Year'), alt.Tooltip('count():Q', title='Objects', format=',')]\n",
    ").properties(width=700)"
   ]
  },
  {
   "cell_type": "markdown",
   "metadata": {},
   "source": [
    "Ok, so something interesting was happening in 1980 and 1913. Let's see if we can find out what."
   ]
  },
  {
   "cell_type": "markdown",
   "metadata": {},
   "source": [
    "In another notebook I showed how you can [use the `additionalType` column](exploring_object_records.ipynb#The-additionalType-field) to find out about the types of things in the collection. Let's use it to see what types of objects were created in 1980.\n",
    "\n",
    "Let's explode `additionalType` and create a new dataframe with the results!"
   ]
  },
  {
   "cell_type": "code",
   "execution_count": 19,
   "metadata": {},
   "outputs": [
    {
     "data": {
      "text/html": [
       "<div>\n",
       "<style scoped>\n",
       "    .dataframe tbody tr th:only-of-type {\n",
       "        vertical-align: middle;\n",
       "    }\n",
       "\n",
       "    .dataframe tbody tr th {\n",
       "        vertical-align: top;\n",
       "    }\n",
       "\n",
       "    .dataframe thead th {\n",
       "        text-align: right;\n",
       "    }\n",
       "</style>\n",
       "<table border=\"1\" class=\"dataframe\">\n",
       "  <thead>\n",
       "    <tr style=\"text-align: right;\">\n",
       "      <th></th>\n",
       "      <th>id</th>\n",
       "      <th>title</th>\n",
       "      <th>year</th>\n",
       "      <th>additionalType</th>\n",
       "    </tr>\n",
       "  </thead>\n",
       "  <tbody>\n",
       "    <tr>\n",
       "      <th>0</th>\n",
       "      <td>195843</td>\n",
       "      <td>Reproduction cartoon titled 'Better than the b...</td>\n",
       "      <td>2009</td>\n",
       "      <td>Cartoons</td>\n",
       "    </tr>\n",
       "    <tr>\n",
       "      <th>5</th>\n",
       "      <td>59924</td>\n",
       "      <td>Walka design from Ernabella</td>\n",
       "      <td>1954</td>\n",
       "      <td>Acrylic paintings</td>\n",
       "    </tr>\n",
       "    <tr>\n",
       "      <th>8</th>\n",
       "      <td>33064</td>\n",
       "      <td>Wonderland city, Sydney</td>\n",
       "      <td>1906</td>\n",
       "      <td>Photographic postcards</td>\n",
       "    </tr>\n",
       "    <tr>\n",
       "      <th>10</th>\n",
       "      <td>19877</td>\n",
       "      <td>Cylindrical hollow wood pipe with protruding bowl</td>\n",
       "      <td>1973</td>\n",
       "      <td>Smoking pipes</td>\n",
       "    </tr>\n",
       "    <tr>\n",
       "      <th>12</th>\n",
       "      <td>124027</td>\n",
       "      <td>Oak oil stone</td>\n",
       "      <td>1790</td>\n",
       "      <td>Sharpening stones</td>\n",
       "    </tr>\n",
       "  </tbody>\n",
       "</table>\n",
       "</div>"
      ],
      "text/plain": [
       "        id                                              title  year  \\\n",
       "0   195843  Reproduction cartoon titled 'Better than the b...  2009   \n",
       "5    59924                        Walka design from Ernabella  1954   \n",
       "8    33064                            Wonderland city, Sydney  1906   \n",
       "10   19877  Cylindrical hollow wood pipe with protruding bowl  1973   \n",
       "12  124027                                      Oak oil stone  1790   \n",
       "\n",
       "            additionalType  \n",
       "0                 Cartoons  \n",
       "5        Acrylic paintings  \n",
       "8   Photographic postcards  \n",
       "10           Smoking pipes  \n",
       "12       Sharpening stones  "
      ]
     },
     "execution_count": 19,
     "metadata": {},
     "output_type": "execute_result"
    }
   ],
   "source": [
    "df_creation_dates_types = df_creation_dates.loc[df_creation_dates['additionalType'].notnull()][['id', 'title', 'year', 'additionalType']].explode('additionalType')\n",
    "df_creation_dates_types.head()"
   ]
  },
  {
   "cell_type": "markdown",
   "metadata": {},
   "source": [
    "Now we can filter by year to see what types of things were created in 1980."
   ]
  },
  {
   "cell_type": "code",
   "execution_count": 20,
   "metadata": {},
   "outputs": [
    {
     "data": {
      "text/html": [
       "<div>\n",
       "<style scoped>\n",
       "    .dataframe tbody tr th:only-of-type {\n",
       "        vertical-align: middle;\n",
       "    }\n",
       "\n",
       "    .dataframe tbody tr th {\n",
       "        vertical-align: top;\n",
       "    }\n",
       "\n",
       "    .dataframe thead th {\n",
       "        text-align: right;\n",
       "    }\n",
       "</style>\n",
       "<table border=\"1\" class=\"dataframe\">\n",
       "  <thead>\n",
       "    <tr style=\"text-align: right;\">\n",
       "      <th></th>\n",
       "      <th>id</th>\n",
       "      <th>title</th>\n",
       "      <th>year</th>\n",
       "      <th>additionalType</th>\n",
       "    </tr>\n",
       "  </thead>\n",
       "  <tbody>\n",
       "    <tr>\n",
       "      <th>16</th>\n",
       "      <td>166857</td>\n",
       "      <td>Spergularia media</td>\n",
       "      <td>1980</td>\n",
       "      <td>Mounts</td>\n",
       "    </tr>\n",
       "    <tr>\n",
       "      <th>30</th>\n",
       "      <td>166711</td>\n",
       "      <td>Ipomea aquatica Convolvulaceae</td>\n",
       "      <td>1980</td>\n",
       "      <td>Engravings</td>\n",
       "    </tr>\n",
       "    <tr>\n",
       "      <th>52</th>\n",
       "      <td>166367</td>\n",
       "      <td>Persoonia levis</td>\n",
       "      <td>1980</td>\n",
       "      <td>Engravings</td>\n",
       "    </tr>\n",
       "    <tr>\n",
       "      <th>91</th>\n",
       "      <td>166221</td>\n",
       "      <td>Centranthera cochinchinensis</td>\n",
       "      <td>1980</td>\n",
       "      <td>Engravings</td>\n",
       "    </tr>\n",
       "    <tr>\n",
       "      <th>102</th>\n",
       "      <td>165539</td>\n",
       "      <td>Triumfetta repens</td>\n",
       "      <td>1980</td>\n",
       "      <td>Engravings</td>\n",
       "    </tr>\n",
       "  </tbody>\n",
       "</table>\n",
       "</div>"
      ],
      "text/plain": [
       "         id                           title  year additionalType\n",
       "16   166857               Spergularia media  1980         Mounts\n",
       "30   166711  Ipomea aquatica Convolvulaceae  1980     Engravings\n",
       "52   166367                 Persoonia levis  1980     Engravings\n",
       "91   166221    Centranthera cochinchinensis  1980     Engravings\n",
       "102  165539               Triumfetta repens  1980     Engravings"
      ]
     },
     "execution_count": 20,
     "metadata": {},
     "output_type": "execute_result"
    }
   ],
   "source": [
    "created_1980 = df_creation_dates_types.loc[df_creation_dates_types['year'] == 1980]\n",
    "created_1980.head()"
   ]
  },
  {
   "cell_type": "markdown",
   "metadata": {},
   "source": [
    "Let's look at the top twenty types of things created in 1980!"
   ]
  },
  {
   "cell_type": "code",
   "execution_count": 21,
   "metadata": {},
   "outputs": [
    {
     "data": {
      "text/plain": [
       "Engravings             1486\n",
       "Mounts                  743\n",
       "Folders                 100\n",
       "Lists                    42\n",
       "Notes                    36\n",
       "Boxes                    35\n",
       "Technical notes          34\n",
       "Paintings                 5\n",
       "Cartoons                  5\n",
       "Placards                  3\n",
       "Journals                  3\n",
       "Storybooks                2\n",
       "Advertising posters       2\n",
       "Botanical drawings        2\n",
       "Books                     2\n",
       "Jugs                      2\n",
       "Passes                    2\n",
       "Textbooks                 2\n",
       "Squares                   1\n",
       "Medallions                1\n",
       "Name: additionalType, dtype: int64"
      ]
     },
     "execution_count": 21,
     "metadata": {},
     "output_type": "execute_result"
    }
   ],
   "source": [
    "created_1980['additionalType'].value_counts()[:20]"
   ]
  },
  {
   "cell_type": "markdown",
   "metadata": {},
   "source": [
    "So the vast majority are either 'Engravings' or 'Mounts'. Let's look at one of the 'Engravings' in more detail."
   ]
  },
  {
   "cell_type": "code",
   "execution_count": 22,
   "metadata": {},
   "outputs": [
    {
     "data": {
      "text/html": [
       "<div>\n",
       "<style scoped>\n",
       "    .dataframe tbody tr th:only-of-type {\n",
       "        vertical-align: middle;\n",
       "    }\n",
       "\n",
       "    .dataframe tbody tr th {\n",
       "        vertical-align: top;\n",
       "    }\n",
       "\n",
       "    .dataframe thead th {\n",
       "        text-align: right;\n",
       "    }\n",
       "</style>\n",
       "<table border=\"1\" class=\"dataframe\">\n",
       "  <thead>\n",
       "    <tr style=\"text-align: right;\">\n",
       "      <th></th>\n",
       "      <th>id</th>\n",
       "      <th>title</th>\n",
       "      <th>year</th>\n",
       "      <th>additionalType</th>\n",
       "    </tr>\n",
       "  </thead>\n",
       "  <tbody>\n",
       "    <tr>\n",
       "      <th>30</th>\n",
       "      <td>166711</td>\n",
       "      <td>Ipomea aquatica Convolvulaceae</td>\n",
       "      <td>1980</td>\n",
       "      <td>Engravings</td>\n",
       "    </tr>\n",
       "    <tr>\n",
       "      <th>52</th>\n",
       "      <td>166367</td>\n",
       "      <td>Persoonia levis</td>\n",
       "      <td>1980</td>\n",
       "      <td>Engravings</td>\n",
       "    </tr>\n",
       "    <tr>\n",
       "      <th>91</th>\n",
       "      <td>166221</td>\n",
       "      <td>Centranthera cochinchinensis</td>\n",
       "      <td>1980</td>\n",
       "      <td>Engravings</td>\n",
       "    </tr>\n",
       "    <tr>\n",
       "      <th>102</th>\n",
       "      <td>165539</td>\n",
       "      <td>Triumfetta repens</td>\n",
       "      <td>1980</td>\n",
       "      <td>Engravings</td>\n",
       "    </tr>\n",
       "    <tr>\n",
       "      <th>121</th>\n",
       "      <td>167685</td>\n",
       "      <td>Lecanthus solandri</td>\n",
       "      <td>1980</td>\n",
       "      <td>Engravings</td>\n",
       "    </tr>\n",
       "  </tbody>\n",
       "</table>\n",
       "</div>"
      ],
      "text/plain": [
       "         id                           title  year additionalType\n",
       "30   166711  Ipomea aquatica Convolvulaceae  1980     Engravings\n",
       "52   166367                 Persoonia levis  1980     Engravings\n",
       "91   166221    Centranthera cochinchinensis  1980     Engravings\n",
       "102  165539               Triumfetta repens  1980     Engravings\n",
       "121  167685              Lecanthus solandri  1980     Engravings"
      ]
     },
     "execution_count": 22,
     "metadata": {},
     "output_type": "execute_result"
    }
   ],
   "source": [
    "# Filter by Engravings\n",
    "created_1980.loc[created_1980['additionalType'] == 'Engravings'].head()"
   ]
  },
  {
   "cell_type": "code",
   "execution_count": 23,
   "metadata": {},
   "outputs": [
    {
     "data": {
      "text/html": [
       "<a href=\"http://collectionsearch.nma.gov.au/?object=166711\">Ipomea aquatica Convolvulaceae</a>"
      ],
      "text/plain": [
       "<IPython.core.display.HTML object>"
      ]
     },
     "metadata": {},
     "output_type": "display_data"
    }
   ],
   "source": [
    "# Get the first item\n",
    "item = created_1980.loc[created_1980['additionalType'] == 'Engravings'].iloc[0]\n",
    "\n",
    "# Create a link to the collection db\n",
    "display(HTML('<a href=\"http://collectionsearch.nma.gov.au/?object={}\">{}</a>'.format(item['id'], item['title'])))"
   ]
  },
  {
   "cell_type": "markdown",
   "metadata": {},
   "source": [
    "If you follow the link you'll find that the engravings were created for a new publication of Banks' *Florilegium*.\n",
    "\n",
    "Can you repeat this process to find out what happened in 1913?"
   ]
  },
  {
   "cell_type": "markdown",
   "metadata": {},
   "source": [
    "## Creation dates by object type\n",
    "\n",
    "Now that we have a dataframe that combines creation dates with object types, we can look at how the creation of particular object types changes over time. For example let's look at 'Photographs' and 'Postcards'."
   ]
  },
  {
   "cell_type": "code",
   "execution_count": 24,
   "metadata": {},
   "outputs": [
    {
     "data": {
      "application/vnd.vegalite.v3+json": {
       "$schema": "https://vega.github.io/schema/vega-lite/v3.4.0.json",
       "config": {
        "mark": {
         "tooltip": null
        },
        "view": {
         "height": 300,
         "width": 400
        }
       },
       "data": {
        "format": {
         "type": "json"
        },
        "url": "altair-data-4d1449042762613d6ae3e3b6fb606167.json"
       },
       "encoding": {
        "color": {
         "field": "additionalType",
         "type": "nominal"
        },
        "tooltip": [
         {
          "field": "additionalType",
          "title": "Type",
          "type": "nominal"
         },
         {
          "field": "year",
          "title": "Year",
          "type": "quantitative"
         },
         {
          "aggregate": "count",
          "format": ",",
          "title": "Objects",
          "type": "quantitative"
         }
        ],
        "x": {
         "axis": {
          "format": "c",
          "title": "Year of production"
         },
         "field": "year",
         "type": "quantitative"
        },
        "y": {
         "aggregate": "count",
         "title": "Number of objects",
         "type": "quantitative"
        }
       },
       "mark": {
        "size": 3,
        "type": "bar"
       },
       "width": 700
      },
      "image/png": "[encoded data removed]",
      "text/plain": [
       "<VegaLite 3 object>\n",
       "\n",
       "If you see this message, it means the renderer has not been properly enabled\n",
       "for the frontend that you are using. For more information, see\n",
       "https://altair-viz.github.io/user_guide/troubleshooting.html\n"
      ]
     },
     "execution_count": 24,
     "metadata": {},
     "output_type": "execute_result"
    }
   ],
   "source": [
    "# Create a dataframe containing just Photographs and Postcards -- use .isin() to filter the additionalType field\n",
    "df_photos_postcards = df_creation_dates_types.loc[(df_creation_dates_types['year'] > 0) & (df_creation_dates_types['additionalType'].isin(['Photographs', 'Postcards']))]\n",
    "\n",
    "# Create a stacked bar chart\n",
    "alt.Chart(df_photos_postcards).mark_bar(size=3).encode(\n",
    "    \n",
    "    # Year on the X axis\n",
    "    x=alt.X('year:Q', axis=alt.Axis(format='c', title='Year of production')),\n",
    "    \n",
    "    # Number of objects on the Y axis\n",
    "    y=alt.Y('count()', title='Number of objects'),\n",
    "    \n",
    "    # Color according to the type\n",
    "    color='additionalType:N',\n",
    "    \n",
    "    # Details on hover\n",
    "    tooltip=[alt.Tooltip('additionalType:N', title='Type'), alt.Tooltip('year:Q', title='Year'), alt.Tooltip('count():Q', title='Objects', format=',')]\n",
    ").properties(width=700)"
   ]
  },
  {
   "cell_type": "markdown",
   "metadata": {},
   "source": [
    "There's 1913 again... It's also interesting to see a shift from postcards to photos in the early decades of the 20th century.\n",
    "\n",
    "We could add additional types to this chart, but it will get a bit confusing. Let's try another way of charting changes in the creation of the most common object types over time.\n",
    "\n",
    "First we'll get the top twenty-five object types (which have creation dates) as a list."
   ]
  },
  {
   "cell_type": "code",
   "execution_count": 25,
   "metadata": {},
   "outputs": [
    {
     "data": {
      "text/plain": [
       "['Engravings',\n",
       " 'Bark paintings',\n",
       " 'Cartoons',\n",
       " 'Negatives',\n",
       " 'Mounts',\n",
       " 'Photographs',\n",
       " 'Paintings',\n",
       " 'Drawings',\n",
       " 'Prints',\n",
       " 'Acrylic paintings',\n",
       " 'Letters',\n",
       " 'Photographic postcards',\n",
       " 'Books',\n",
       " 'Photographic slides',\n",
       " 'Courtroom drawings',\n",
       " 'Glass plate negatives',\n",
       " 'Postcards',\n",
       " 'Cards',\n",
       " 'Botanical specimens',\n",
       " 'Prize certificates',\n",
       " 'Collecting cards',\n",
       " 'Sculptures',\n",
       " 'Telegrams',\n",
       " 'Portrait photographs',\n",
       " 'Posters']"
      ]
     },
     "execution_count": 25,
     "metadata": {},
     "output_type": "execute_result"
    }
   ],
   "source": [
    "# Get most common 25 values and convert to a list\n",
    "top_types = df_creation_dates_types['additionalType'].value_counts()[:25].index.to_list()\n",
    "top_types"
   ]
  },
  {
   "cell_type": "markdown",
   "metadata": {},
   "source": [
    "Now we'll use the list of `top_types` to filter the creation dates, so we only have events relating to those types og objects."
   ]
  },
  {
   "cell_type": "code",
   "execution_count": 26,
   "metadata": {},
   "outputs": [],
   "source": [
    "# Only include records where the additionalType value is in the list of top_types\n",
    "df_top_types = df_creation_dates_types.loc[(df_creation_dates_types['year'] > 0) & (df_creation_dates_types['additionalType'].isin(top_types))]"
   ]
  },
  {
   "cell_type": "markdown",
   "metadata": {},
   "source": [
    "To chart this data we're going to use circles for each point and create 'bubble lines' for each object type to show how the number of objects created varied year by year."
   ]
  },
  {
   "cell_type": "code",
   "execution_count": 27,
   "metadata": {},
   "outputs": [
    {
     "data": {
      "application/vnd.vegalite.v3+json": {
       "$schema": "https://vega.github.io/schema/vega-lite/v3.4.0.json",
       "config": {
        "mark": {
         "tooltip": null
        },
        "view": {
         "height": 300,
         "width": 400
        }
       },
       "data": {
        "format": {
         "type": "json"
        },
        "url": "altair-data-6caaf2cff4ed7e82fc38e45f8dd6e0a9.json"
       },
       "encoding": {
        "color": {
         "field": "additionalType",
         "legend": null,
         "type": "nominal"
        },
        "size": {
         "aggregate": "count",
         "legend": {
          "title": "Number of objects"
         },
         "scale": {
          "range": [
           0,
           2000
          ]
         },
         "type": "quantitative"
        },
        "tooltip": [
         {
          "field": "additionalType",
          "title": "Type",
          "type": "nominal"
         },
         {
          "field": "year",
          "title": "Year",
          "type": "ordinal"
         },
         {
          "aggregate": "count",
          "format": ",",
          "title": "Objects",
          "type": "quantitative"
         }
        ],
        "x": {
         "axis": {
          "format": "c",
          "labelAngle": 0,
          "title": "Year of production"
         },
         "field": "year",
         "type": "ordinal"
        },
        "y": {
         "field": "additionalType",
         "title": "Object type",
         "type": "nominal"
        }
       },
       "mark": {
        "opacity": 0.8,
        "stroke": "black",
        "strokeWidth": 1,
        "type": "circle"
       },
       "width": 700
      },
      "image/png": "[encoded data removed]",
      "text/plain": [
       "<VegaLite 3 object>\n",
       "\n",
       "If you see this message, it means the renderer has not been properly enabled\n",
       "for the frontend that you are using. For more information, see\n",
       "https://altair-viz.github.io/user_guide/troubleshooting.html\n"
      ]
     },
     "execution_count": 27,
     "metadata": {},
     "output_type": "execute_result"
    }
   ],
   "source": [
    "# Create a chart\n",
    "alt.Chart(df_top_types).mark_circle(\n",
    "    \n",
    "    # Style the circles\n",
    "    opacity=0.8,\n",
    "    stroke='black',\n",
    "    strokeWidth=1\n",
    ").encode(\n",
    "    \n",
    "    # Year on the X axis\n",
    "    x=alt.X('year:O', axis=alt.Axis(format='c', title='Year of production', labelAngle=0)),\n",
    "    \n",
    "    # Object type on the Y axis\n",
    "    y=alt.Y('additionalType:N', title='Object type'),\n",
    "    \n",
    "    # Size of the circles represents the number of objects\n",
    "    size=alt.Size('count():Q',\n",
    "        scale=alt.Scale(range=[0, 2000]),\n",
    "        legend=alt.Legend(title='Number of objects')\n",
    "    ),\n",
    "    \n",
    "    # Color the circles by object type\n",
    "    color=alt.Color('additionalType:N', legend=None),\n",
    "    \n",
    "    # More details on hover\n",
    "    tooltip=[alt.Tooltip('additionalType:N', title='Type'), alt.Tooltip('year:O', title='Year'), alt.Tooltip('count():Q', title='Objects', format=',')]\n",
    ").properties(\n",
    "    width=700\n",
    ")"
   ]
  },
  {
   "cell_type": "markdown",
   "metadata": {},
   "source": [
    "What patterns can you see? Hover over the cricles for more information. Once again the engravings dominate, but also look at the bark paintings and cartoons, what might be happening there?"
   ]
  },
  {
   "cell_type": "markdown",
   "metadata": {},
   "source": [
    "----\n",
    "\n",
    "Created by [Tim Sherratt](https://timsherratt.org/) for the [GLAM Workbench](https://glam-workbench.github.io/).\n",
    "\n",
    "Work on this notebook was supported by the [Humanities, Arts and Social Sciences (HASS) Data Enhanced Virtual Lab](https://tinker.edu.au/)."
   ]
  }
 ],
 "metadata": {
  "kernelspec": {
   "display_name": "Python 3",
   "language": "python",
   "name": "python3"
  },
  "language_info": {
   "codemirror_mode": {
    "name": "ipython",
    "version": 3
   },
   "file_extension": ".py",
   "mimetype": "text/x-python",
   "name": "python",
   "nbconvert_exporter": "python",
   "pygments_lexer": "ipython3",
   "version": "3.7.3"
  }
 },
 "nbformat": 4,
 "nbformat_minor": 4
}
